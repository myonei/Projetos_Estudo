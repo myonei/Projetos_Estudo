{
 "cells": [
  {
   "cell_type": "markdown",
   "id": "3c128cae",
   "metadata": {},
   "source": [
    "# Airline passenger satisfaction EDA + Prediction\n",
    "### EN version\n",
    "\n",
    "Disclaimer: Please note that this a more concise version of the pt-Br ver. Also, The way of explaining the whole process will have some differences as well."
   ]
  },
  {
   "cell_type": "markdown",
   "id": "2dd713cf",
   "metadata": {},
   "source": [
    "### Dataset content\n",
    "\n",
    "| Feature | Detalhes |\n",
    "| -: | :- |\n",
    "|**Gender**| Gender of the passengers (Female, Male)|\n",
    "|**Customer Type**| The customer type (Loyal customer, disloyal customer)\n",
    "|**Age**| The actual age of the passengers\n",
    "|**Type of Travel**| Purpose of the flight of the passengers (Personal Travel, Business Travel)\n",
    "|**Class**| Travel class in the plane of the passengers (Business, Eco, Eco Plus)\n",
    "|**Flight distance**| The flight distance of this journey\n",
    "|**Inflight wifi service**|Satisfaction level of the inflight wifi service (0:Not Applicable;1-5)\n",
    "|**Departure/Arrival time convenient**| Satisfaction level of Departure/Arrival time convenient\n",
    "|**Ease of Online booking**| Satisfaction level of online booking\n",
    "|**Gate location**| Satisfaction level of Gate location\n",
    "|**Food and drink**| Satisfaction level of Food and drink\n",
    "|**Online boarding**| Satisfaction level of online boarding\n",
    "|**Seat comfort**| Satisfaction level of Seat comfort\n",
    "|**Inflight entertainment**| Satisfaction level of inflight entertainment\n",
    "|**On-board service**| Satisfaction level of On-board service\n",
    "|**Leg room service**| Satisfaction level of Leg room service\n",
    "|**Baggage handling**| Satisfaction level of baggage handling\n",
    "|**Check-in service**| Satisfaction level of Check-in service\n",
    "|**Inflight service**| Satisfaction level of inflight service\n",
    "|**Cleanliness**| Satisfaction level of Cleanliness\n",
    "|**Departure Delay in Minutes**| Minutes delayed when departure\n",
    "|**Arrival Delay in Minutes**|  Minutes delayed when Arrival\n",
    "|**Satisfaction**| Airline satisfaction level(Satisfaction, neutral or dissatisfaction)\n",
    "\n",
    "Source: https://www.kaggle.com/datasets/teejmahal20/airline-passenger-satisfaction\n"
   ]
  },
  {
   "cell_type": "markdown",
   "id": "eda64986",
   "metadata": {},
   "source": [
    "### Context and goal\n",
    "\n",
    "Define which key factors are most correlated with a passenger's satisfaction and come up with a model that can predict a passenger's satisfaction.\n",
    "\n",
    "To define the level of passenger satisfaction, we will use the following classes:\n",
    "\n",
    "   **0**: Neutral or dissatisfaction <br>\n",
    "   **1**: Satisfaction"
   ]
  },
  {
   "cell_type": "code",
   "execution_count": 1,
   "id": "acd556f3",
   "metadata": {
    "ExecuteTime": {
     "end_time": "2022-12-01T11:44:39.255788Z",
     "start_time": "2022-12-01T11:44:08.563943Z"
    }
   },
   "outputs": [],
   "source": [
    "#Import libraries\n",
    "\n",
    "import numpy as np\n",
    "import pandas as pd\n",
    "\n",
    "import matplotlib.pyplot as plt\n",
    "import seaborn as sns\n",
    "\n",
    "from sklearn.pipeline import Pipeline\n",
    "from sklearn.preprocessing import StandardScaler, OneHotEncoder\n",
    "from sklearn.linear_model import LogisticRegression\n",
    "from sklearn.compose import ColumnTransformer\n",
    "from sklearn.decomposition import PCA\n",
    "from sklearn.metrics import ConfusionMatrixDisplay, classification_report\n",
    "from sklearn.ensemble import RandomForestClassifier\n",
    "from sklearn.tree import DecisionTreeClassifier\n",
    "from sklearn.svm import SVC\n",
    "from sklearn.neighbors import KNeighborsClassifier\n",
    "from sklearn.model_selection import GridSearchCV, RandomizedSearchCV, StratifiedKFold\n",
    "from sklearn.model_selection import train_test_split\n",
    "from sklearn.impute import SimpleImputer\n",
    "\n",
    "from xgboost import XGBClassifier\n",
    "from lightgbm import LGBMClassifier\n",
    "\n",
    "import tensorflow as tf\n",
    "from tensorflow.keras.models import Sequential\n",
    "from tensorflow.keras.layers import Dense, LeakyReLU\n",
    "from tensorflow.keras.activations import linear, relu, sigmoid\n",
    "from scikeras.wrappers import KerasClassifier\n",
    "from tensorflow.keras.callbacks import EarlyStopping\n"
   ]
  },
  {
   "cell_type": "markdown",
   "id": "1566d12b",
   "metadata": {},
   "source": [
    "## Importing data\n",
    "\n",
    "Please note that is provided a dataset for training and another dataset for test. For the exploratory data analysis part, we will use only the training dataset"
   ]
  },
  {
   "cell_type": "code",
   "execution_count": 3,
   "id": "a39c60b1",
   "metadata": {
    "ExecuteTime": {
     "end_time": "2022-12-01T11:46:06.647036Z",
     "start_time": "2022-12-01T11:46:06.312643Z"
    }
   },
   "outputs": [],
   "source": [
    "#Importing datasets train.csv and test.csv\n",
    "train = pd.read_csv('train.csv')\n",
    "test = pd.read_csv('test.csv')"
   ]
  },
  {
   "cell_type": "code",
   "execution_count": 4,
   "id": "9dfa06f3",
   "metadata": {
    "ExecuteTime": {
     "end_time": "2022-12-01T11:46:18.697488Z",
     "start_time": "2022-12-01T11:46:18.584034Z"
    }
   },
   "outputs": [
    {
     "data": {
      "text/html": [
       "<div>\n",
       "<style scoped>\n",
       "    .dataframe tbody tr th:only-of-type {\n",
       "        vertical-align: middle;\n",
       "    }\n",
       "\n",
       "    .dataframe tbody tr th {\n",
       "        vertical-align: top;\n",
       "    }\n",
       "\n",
       "    .dataframe thead th {\n",
       "        text-align: right;\n",
       "    }\n",
       "</style>\n",
       "<table border=\"1\" class=\"dataframe\">\n",
       "  <thead>\n",
       "    <tr style=\"text-align: right;\">\n",
       "      <th></th>\n",
       "      <th>Unnamed: 0</th>\n",
       "      <th>id</th>\n",
       "      <th>Gender</th>\n",
       "      <th>Customer Type</th>\n",
       "      <th>Age</th>\n",
       "      <th>Type of Travel</th>\n",
       "      <th>Class</th>\n",
       "      <th>Flight Distance</th>\n",
       "      <th>Inflight wifi service</th>\n",
       "      <th>Departure/Arrival time convenient</th>\n",
       "      <th>...</th>\n",
       "      <th>Inflight entertainment</th>\n",
       "      <th>On-board service</th>\n",
       "      <th>Leg room service</th>\n",
       "      <th>Baggage handling</th>\n",
       "      <th>Checkin service</th>\n",
       "      <th>Inflight service</th>\n",
       "      <th>Cleanliness</th>\n",
       "      <th>Departure Delay in Minutes</th>\n",
       "      <th>Arrival Delay in Minutes</th>\n",
       "      <th>satisfaction</th>\n",
       "    </tr>\n",
       "  </thead>\n",
       "  <tbody>\n",
       "    <tr>\n",
       "      <th>0</th>\n",
       "      <td>0</td>\n",
       "      <td>70172</td>\n",
       "      <td>Male</td>\n",
       "      <td>Loyal Customer</td>\n",
       "      <td>13</td>\n",
       "      <td>Personal Travel</td>\n",
       "      <td>Eco Plus</td>\n",
       "      <td>460</td>\n",
       "      <td>3</td>\n",
       "      <td>4</td>\n",
       "      <td>...</td>\n",
       "      <td>5</td>\n",
       "      <td>4</td>\n",
       "      <td>3</td>\n",
       "      <td>4</td>\n",
       "      <td>4</td>\n",
       "      <td>5</td>\n",
       "      <td>5</td>\n",
       "      <td>25</td>\n",
       "      <td>18.0</td>\n",
       "      <td>neutral or dissatisfied</td>\n",
       "    </tr>\n",
       "    <tr>\n",
       "      <th>1</th>\n",
       "      <td>1</td>\n",
       "      <td>5047</td>\n",
       "      <td>Male</td>\n",
       "      <td>disloyal Customer</td>\n",
       "      <td>25</td>\n",
       "      <td>Business travel</td>\n",
       "      <td>Business</td>\n",
       "      <td>235</td>\n",
       "      <td>3</td>\n",
       "      <td>2</td>\n",
       "      <td>...</td>\n",
       "      <td>1</td>\n",
       "      <td>1</td>\n",
       "      <td>5</td>\n",
       "      <td>3</td>\n",
       "      <td>1</td>\n",
       "      <td>4</td>\n",
       "      <td>1</td>\n",
       "      <td>1</td>\n",
       "      <td>6.0</td>\n",
       "      <td>neutral or dissatisfied</td>\n",
       "    </tr>\n",
       "    <tr>\n",
       "      <th>2</th>\n",
       "      <td>2</td>\n",
       "      <td>110028</td>\n",
       "      <td>Female</td>\n",
       "      <td>Loyal Customer</td>\n",
       "      <td>26</td>\n",
       "      <td>Business travel</td>\n",
       "      <td>Business</td>\n",
       "      <td>1142</td>\n",
       "      <td>2</td>\n",
       "      <td>2</td>\n",
       "      <td>...</td>\n",
       "      <td>5</td>\n",
       "      <td>4</td>\n",
       "      <td>3</td>\n",
       "      <td>4</td>\n",
       "      <td>4</td>\n",
       "      <td>4</td>\n",
       "      <td>5</td>\n",
       "      <td>0</td>\n",
       "      <td>0.0</td>\n",
       "      <td>satisfied</td>\n",
       "    </tr>\n",
       "    <tr>\n",
       "      <th>3</th>\n",
       "      <td>3</td>\n",
       "      <td>24026</td>\n",
       "      <td>Female</td>\n",
       "      <td>Loyal Customer</td>\n",
       "      <td>25</td>\n",
       "      <td>Business travel</td>\n",
       "      <td>Business</td>\n",
       "      <td>562</td>\n",
       "      <td>2</td>\n",
       "      <td>5</td>\n",
       "      <td>...</td>\n",
       "      <td>2</td>\n",
       "      <td>2</td>\n",
       "      <td>5</td>\n",
       "      <td>3</td>\n",
       "      <td>1</td>\n",
       "      <td>4</td>\n",
       "      <td>2</td>\n",
       "      <td>11</td>\n",
       "      <td>9.0</td>\n",
       "      <td>neutral or dissatisfied</td>\n",
       "    </tr>\n",
       "    <tr>\n",
       "      <th>4</th>\n",
       "      <td>4</td>\n",
       "      <td>119299</td>\n",
       "      <td>Male</td>\n",
       "      <td>Loyal Customer</td>\n",
       "      <td>61</td>\n",
       "      <td>Business travel</td>\n",
       "      <td>Business</td>\n",
       "      <td>214</td>\n",
       "      <td>3</td>\n",
       "      <td>3</td>\n",
       "      <td>...</td>\n",
       "      <td>3</td>\n",
       "      <td>3</td>\n",
       "      <td>4</td>\n",
       "      <td>4</td>\n",
       "      <td>3</td>\n",
       "      <td>3</td>\n",
       "      <td>3</td>\n",
       "      <td>0</td>\n",
       "      <td>0.0</td>\n",
       "      <td>satisfied</td>\n",
       "    </tr>\n",
       "  </tbody>\n",
       "</table>\n",
       "<p>5 rows × 25 columns</p>\n",
       "</div>"
      ],
      "text/plain": [
       "   Unnamed: 0      id  Gender      Customer Type  Age   Type of Travel  \\\n",
       "0           0   70172    Male     Loyal Customer   13  Personal Travel   \n",
       "1           1    5047    Male  disloyal Customer   25  Business travel   \n",
       "2           2  110028  Female     Loyal Customer   26  Business travel   \n",
       "3           3   24026  Female     Loyal Customer   25  Business travel   \n",
       "4           4  119299    Male     Loyal Customer   61  Business travel   \n",
       "\n",
       "      Class  Flight Distance  Inflight wifi service  \\\n",
       "0  Eco Plus              460                      3   \n",
       "1  Business              235                      3   \n",
       "2  Business             1142                      2   \n",
       "3  Business              562                      2   \n",
       "4  Business              214                      3   \n",
       "\n",
       "   Departure/Arrival time convenient  ...  Inflight entertainment  \\\n",
       "0                                  4  ...                       5   \n",
       "1                                  2  ...                       1   \n",
       "2                                  2  ...                       5   \n",
       "3                                  5  ...                       2   \n",
       "4                                  3  ...                       3   \n",
       "\n",
       "   On-board service  Leg room service  Baggage handling  Checkin service  \\\n",
       "0                 4                 3                 4                4   \n",
       "1                 1                 5                 3                1   \n",
       "2                 4                 3                 4                4   \n",
       "3                 2                 5                 3                1   \n",
       "4                 3                 4                 4                3   \n",
       "\n",
       "   Inflight service  Cleanliness  Departure Delay in Minutes  \\\n",
       "0                 5            5                          25   \n",
       "1                 4            1                           1   \n",
       "2                 4            5                           0   \n",
       "3                 4            2                          11   \n",
       "4                 3            3                           0   \n",
       "\n",
       "   Arrival Delay in Minutes             satisfaction  \n",
       "0                      18.0  neutral or dissatisfied  \n",
       "1                       6.0  neutral or dissatisfied  \n",
       "2                       0.0                satisfied  \n",
       "3                       9.0  neutral or dissatisfied  \n",
       "4                       0.0                satisfied  \n",
       "\n",
       "[5 rows x 25 columns]"
      ]
     },
     "execution_count": 4,
     "metadata": {},
     "output_type": "execute_result"
    }
   ],
   "source": [
    "train.head()"
   ]
  },
  {
   "cell_type": "code",
   "execution_count": 5,
   "id": "7b9d74c0",
   "metadata": {
    "ExecuteTime": {
     "end_time": "2022-12-01T11:46:28.516338Z",
     "start_time": "2022-12-01T11:46:28.495301Z"
    }
   },
   "outputs": [
    {
     "data": {
      "text/html": [
       "<div>\n",
       "<style scoped>\n",
       "    .dataframe tbody tr th:only-of-type {\n",
       "        vertical-align: middle;\n",
       "    }\n",
       "\n",
       "    .dataframe tbody tr th {\n",
       "        vertical-align: top;\n",
       "    }\n",
       "\n",
       "    .dataframe thead th {\n",
       "        text-align: right;\n",
       "    }\n",
       "</style>\n",
       "<table border=\"1\" class=\"dataframe\">\n",
       "  <thead>\n",
       "    <tr style=\"text-align: right;\">\n",
       "      <th></th>\n",
       "      <th>Unnamed: 0</th>\n",
       "      <th>id</th>\n",
       "      <th>Gender</th>\n",
       "      <th>Customer Type</th>\n",
       "      <th>Age</th>\n",
       "      <th>Type of Travel</th>\n",
       "      <th>Class</th>\n",
       "      <th>Flight Distance</th>\n",
       "      <th>Inflight wifi service</th>\n",
       "      <th>Departure/Arrival time convenient</th>\n",
       "      <th>...</th>\n",
       "      <th>Inflight entertainment</th>\n",
       "      <th>On-board service</th>\n",
       "      <th>Leg room service</th>\n",
       "      <th>Baggage handling</th>\n",
       "      <th>Checkin service</th>\n",
       "      <th>Inflight service</th>\n",
       "      <th>Cleanliness</th>\n",
       "      <th>Departure Delay in Minutes</th>\n",
       "      <th>Arrival Delay in Minutes</th>\n",
       "      <th>satisfaction</th>\n",
       "    </tr>\n",
       "  </thead>\n",
       "  <tbody>\n",
       "    <tr>\n",
       "      <th>0</th>\n",
       "      <td>0</td>\n",
       "      <td>19556</td>\n",
       "      <td>Female</td>\n",
       "      <td>Loyal Customer</td>\n",
       "      <td>52</td>\n",
       "      <td>Business travel</td>\n",
       "      <td>Eco</td>\n",
       "      <td>160</td>\n",
       "      <td>5</td>\n",
       "      <td>4</td>\n",
       "      <td>...</td>\n",
       "      <td>5</td>\n",
       "      <td>5</td>\n",
       "      <td>5</td>\n",
       "      <td>5</td>\n",
       "      <td>2</td>\n",
       "      <td>5</td>\n",
       "      <td>5</td>\n",
       "      <td>50</td>\n",
       "      <td>44.0</td>\n",
       "      <td>satisfied</td>\n",
       "    </tr>\n",
       "    <tr>\n",
       "      <th>1</th>\n",
       "      <td>1</td>\n",
       "      <td>90035</td>\n",
       "      <td>Female</td>\n",
       "      <td>Loyal Customer</td>\n",
       "      <td>36</td>\n",
       "      <td>Business travel</td>\n",
       "      <td>Business</td>\n",
       "      <td>2863</td>\n",
       "      <td>1</td>\n",
       "      <td>1</td>\n",
       "      <td>...</td>\n",
       "      <td>4</td>\n",
       "      <td>4</td>\n",
       "      <td>4</td>\n",
       "      <td>4</td>\n",
       "      <td>3</td>\n",
       "      <td>4</td>\n",
       "      <td>5</td>\n",
       "      <td>0</td>\n",
       "      <td>0.0</td>\n",
       "      <td>satisfied</td>\n",
       "    </tr>\n",
       "    <tr>\n",
       "      <th>2</th>\n",
       "      <td>2</td>\n",
       "      <td>12360</td>\n",
       "      <td>Male</td>\n",
       "      <td>disloyal Customer</td>\n",
       "      <td>20</td>\n",
       "      <td>Business travel</td>\n",
       "      <td>Eco</td>\n",
       "      <td>192</td>\n",
       "      <td>2</td>\n",
       "      <td>0</td>\n",
       "      <td>...</td>\n",
       "      <td>2</td>\n",
       "      <td>4</td>\n",
       "      <td>1</td>\n",
       "      <td>3</td>\n",
       "      <td>2</td>\n",
       "      <td>2</td>\n",
       "      <td>2</td>\n",
       "      <td>0</td>\n",
       "      <td>0.0</td>\n",
       "      <td>neutral or dissatisfied</td>\n",
       "    </tr>\n",
       "    <tr>\n",
       "      <th>3</th>\n",
       "      <td>3</td>\n",
       "      <td>77959</td>\n",
       "      <td>Male</td>\n",
       "      <td>Loyal Customer</td>\n",
       "      <td>44</td>\n",
       "      <td>Business travel</td>\n",
       "      <td>Business</td>\n",
       "      <td>3377</td>\n",
       "      <td>0</td>\n",
       "      <td>0</td>\n",
       "      <td>...</td>\n",
       "      <td>1</td>\n",
       "      <td>1</td>\n",
       "      <td>1</td>\n",
       "      <td>1</td>\n",
       "      <td>3</td>\n",
       "      <td>1</td>\n",
       "      <td>4</td>\n",
       "      <td>0</td>\n",
       "      <td>6.0</td>\n",
       "      <td>satisfied</td>\n",
       "    </tr>\n",
       "    <tr>\n",
       "      <th>4</th>\n",
       "      <td>4</td>\n",
       "      <td>36875</td>\n",
       "      <td>Female</td>\n",
       "      <td>Loyal Customer</td>\n",
       "      <td>49</td>\n",
       "      <td>Business travel</td>\n",
       "      <td>Eco</td>\n",
       "      <td>1182</td>\n",
       "      <td>2</td>\n",
       "      <td>3</td>\n",
       "      <td>...</td>\n",
       "      <td>2</td>\n",
       "      <td>2</td>\n",
       "      <td>2</td>\n",
       "      <td>2</td>\n",
       "      <td>4</td>\n",
       "      <td>2</td>\n",
       "      <td>4</td>\n",
       "      <td>0</td>\n",
       "      <td>20.0</td>\n",
       "      <td>satisfied</td>\n",
       "    </tr>\n",
       "  </tbody>\n",
       "</table>\n",
       "<p>5 rows × 25 columns</p>\n",
       "</div>"
      ],
      "text/plain": [
       "   Unnamed: 0     id  Gender      Customer Type  Age   Type of Travel  \\\n",
       "0           0  19556  Female     Loyal Customer   52  Business travel   \n",
       "1           1  90035  Female     Loyal Customer   36  Business travel   \n",
       "2           2  12360    Male  disloyal Customer   20  Business travel   \n",
       "3           3  77959    Male     Loyal Customer   44  Business travel   \n",
       "4           4  36875  Female     Loyal Customer   49  Business travel   \n",
       "\n",
       "      Class  Flight Distance  Inflight wifi service  \\\n",
       "0       Eco              160                      5   \n",
       "1  Business             2863                      1   \n",
       "2       Eco              192                      2   \n",
       "3  Business             3377                      0   \n",
       "4       Eco             1182                      2   \n",
       "\n",
       "   Departure/Arrival time convenient  ...  Inflight entertainment  \\\n",
       "0                                  4  ...                       5   \n",
       "1                                  1  ...                       4   \n",
       "2                                  0  ...                       2   \n",
       "3                                  0  ...                       1   \n",
       "4                                  3  ...                       2   \n",
       "\n",
       "   On-board service  Leg room service  Baggage handling  Checkin service  \\\n",
       "0                 5                 5                 5                2   \n",
       "1                 4                 4                 4                3   \n",
       "2                 4                 1                 3                2   \n",
       "3                 1                 1                 1                3   \n",
       "4                 2                 2                 2                4   \n",
       "\n",
       "   Inflight service  Cleanliness  Departure Delay in Minutes  \\\n",
       "0                 5            5                          50   \n",
       "1                 4            5                           0   \n",
       "2                 2            2                           0   \n",
       "3                 1            4                           0   \n",
       "4                 2            4                           0   \n",
       "\n",
       "   Arrival Delay in Minutes             satisfaction  \n",
       "0                      44.0                satisfied  \n",
       "1                       0.0                satisfied  \n",
       "2                       0.0  neutral or dissatisfied  \n",
       "3                       6.0                satisfied  \n",
       "4                      20.0                satisfied  \n",
       "\n",
       "[5 rows x 25 columns]"
      ]
     },
     "execution_count": 5,
     "metadata": {},
     "output_type": "execute_result"
    }
   ],
   "source": [
    "test.head()"
   ]
  },
  {
   "cell_type": "markdown",
   "id": "91275054",
   "metadata": {},
   "source": [
    "# EDA (Exploratory data analysis)"
   ]
  },
  {
   "cell_type": "markdown",
   "id": "ce66b2ef",
   "metadata": {},
   "source": [
    "Let's explore the data a bit in order to better understand this dataset."
   ]
  },
  {
   "cell_type": "code",
   "execution_count": 6,
   "id": "03771cd0",
   "metadata": {
    "ExecuteTime": {
     "end_time": "2022-12-01T11:48:04.085313Z",
     "start_time": "2022-12-01T11:48:04.017124Z"
    }
   },
   "outputs": [
    {
     "data": {
      "text/html": [
       "<div>\n",
       "<style scoped>\n",
       "    .dataframe tbody tr th:only-of-type {\n",
       "        vertical-align: middle;\n",
       "    }\n",
       "\n",
       "    .dataframe tbody tr th {\n",
       "        vertical-align: top;\n",
       "    }\n",
       "\n",
       "    .dataframe thead th {\n",
       "        text-align: right;\n",
       "    }\n",
       "</style>\n",
       "<table border=\"1\" class=\"dataframe\">\n",
       "  <thead>\n",
       "    <tr style=\"text-align: right;\">\n",
       "      <th></th>\n",
       "      <th>Unnamed: 0</th>\n",
       "      <th>id</th>\n",
       "      <th>Gender</th>\n",
       "      <th>Customer Type</th>\n",
       "      <th>Age</th>\n",
       "      <th>Type of Travel</th>\n",
       "      <th>Class</th>\n",
       "      <th>Flight Distance</th>\n",
       "      <th>Inflight wifi service</th>\n",
       "      <th>Departure/Arrival time convenient</th>\n",
       "      <th>...</th>\n",
       "      <th>Inflight entertainment</th>\n",
       "      <th>On-board service</th>\n",
       "      <th>Leg room service</th>\n",
       "      <th>Baggage handling</th>\n",
       "      <th>Checkin service</th>\n",
       "      <th>Inflight service</th>\n",
       "      <th>Cleanliness</th>\n",
       "      <th>Departure Delay in Minutes</th>\n",
       "      <th>Arrival Delay in Minutes</th>\n",
       "      <th>satisfaction</th>\n",
       "    </tr>\n",
       "  </thead>\n",
       "  <tbody>\n",
       "    <tr>\n",
       "      <th>0</th>\n",
       "      <td>0</td>\n",
       "      <td>70172</td>\n",
       "      <td>Male</td>\n",
       "      <td>Loyal Customer</td>\n",
       "      <td>13</td>\n",
       "      <td>Personal Travel</td>\n",
       "      <td>Eco Plus</td>\n",
       "      <td>460</td>\n",
       "      <td>3</td>\n",
       "      <td>4</td>\n",
       "      <td>...</td>\n",
       "      <td>5</td>\n",
       "      <td>4</td>\n",
       "      <td>3</td>\n",
       "      <td>4</td>\n",
       "      <td>4</td>\n",
       "      <td>5</td>\n",
       "      <td>5</td>\n",
       "      <td>25</td>\n",
       "      <td>18.0</td>\n",
       "      <td>neutral or dissatisfied</td>\n",
       "    </tr>\n",
       "    <tr>\n",
       "      <th>1</th>\n",
       "      <td>1</td>\n",
       "      <td>5047</td>\n",
       "      <td>Male</td>\n",
       "      <td>disloyal Customer</td>\n",
       "      <td>25</td>\n",
       "      <td>Business travel</td>\n",
       "      <td>Business</td>\n",
       "      <td>235</td>\n",
       "      <td>3</td>\n",
       "      <td>2</td>\n",
       "      <td>...</td>\n",
       "      <td>1</td>\n",
       "      <td>1</td>\n",
       "      <td>5</td>\n",
       "      <td>3</td>\n",
       "      <td>1</td>\n",
       "      <td>4</td>\n",
       "      <td>1</td>\n",
       "      <td>1</td>\n",
       "      <td>6.0</td>\n",
       "      <td>neutral or dissatisfied</td>\n",
       "    </tr>\n",
       "    <tr>\n",
       "      <th>2</th>\n",
       "      <td>2</td>\n",
       "      <td>110028</td>\n",
       "      <td>Female</td>\n",
       "      <td>Loyal Customer</td>\n",
       "      <td>26</td>\n",
       "      <td>Business travel</td>\n",
       "      <td>Business</td>\n",
       "      <td>1142</td>\n",
       "      <td>2</td>\n",
       "      <td>2</td>\n",
       "      <td>...</td>\n",
       "      <td>5</td>\n",
       "      <td>4</td>\n",
       "      <td>3</td>\n",
       "      <td>4</td>\n",
       "      <td>4</td>\n",
       "      <td>4</td>\n",
       "      <td>5</td>\n",
       "      <td>0</td>\n",
       "      <td>0.0</td>\n",
       "      <td>satisfied</td>\n",
       "    </tr>\n",
       "    <tr>\n",
       "      <th>3</th>\n",
       "      <td>3</td>\n",
       "      <td>24026</td>\n",
       "      <td>Female</td>\n",
       "      <td>Loyal Customer</td>\n",
       "      <td>25</td>\n",
       "      <td>Business travel</td>\n",
       "      <td>Business</td>\n",
       "      <td>562</td>\n",
       "      <td>2</td>\n",
       "      <td>5</td>\n",
       "      <td>...</td>\n",
       "      <td>2</td>\n",
       "      <td>2</td>\n",
       "      <td>5</td>\n",
       "      <td>3</td>\n",
       "      <td>1</td>\n",
       "      <td>4</td>\n",
       "      <td>2</td>\n",
       "      <td>11</td>\n",
       "      <td>9.0</td>\n",
       "      <td>neutral or dissatisfied</td>\n",
       "    </tr>\n",
       "    <tr>\n",
       "      <th>4</th>\n",
       "      <td>4</td>\n",
       "      <td>119299</td>\n",
       "      <td>Male</td>\n",
       "      <td>Loyal Customer</td>\n",
       "      <td>61</td>\n",
       "      <td>Business travel</td>\n",
       "      <td>Business</td>\n",
       "      <td>214</td>\n",
       "      <td>3</td>\n",
       "      <td>3</td>\n",
       "      <td>...</td>\n",
       "      <td>3</td>\n",
       "      <td>3</td>\n",
       "      <td>4</td>\n",
       "      <td>4</td>\n",
       "      <td>3</td>\n",
       "      <td>3</td>\n",
       "      <td>3</td>\n",
       "      <td>0</td>\n",
       "      <td>0.0</td>\n",
       "      <td>satisfied</td>\n",
       "    </tr>\n",
       "    <tr>\n",
       "      <th>...</th>\n",
       "      <td>...</td>\n",
       "      <td>...</td>\n",
       "      <td>...</td>\n",
       "      <td>...</td>\n",
       "      <td>...</td>\n",
       "      <td>...</td>\n",
       "      <td>...</td>\n",
       "      <td>...</td>\n",
       "      <td>...</td>\n",
       "      <td>...</td>\n",
       "      <td>...</td>\n",
       "      <td>...</td>\n",
       "      <td>...</td>\n",
       "      <td>...</td>\n",
       "      <td>...</td>\n",
       "      <td>...</td>\n",
       "      <td>...</td>\n",
       "      <td>...</td>\n",
       "      <td>...</td>\n",
       "      <td>...</td>\n",
       "      <td>...</td>\n",
       "    </tr>\n",
       "    <tr>\n",
       "      <th>103899</th>\n",
       "      <td>103899</td>\n",
       "      <td>94171</td>\n",
       "      <td>Female</td>\n",
       "      <td>disloyal Customer</td>\n",
       "      <td>23</td>\n",
       "      <td>Business travel</td>\n",
       "      <td>Eco</td>\n",
       "      <td>192</td>\n",
       "      <td>2</td>\n",
       "      <td>1</td>\n",
       "      <td>...</td>\n",
       "      <td>2</td>\n",
       "      <td>3</td>\n",
       "      <td>1</td>\n",
       "      <td>4</td>\n",
       "      <td>2</td>\n",
       "      <td>3</td>\n",
       "      <td>2</td>\n",
       "      <td>3</td>\n",
       "      <td>0.0</td>\n",
       "      <td>neutral or dissatisfied</td>\n",
       "    </tr>\n",
       "    <tr>\n",
       "      <th>103900</th>\n",
       "      <td>103900</td>\n",
       "      <td>73097</td>\n",
       "      <td>Male</td>\n",
       "      <td>Loyal Customer</td>\n",
       "      <td>49</td>\n",
       "      <td>Business travel</td>\n",
       "      <td>Business</td>\n",
       "      <td>2347</td>\n",
       "      <td>4</td>\n",
       "      <td>4</td>\n",
       "      <td>...</td>\n",
       "      <td>5</td>\n",
       "      <td>5</td>\n",
       "      <td>5</td>\n",
       "      <td>5</td>\n",
       "      <td>5</td>\n",
       "      <td>5</td>\n",
       "      <td>4</td>\n",
       "      <td>0</td>\n",
       "      <td>0.0</td>\n",
       "      <td>satisfied</td>\n",
       "    </tr>\n",
       "    <tr>\n",
       "      <th>103901</th>\n",
       "      <td>103901</td>\n",
       "      <td>68825</td>\n",
       "      <td>Male</td>\n",
       "      <td>disloyal Customer</td>\n",
       "      <td>30</td>\n",
       "      <td>Business travel</td>\n",
       "      <td>Business</td>\n",
       "      <td>1995</td>\n",
       "      <td>1</td>\n",
       "      <td>1</td>\n",
       "      <td>...</td>\n",
       "      <td>4</td>\n",
       "      <td>3</td>\n",
       "      <td>2</td>\n",
       "      <td>4</td>\n",
       "      <td>5</td>\n",
       "      <td>5</td>\n",
       "      <td>4</td>\n",
       "      <td>7</td>\n",
       "      <td>14.0</td>\n",
       "      <td>neutral or dissatisfied</td>\n",
       "    </tr>\n",
       "    <tr>\n",
       "      <th>103902</th>\n",
       "      <td>103902</td>\n",
       "      <td>54173</td>\n",
       "      <td>Female</td>\n",
       "      <td>disloyal Customer</td>\n",
       "      <td>22</td>\n",
       "      <td>Business travel</td>\n",
       "      <td>Eco</td>\n",
       "      <td>1000</td>\n",
       "      <td>1</td>\n",
       "      <td>1</td>\n",
       "      <td>...</td>\n",
       "      <td>1</td>\n",
       "      <td>4</td>\n",
       "      <td>5</td>\n",
       "      <td>1</td>\n",
       "      <td>5</td>\n",
       "      <td>4</td>\n",
       "      <td>1</td>\n",
       "      <td>0</td>\n",
       "      <td>0.0</td>\n",
       "      <td>neutral or dissatisfied</td>\n",
       "    </tr>\n",
       "    <tr>\n",
       "      <th>103903</th>\n",
       "      <td>103903</td>\n",
       "      <td>62567</td>\n",
       "      <td>Male</td>\n",
       "      <td>Loyal Customer</td>\n",
       "      <td>27</td>\n",
       "      <td>Business travel</td>\n",
       "      <td>Business</td>\n",
       "      <td>1723</td>\n",
       "      <td>1</td>\n",
       "      <td>3</td>\n",
       "      <td>...</td>\n",
       "      <td>1</td>\n",
       "      <td>1</td>\n",
       "      <td>1</td>\n",
       "      <td>4</td>\n",
       "      <td>4</td>\n",
       "      <td>3</td>\n",
       "      <td>1</td>\n",
       "      <td>0</td>\n",
       "      <td>0.0</td>\n",
       "      <td>neutral or dissatisfied</td>\n",
       "    </tr>\n",
       "  </tbody>\n",
       "</table>\n",
       "<p>103904 rows × 25 columns</p>\n",
       "</div>"
      ],
      "text/plain": [
       "        Unnamed: 0      id  Gender      Customer Type  Age   Type of Travel  \\\n",
       "0                0   70172    Male     Loyal Customer   13  Personal Travel   \n",
       "1                1    5047    Male  disloyal Customer   25  Business travel   \n",
       "2                2  110028  Female     Loyal Customer   26  Business travel   \n",
       "3                3   24026  Female     Loyal Customer   25  Business travel   \n",
       "4                4  119299    Male     Loyal Customer   61  Business travel   \n",
       "...            ...     ...     ...                ...  ...              ...   \n",
       "103899      103899   94171  Female  disloyal Customer   23  Business travel   \n",
       "103900      103900   73097    Male     Loyal Customer   49  Business travel   \n",
       "103901      103901   68825    Male  disloyal Customer   30  Business travel   \n",
       "103902      103902   54173  Female  disloyal Customer   22  Business travel   \n",
       "103903      103903   62567    Male     Loyal Customer   27  Business travel   \n",
       "\n",
       "           Class  Flight Distance  Inflight wifi service  \\\n",
       "0       Eco Plus              460                      3   \n",
       "1       Business              235                      3   \n",
       "2       Business             1142                      2   \n",
       "3       Business              562                      2   \n",
       "4       Business              214                      3   \n",
       "...          ...              ...                    ...   \n",
       "103899       Eco              192                      2   \n",
       "103900  Business             2347                      4   \n",
       "103901  Business             1995                      1   \n",
       "103902       Eco             1000                      1   \n",
       "103903  Business             1723                      1   \n",
       "\n",
       "        Departure/Arrival time convenient  ...  Inflight entertainment  \\\n",
       "0                                       4  ...                       5   \n",
       "1                                       2  ...                       1   \n",
       "2                                       2  ...                       5   \n",
       "3                                       5  ...                       2   \n",
       "4                                       3  ...                       3   \n",
       "...                                   ...  ...                     ...   \n",
       "103899                                  1  ...                       2   \n",
       "103900                                  4  ...                       5   \n",
       "103901                                  1  ...                       4   \n",
       "103902                                  1  ...                       1   \n",
       "103903                                  3  ...                       1   \n",
       "\n",
       "        On-board service  Leg room service  Baggage handling  Checkin service  \\\n",
       "0                      4                 3                 4                4   \n",
       "1                      1                 5                 3                1   \n",
       "2                      4                 3                 4                4   \n",
       "3                      2                 5                 3                1   \n",
       "4                      3                 4                 4                3   \n",
       "...                  ...               ...               ...              ...   \n",
       "103899                 3                 1                 4                2   \n",
       "103900                 5                 5                 5                5   \n",
       "103901                 3                 2                 4                5   \n",
       "103902                 4                 5                 1                5   \n",
       "103903                 1                 1                 4                4   \n",
       "\n",
       "        Inflight service  Cleanliness  Departure Delay in Minutes  \\\n",
       "0                      5            5                          25   \n",
       "1                      4            1                           1   \n",
       "2                      4            5                           0   \n",
       "3                      4            2                          11   \n",
       "4                      3            3                           0   \n",
       "...                  ...          ...                         ...   \n",
       "103899                 3            2                           3   \n",
       "103900                 5            4                           0   \n",
       "103901                 5            4                           7   \n",
       "103902                 4            1                           0   \n",
       "103903                 3            1                           0   \n",
       "\n",
       "        Arrival Delay in Minutes             satisfaction  \n",
       "0                           18.0  neutral or dissatisfied  \n",
       "1                            6.0  neutral or dissatisfied  \n",
       "2                            0.0                satisfied  \n",
       "3                            9.0  neutral or dissatisfied  \n",
       "4                            0.0                satisfied  \n",
       "...                          ...                      ...  \n",
       "103899                       0.0  neutral or dissatisfied  \n",
       "103900                       0.0                satisfied  \n",
       "103901                      14.0  neutral or dissatisfied  \n",
       "103902                       0.0  neutral or dissatisfied  \n",
       "103903                       0.0  neutral or dissatisfied  \n",
       "\n",
       "[103904 rows x 25 columns]"
      ]
     },
     "execution_count": 6,
     "metadata": {},
     "output_type": "execute_result"
    }
   ],
   "source": [
    "#Olhando como é as 5 primeiras linhas do dataset\n",
    "train"
   ]
  },
  {
   "cell_type": "code",
   "execution_count": 8,
   "id": "459ac3ff",
   "metadata": {
    "ExecuteTime": {
     "end_time": "2022-12-01T11:48:30.252430Z",
     "start_time": "2022-12-01T11:48:30.247399Z"
    }
   },
   "outputs": [
    {
     "data": {
      "text/plain": [
       "(103904, 25)"
      ]
     },
     "execution_count": 8,
     "metadata": {},
     "output_type": "execute_result"
    }
   ],
   "source": [
    "#Dimensions (number of rows, number of columns)\n",
    "train.shape"
   ]
  },
  {
   "cell_type": "code",
   "execution_count": 9,
   "id": "18b792e7",
   "metadata": {
    "ExecuteTime": {
     "end_time": "2022-12-01T11:48:59.587424Z",
     "start_time": "2022-12-01T11:48:59.567409Z"
    }
   },
   "outputs": [
    {
     "data": {
      "text/plain": [
       "['Unnamed: 0',\n",
       " 'id',\n",
       " 'Gender',\n",
       " 'Customer Type',\n",
       " 'Age',\n",
       " 'Type of Travel',\n",
       " 'Class',\n",
       " 'Flight Distance',\n",
       " 'Inflight wifi service',\n",
       " 'Departure/Arrival time convenient',\n",
       " 'Ease of Online booking',\n",
       " 'Gate location',\n",
       " 'Food and drink',\n",
       " 'Online boarding',\n",
       " 'Seat comfort',\n",
       " 'Inflight entertainment',\n",
       " 'On-board service',\n",
       " 'Leg room service',\n",
       " 'Baggage handling',\n",
       " 'Checkin service',\n",
       " 'Inflight service',\n",
       " 'Cleanliness',\n",
       " 'Departure Delay in Minutes',\n",
       " 'Arrival Delay in Minutes',\n",
       " 'satisfaction']"
      ]
     },
     "execution_count": 9,
     "metadata": {},
     "output_type": "execute_result"
    }
   ],
   "source": [
    "#All columns names\n",
    "list(train.columns)"
   ]
  },
  {
   "cell_type": "code",
   "execution_count": 12,
   "id": "68168e50",
   "metadata": {
    "ExecuteTime": {
     "end_time": "2022-12-01T11:51:25.725563Z",
     "start_time": "2022-12-01T11:51:25.647529Z"
    }
   },
   "outputs": [
    {
     "name": "stdout",
     "output_type": "stream",
     "text": [
      "<class 'pandas.core.frame.DataFrame'>\n",
      "RangeIndex: 103904 entries, 0 to 103903\n",
      "Data columns (total 25 columns):\n",
      " #   Column                             Non-Null Count   Dtype  \n",
      "---  ------                             --------------   -----  \n",
      " 0   Unnamed: 0                         103904 non-null  int64  \n",
      " 1   id                                 103904 non-null  int64  \n",
      " 2   Gender                             103904 non-null  object \n",
      " 3   Customer Type                      103904 non-null  object \n",
      " 4   Age                                103904 non-null  int64  \n",
      " 5   Type of Travel                     103904 non-null  object \n",
      " 6   Class                              103904 non-null  object \n",
      " 7   Flight Distance                    103904 non-null  int64  \n",
      " 8   Inflight wifi service              103904 non-null  int64  \n",
      " 9   Departure/Arrival time convenient  103904 non-null  int64  \n",
      " 10  Ease of Online booking             103904 non-null  int64  \n",
      " 11  Gate location                      103904 non-null  int64  \n",
      " 12  Food and drink                     103904 non-null  int64  \n",
      " 13  Online boarding                    103904 non-null  int64  \n",
      " 14  Seat comfort                       103904 non-null  int64  \n",
      " 15  Inflight entertainment             103904 non-null  int64  \n",
      " 16  On-board service                   103904 non-null  int64  \n",
      " 17  Leg room service                   103904 non-null  int64  \n",
      " 18  Baggage handling                   103904 non-null  int64  \n",
      " 19  Checkin service                    103904 non-null  int64  \n",
      " 20  Inflight service                   103904 non-null  int64  \n",
      " 21  Cleanliness                        103904 non-null  int64  \n",
      " 22  Departure Delay in Minutes         103904 non-null  int64  \n",
      " 23  Arrival Delay in Minutes           103594 non-null  float64\n",
      " 24  satisfaction                       103904 non-null  object \n",
      "dtypes: float64(1), int64(19), object(5)\n",
      "memory usage: 19.8+ MB\n"
     ]
    }
   ],
   "source": [
    "#Type of each feature and the amount on non-null\n",
    "train.info()"
   ]
  },
  {
   "cell_type": "code",
   "execution_count": 14,
   "id": "636e3afb",
   "metadata": {
    "ExecuteTime": {
     "end_time": "2022-12-01T11:52:00.289808Z",
     "start_time": "2022-12-01T11:52:00.216807Z"
    }
   },
   "outputs": [
    {
     "data": {
      "text/plain": [
       "Unnamed: 0                             0\n",
       "id                                     0\n",
       "Gender                                 0\n",
       "Customer Type                          0\n",
       "Age                                    0\n",
       "Type of Travel                         0\n",
       "Class                                  0\n",
       "Flight Distance                        0\n",
       "Inflight wifi service                  0\n",
       "Departure/Arrival time convenient      0\n",
       "Ease of Online booking                 0\n",
       "Gate location                          0\n",
       "Food and drink                         0\n",
       "Online boarding                        0\n",
       "Seat comfort                           0\n",
       "Inflight entertainment                 0\n",
       "On-board service                       0\n",
       "Leg room service                       0\n",
       "Baggage handling                       0\n",
       "Checkin service                        0\n",
       "Inflight service                       0\n",
       "Cleanliness                            0\n",
       "Departure Delay in Minutes             0\n",
       "Arrival Delay in Minutes             310\n",
       "satisfaction                           0\n",
       "dtype: int64"
      ]
     },
     "metadata": {},
     "output_type": "display_data"
    },
    {
     "name": "stdout",
     "output_type": "stream",
     "text": [
      "A feature Arrival Delay in Minutes possui 310 valores nulos\n"
     ]
    }
   ],
   "source": [
    "# The feature Arrival Delay in Minutes has 310 null values\n",
    "display(train.isnull().sum())\n",
    "print(f\"A feature Arrival Delay in Minutes possui {train['Arrival Delay in Minutes'].isnull().sum()} valores nulos\")"
   ]
  },
  {
   "cell_type": "code",
   "execution_count": 17,
   "id": "ad4f94a8",
   "metadata": {
    "ExecuteTime": {
     "end_time": "2022-12-01T11:53:00.807592Z",
     "start_time": "2022-12-01T11:53:00.783592Z"
    }
   },
   "outputs": [
    {
     "data": {
      "text/plain": [
       "count    103594.00\n",
       "mean         15.18\n",
       "std          38.70\n",
       "min           0.00\n",
       "25%           0.00\n",
       "50%           0.00\n",
       "75%          13.00\n",
       "max        1584.00\n",
       "Name: Arrival Delay in Minutes, dtype: float64"
      ]
     },
     "execution_count": 17,
     "metadata": {},
     "output_type": "execute_result"
    }
   ],
   "source": [
    "#Looking further the columns with null values\n",
    "train['Arrival Delay in Minutes'].describe().apply(lambda x: round(x, 2))"
   ]
  },
  {
   "cell_type": "markdown",
   "id": "21321f92",
   "metadata": {},
   "source": [
    "Although the maximum value is 1584 minutes, the median is still 0 and the mean value is relatively low, 15.09. In this sense, we can conclude that the highest frequency of values is at 0 minutes delay.\n",
    "\n",
    "Let's check below:"
   ]
  },
  {
   "cell_type": "code",
   "execution_count": 19,
   "id": "b2e2b219",
   "metadata": {
    "ExecuteTime": {
     "end_time": "2022-12-01T11:53:57.322234Z",
     "start_time": "2022-12-01T11:53:56.871604Z"
    }
   },
   "outputs": [
    {
     "data": {
      "text/plain": [
       "<AxesSubplot:xlabel='Arrival Delay in Minutes', ylabel='Count'>"
      ]
     },
     "execution_count": 19,
     "metadata": {},
     "output_type": "execute_result"
    },
    {
     "data": {
      "image/png": "[encoded data removed]",
      "text/plain": [
       "<Figure size 1080x432 with 1 Axes>"
      ]
     },
     "metadata": {
      "needs_background": "light"
     },
     "output_type": "display_data"
    }
   ],
   "source": [
    "fig, ax = plt.subplots(figsize=(15, 6))\n",
    "sns.histplot(data=train, x=\"Arrival Delay in Minutes\", hue=\"Class\", bins = 50)"
   ]
  },
  {
   "cell_type": "code",
   "execution_count": 23,
   "id": "d8cd55d9",
   "metadata": {
    "ExecuteTime": {
     "end_time": "2022-12-01T11:56:37.188419Z",
     "start_time": "2022-12-01T11:56:37.176418Z"
    }
   },
   "outputs": [
    {
     "data": {
      "text/plain": [
       "0.0     58159\n",
       "1.0      2211\n",
       "2.0      2064\n",
       "3.0      1952\n",
       "4.0      1907\n",
       "5.0      1658\n",
       "6.0      1616\n",
       "7.0      1481\n",
       "8.0      1394\n",
       "9.0      1264\n",
       "10.0     1181\n",
       "Name: Arrival Delay in Minutes, dtype: int64"
      ]
     },
     "metadata": {},
     "output_type": "display_data"
    }
   ],
   "source": [
    "# Checking the 10 most frequent occurrences\n",
    "\n",
    "display(train['Arrival Delay in Minutes'].value_counts()[:10])"
   ]
  },
  {
   "cell_type": "markdown",
   "id": "87d905d0",
   "metadata": {},
   "source": [
    "As we can see below, the number of 0 minutes of delay is 56% of the entire dataset."
   ]
  },
  {
   "cell_type": "code",
   "execution_count": 30,
   "id": "43ca1b13",
   "metadata": {
    "ExecuteTime": {
     "end_time": "2022-12-01T12:03:08.926905Z",
     "start_time": "2022-12-01T12:03:08.911276Z"
    }
   },
   "outputs": [
    {
     "name": "stdout",
     "output_type": "stream",
     "text": [
      " As we can see above, the number of 0 minutes of delay are more than half of the data. It is approximately 0.56%\n"
     ]
    }
   ],
   "source": [
    "print(f\" As we can see above, the number of 0 minutes of delay are more than half of the data. It is approximately {train['Arrival Delay in Minutes'].value_counts()[0]/train.shape[0]:.2f}%\")"
   ]
  },
  {
   "cell_type": "code",
   "execution_count": 31,
   "id": "3960747e",
   "metadata": {
    "ExecuteTime": {
     "end_time": "2022-12-01T12:04:17.258161Z",
     "start_time": "2022-12-01T12:04:17.136485Z"
    }
   },
   "outputs": [],
   "source": [
    "#Excluding dupplicate rows\n",
    "train.drop_duplicates(inplace=True)"
   ]
  },
  {
   "cell_type": "code",
   "execution_count": 34,
   "id": "f5c5ba4b",
   "metadata": {
    "ExecuteTime": {
     "end_time": "2022-12-01T12:06:44.997711Z",
     "start_time": "2022-12-01T12:06:44.962712Z"
    }
   },
   "outputs": [
    {
     "data": {
      "text/html": [
       "<div>\n",
       "<style scoped>\n",
       "    .dataframe tbody tr th:only-of-type {\n",
       "        vertical-align: middle;\n",
       "    }\n",
       "\n",
       "    .dataframe tbody tr th {\n",
       "        vertical-align: top;\n",
       "    }\n",
       "\n",
       "    .dataframe thead th {\n",
       "        text-align: right;\n",
       "    }\n",
       "</style>\n",
       "<table border=\"1\" class=\"dataframe\">\n",
       "  <thead>\n",
       "    <tr style=\"text-align: right;\">\n",
       "      <th></th>\n",
       "      <th>Unnamed: 0</th>\n",
       "      <th>id</th>\n",
       "      <th>Age</th>\n",
       "      <th>Flight Distance</th>\n",
       "      <th>Inflight wifi service</th>\n",
       "      <th>Departure/Arrival time convenient</th>\n",
       "      <th>Ease of Online booking</th>\n",
       "      <th>Gate location</th>\n",
       "      <th>Food and drink</th>\n",
       "      <th>Online boarding</th>\n",
       "      <th>Seat comfort</th>\n",
       "      <th>Inflight entertainment</th>\n",
       "      <th>On-board service</th>\n",
       "      <th>Leg room service</th>\n",
       "      <th>Baggage handling</th>\n",
       "      <th>Checkin service</th>\n",
       "      <th>Inflight service</th>\n",
       "      <th>Cleanliness</th>\n",
       "      <th>Departure Delay in Minutes</th>\n",
       "      <th>Arrival Delay in Minutes</th>\n",
       "    </tr>\n",
       "  </thead>\n",
       "  <tbody>\n",
       "    <tr>\n",
       "      <th>0</th>\n",
       "      <td>0</td>\n",
       "      <td>70172</td>\n",
       "      <td>13</td>\n",
       "      <td>460</td>\n",
       "      <td>3</td>\n",
       "      <td>4</td>\n",
       "      <td>3</td>\n",
       "      <td>1</td>\n",
       "      <td>5</td>\n",
       "      <td>3</td>\n",
       "      <td>5</td>\n",
       "      <td>5</td>\n",
       "      <td>4</td>\n",
       "      <td>3</td>\n",
       "      <td>4</td>\n",
       "      <td>4</td>\n",
       "      <td>5</td>\n",
       "      <td>5</td>\n",
       "      <td>25</td>\n",
       "      <td>18.0</td>\n",
       "    </tr>\n",
       "    <tr>\n",
       "      <th>1</th>\n",
       "      <td>1</td>\n",
       "      <td>5047</td>\n",
       "      <td>25</td>\n",
       "      <td>235</td>\n",
       "      <td>3</td>\n",
       "      <td>2</td>\n",
       "      <td>3</td>\n",
       "      <td>3</td>\n",
       "      <td>1</td>\n",
       "      <td>3</td>\n",
       "      <td>1</td>\n",
       "      <td>1</td>\n",
       "      <td>1</td>\n",
       "      <td>5</td>\n",
       "      <td>3</td>\n",
       "      <td>1</td>\n",
       "      <td>4</td>\n",
       "      <td>1</td>\n",
       "      <td>1</td>\n",
       "      <td>6.0</td>\n",
       "    </tr>\n",
       "    <tr>\n",
       "      <th>2</th>\n",
       "      <td>2</td>\n",
       "      <td>110028</td>\n",
       "      <td>26</td>\n",
       "      <td>1142</td>\n",
       "      <td>2</td>\n",
       "      <td>2</td>\n",
       "      <td>2</td>\n",
       "      <td>2</td>\n",
       "      <td>5</td>\n",
       "      <td>5</td>\n",
       "      <td>5</td>\n",
       "      <td>5</td>\n",
       "      <td>4</td>\n",
       "      <td>3</td>\n",
       "      <td>4</td>\n",
       "      <td>4</td>\n",
       "      <td>4</td>\n",
       "      <td>5</td>\n",
       "      <td>0</td>\n",
       "      <td>0.0</td>\n",
       "    </tr>\n",
       "    <tr>\n",
       "      <th>3</th>\n",
       "      <td>3</td>\n",
       "      <td>24026</td>\n",
       "      <td>25</td>\n",
       "      <td>562</td>\n",
       "      <td>2</td>\n",
       "      <td>5</td>\n",
       "      <td>5</td>\n",
       "      <td>5</td>\n",
       "      <td>2</td>\n",
       "      <td>2</td>\n",
       "      <td>2</td>\n",
       "      <td>2</td>\n",
       "      <td>2</td>\n",
       "      <td>5</td>\n",
       "      <td>3</td>\n",
       "      <td>1</td>\n",
       "      <td>4</td>\n",
       "      <td>2</td>\n",
       "      <td>11</td>\n",
       "      <td>9.0</td>\n",
       "    </tr>\n",
       "    <tr>\n",
       "      <th>4</th>\n",
       "      <td>4</td>\n",
       "      <td>119299</td>\n",
       "      <td>61</td>\n",
       "      <td>214</td>\n",
       "      <td>3</td>\n",
       "      <td>3</td>\n",
       "      <td>3</td>\n",
       "      <td>3</td>\n",
       "      <td>4</td>\n",
       "      <td>5</td>\n",
       "      <td>5</td>\n",
       "      <td>3</td>\n",
       "      <td>3</td>\n",
       "      <td>4</td>\n",
       "      <td>4</td>\n",
       "      <td>3</td>\n",
       "      <td>3</td>\n",
       "      <td>3</td>\n",
       "      <td>0</td>\n",
       "      <td>0.0</td>\n",
       "    </tr>\n",
       "    <tr>\n",
       "      <th>...</th>\n",
       "      <td>...</td>\n",
       "      <td>...</td>\n",
       "      <td>...</td>\n",
       "      <td>...</td>\n",
       "      <td>...</td>\n",
       "      <td>...</td>\n",
       "      <td>...</td>\n",
       "      <td>...</td>\n",
       "      <td>...</td>\n",
       "      <td>...</td>\n",
       "      <td>...</td>\n",
       "      <td>...</td>\n",
       "      <td>...</td>\n",
       "      <td>...</td>\n",
       "      <td>...</td>\n",
       "      <td>...</td>\n",
       "      <td>...</td>\n",
       "      <td>...</td>\n",
       "      <td>...</td>\n",
       "      <td>...</td>\n",
       "    </tr>\n",
       "    <tr>\n",
       "      <th>103899</th>\n",
       "      <td>103899</td>\n",
       "      <td>94171</td>\n",
       "      <td>23</td>\n",
       "      <td>192</td>\n",
       "      <td>2</td>\n",
       "      <td>1</td>\n",
       "      <td>2</td>\n",
       "      <td>3</td>\n",
       "      <td>2</td>\n",
       "      <td>2</td>\n",
       "      <td>2</td>\n",
       "      <td>2</td>\n",
       "      <td>3</td>\n",
       "      <td>1</td>\n",
       "      <td>4</td>\n",
       "      <td>2</td>\n",
       "      <td>3</td>\n",
       "      <td>2</td>\n",
       "      <td>3</td>\n",
       "      <td>0.0</td>\n",
       "    </tr>\n",
       "    <tr>\n",
       "      <th>103900</th>\n",
       "      <td>103900</td>\n",
       "      <td>73097</td>\n",
       "      <td>49</td>\n",
       "      <td>2347</td>\n",
       "      <td>4</td>\n",
       "      <td>4</td>\n",
       "      <td>4</td>\n",
       "      <td>4</td>\n",
       "      <td>2</td>\n",
       "      <td>4</td>\n",
       "      <td>5</td>\n",
       "      <td>5</td>\n",
       "      <td>5</td>\n",
       "      <td>5</td>\n",
       "      <td>5</td>\n",
       "      <td>5</td>\n",
       "      <td>5</td>\n",
       "      <td>4</td>\n",
       "      <td>0</td>\n",
       "      <td>0.0</td>\n",
       "    </tr>\n",
       "    <tr>\n",
       "      <th>103901</th>\n",
       "      <td>103901</td>\n",
       "      <td>68825</td>\n",
       "      <td>30</td>\n",
       "      <td>1995</td>\n",
       "      <td>1</td>\n",
       "      <td>1</td>\n",
       "      <td>1</td>\n",
       "      <td>3</td>\n",
       "      <td>4</td>\n",
       "      <td>1</td>\n",
       "      <td>5</td>\n",
       "      <td>4</td>\n",
       "      <td>3</td>\n",
       "      <td>2</td>\n",
       "      <td>4</td>\n",
       "      <td>5</td>\n",
       "      <td>5</td>\n",
       "      <td>4</td>\n",
       "      <td>7</td>\n",
       "      <td>14.0</td>\n",
       "    </tr>\n",
       "    <tr>\n",
       "      <th>103902</th>\n",
       "      <td>103902</td>\n",
       "      <td>54173</td>\n",
       "      <td>22</td>\n",
       "      <td>1000</td>\n",
       "      <td>1</td>\n",
       "      <td>1</td>\n",
       "      <td>1</td>\n",
       "      <td>5</td>\n",
       "      <td>1</td>\n",
       "      <td>1</td>\n",
       "      <td>1</td>\n",
       "      <td>1</td>\n",
       "      <td>4</td>\n",
       "      <td>5</td>\n",
       "      <td>1</td>\n",
       "      <td>5</td>\n",
       "      <td>4</td>\n",
       "      <td>1</td>\n",
       "      <td>0</td>\n",
       "      <td>0.0</td>\n",
       "    </tr>\n",
       "    <tr>\n",
       "      <th>103903</th>\n",
       "      <td>103903</td>\n",
       "      <td>62567</td>\n",
       "      <td>27</td>\n",
       "      <td>1723</td>\n",
       "      <td>1</td>\n",
       "      <td>3</td>\n",
       "      <td>3</td>\n",
       "      <td>3</td>\n",
       "      <td>1</td>\n",
       "      <td>1</td>\n",
       "      <td>1</td>\n",
       "      <td>1</td>\n",
       "      <td>1</td>\n",
       "      <td>1</td>\n",
       "      <td>4</td>\n",
       "      <td>4</td>\n",
       "      <td>3</td>\n",
       "      <td>1</td>\n",
       "      <td>0</td>\n",
       "      <td>0.0</td>\n",
       "    </tr>\n",
       "  </tbody>\n",
       "</table>\n",
       "<p>103904 rows × 20 columns</p>\n",
       "</div>"
      ],
      "text/plain": [
       "        Unnamed: 0      id  Age  Flight Distance  Inflight wifi service  \\\n",
       "0                0   70172   13              460                      3   \n",
       "1                1    5047   25              235                      3   \n",
       "2                2  110028   26             1142                      2   \n",
       "3                3   24026   25              562                      2   \n",
       "4                4  119299   61              214                      3   \n",
       "...            ...     ...  ...              ...                    ...   \n",
       "103899      103899   94171   23              192                      2   \n",
       "103900      103900   73097   49             2347                      4   \n",
       "103901      103901   68825   30             1995                      1   \n",
       "103902      103902   54173   22             1000                      1   \n",
       "103903      103903   62567   27             1723                      1   \n",
       "\n",
       "        Departure/Arrival time convenient  Ease of Online booking  \\\n",
       "0                                       4                       3   \n",
       "1                                       2                       3   \n",
       "2                                       2                       2   \n",
       "3                                       5                       5   \n",
       "4                                       3                       3   \n",
       "...                                   ...                     ...   \n",
       "103899                                  1                       2   \n",
       "103900                                  4                       4   \n",
       "103901                                  1                       1   \n",
       "103902                                  1                       1   \n",
       "103903                                  3                       3   \n",
       "\n",
       "        Gate location  Food and drink  Online boarding  Seat comfort  \\\n",
       "0                   1               5                3             5   \n",
       "1                   3               1                3             1   \n",
       "2                   2               5                5             5   \n",
       "3                   5               2                2             2   \n",
       "4                   3               4                5             5   \n",
       "...               ...             ...              ...           ...   \n",
       "103899              3               2                2             2   \n",
       "103900              4               2                4             5   \n",
       "103901              3               4                1             5   \n",
       "103902              5               1                1             1   \n",
       "103903              3               1                1             1   \n",
       "\n",
       "        Inflight entertainment  On-board service  Leg room service  \\\n",
       "0                            5                 4                 3   \n",
       "1                            1                 1                 5   \n",
       "2                            5                 4                 3   \n",
       "3                            2                 2                 5   \n",
       "4                            3                 3                 4   \n",
       "...                        ...               ...               ...   \n",
       "103899                       2                 3                 1   \n",
       "103900                       5                 5                 5   \n",
       "103901                       4                 3                 2   \n",
       "103902                       1                 4                 5   \n",
       "103903                       1                 1                 1   \n",
       "\n",
       "        Baggage handling  Checkin service  Inflight service  Cleanliness  \\\n",
       "0                      4                4                 5            5   \n",
       "1                      3                1                 4            1   \n",
       "2                      4                4                 4            5   \n",
       "3                      3                1                 4            2   \n",
       "4                      4                3                 3            3   \n",
       "...                  ...              ...               ...          ...   \n",
       "103899                 4                2                 3            2   \n",
       "103900                 5                5                 5            4   \n",
       "103901                 4                5                 5            4   \n",
       "103902                 1                5                 4            1   \n",
       "103903                 4                4                 3            1   \n",
       "\n",
       "        Departure Delay in Minutes  Arrival Delay in Minutes  \n",
       "0                               25                      18.0  \n",
       "1                                1                       6.0  \n",
       "2                                0                       0.0  \n",
       "3                               11                       9.0  \n",
       "4                                0                       0.0  \n",
       "...                            ...                       ...  \n",
       "103899                           3                       0.0  \n",
       "103900                           0                       0.0  \n",
       "103901                           7                      14.0  \n",
       "103902                           0                       0.0  \n",
       "103903                           0                       0.0  \n",
       "\n",
       "[103904 rows x 20 columns]"
      ]
     },
     "execution_count": 34,
     "metadata": {},
     "output_type": "execute_result"
    }
   ],
   "source": [
    "# Numerical features\n",
    "train_num = train.loc[:, train.dtypes != object]\n",
    "train_num"
   ]
  },
  {
   "cell_type": "code",
   "execution_count": 37,
   "id": "e924123c",
   "metadata": {
    "ExecuteTime": {
     "end_time": "2022-12-01T12:07:45.840133Z",
     "start_time": "2022-12-01T12:07:45.824470Z"
    }
   },
   "outputs": [
    {
     "data": {
      "text/html": [
       "<div>\n",
       "<style scoped>\n",
       "    .dataframe tbody tr th:only-of-type {\n",
       "        vertical-align: middle;\n",
       "    }\n",
       "\n",
       "    .dataframe tbody tr th {\n",
       "        vertical-align: top;\n",
       "    }\n",
       "\n",
       "    .dataframe thead th {\n",
       "        text-align: right;\n",
       "    }\n",
       "</style>\n",
       "<table border=\"1\" class=\"dataframe\">\n",
       "  <thead>\n",
       "    <tr style=\"text-align: right;\">\n",
       "      <th></th>\n",
       "      <th>Gender</th>\n",
       "      <th>Customer Type</th>\n",
       "      <th>Type of Travel</th>\n",
       "      <th>Class</th>\n",
       "      <th>satisfaction</th>\n",
       "    </tr>\n",
       "  </thead>\n",
       "  <tbody>\n",
       "    <tr>\n",
       "      <th>0</th>\n",
       "      <td>Male</td>\n",
       "      <td>Loyal Customer</td>\n",
       "      <td>Personal Travel</td>\n",
       "      <td>Eco Plus</td>\n",
       "      <td>neutral or dissatisfied</td>\n",
       "    </tr>\n",
       "    <tr>\n",
       "      <th>1</th>\n",
       "      <td>Male</td>\n",
       "      <td>disloyal Customer</td>\n",
       "      <td>Business travel</td>\n",
       "      <td>Business</td>\n",
       "      <td>neutral or dissatisfied</td>\n",
       "    </tr>\n",
       "    <tr>\n",
       "      <th>2</th>\n",
       "      <td>Female</td>\n",
       "      <td>Loyal Customer</td>\n",
       "      <td>Business travel</td>\n",
       "      <td>Business</td>\n",
       "      <td>satisfied</td>\n",
       "    </tr>\n",
       "    <tr>\n",
       "      <th>3</th>\n",
       "      <td>Female</td>\n",
       "      <td>Loyal Customer</td>\n",
       "      <td>Business travel</td>\n",
       "      <td>Business</td>\n",
       "      <td>neutral or dissatisfied</td>\n",
       "    </tr>\n",
       "    <tr>\n",
       "      <th>4</th>\n",
       "      <td>Male</td>\n",
       "      <td>Loyal Customer</td>\n",
       "      <td>Business travel</td>\n",
       "      <td>Business</td>\n",
       "      <td>satisfied</td>\n",
       "    </tr>\n",
       "    <tr>\n",
       "      <th>...</th>\n",
       "      <td>...</td>\n",
       "      <td>...</td>\n",
       "      <td>...</td>\n",
       "      <td>...</td>\n",
       "      <td>...</td>\n",
       "    </tr>\n",
       "    <tr>\n",
       "      <th>103899</th>\n",
       "      <td>Female</td>\n",
       "      <td>disloyal Customer</td>\n",
       "      <td>Business travel</td>\n",
       "      <td>Eco</td>\n",
       "      <td>neutral or dissatisfied</td>\n",
       "    </tr>\n",
       "    <tr>\n",
       "      <th>103900</th>\n",
       "      <td>Male</td>\n",
       "      <td>Loyal Customer</td>\n",
       "      <td>Business travel</td>\n",
       "      <td>Business</td>\n",
       "      <td>satisfied</td>\n",
       "    </tr>\n",
       "    <tr>\n",
       "      <th>103901</th>\n",
       "      <td>Male</td>\n",
       "      <td>disloyal Customer</td>\n",
       "      <td>Business travel</td>\n",
       "      <td>Business</td>\n",
       "      <td>neutral or dissatisfied</td>\n",
       "    </tr>\n",
       "    <tr>\n",
       "      <th>103902</th>\n",
       "      <td>Female</td>\n",
       "      <td>disloyal Customer</td>\n",
       "      <td>Business travel</td>\n",
       "      <td>Eco</td>\n",
       "      <td>neutral or dissatisfied</td>\n",
       "    </tr>\n",
       "    <tr>\n",
       "      <th>103903</th>\n",
       "      <td>Male</td>\n",
       "      <td>Loyal Customer</td>\n",
       "      <td>Business travel</td>\n",
       "      <td>Business</td>\n",
       "      <td>neutral or dissatisfied</td>\n",
       "    </tr>\n",
       "  </tbody>\n",
       "</table>\n",
       "<p>103904 rows × 5 columns</p>\n",
       "</div>"
      ],
      "text/plain": [
       "        Gender      Customer Type   Type of Travel     Class  \\\n",
       "0         Male     Loyal Customer  Personal Travel  Eco Plus   \n",
       "1         Male  disloyal Customer  Business travel  Business   \n",
       "2       Female     Loyal Customer  Business travel  Business   \n",
       "3       Female     Loyal Customer  Business travel  Business   \n",
       "4         Male     Loyal Customer  Business travel  Business   \n",
       "...        ...                ...              ...       ...   \n",
       "103899  Female  disloyal Customer  Business travel       Eco   \n",
       "103900    Male     Loyal Customer  Business travel  Business   \n",
       "103901    Male  disloyal Customer  Business travel  Business   \n",
       "103902  Female  disloyal Customer  Business travel       Eco   \n",
       "103903    Male     Loyal Customer  Business travel  Business   \n",
       "\n",
       "                   satisfaction  \n",
       "0       neutral or dissatisfied  \n",
       "1       neutral or dissatisfied  \n",
       "2                     satisfied  \n",
       "3       neutral or dissatisfied  \n",
       "4                     satisfied  \n",
       "...                         ...  \n",
       "103899  neutral or dissatisfied  \n",
       "103900                satisfied  \n",
       "103901  neutral or dissatisfied  \n",
       "103902  neutral or dissatisfied  \n",
       "103903  neutral or dissatisfied  \n",
       "\n",
       "[103904 rows x 5 columns]"
      ]
     },
     "execution_count": 37,
     "metadata": {},
     "output_type": "execute_result"
    }
   ],
   "source": [
    "# Non numeric data\n",
    "train_cat = train.loc[:, train.dtypes == object]\n",
    "train_cat"
   ]
  },
  {
   "cell_type": "code",
   "execution_count": 38,
   "id": "2f77d9d3",
   "metadata": {
    "ExecuteTime": {
     "end_time": "2022-12-01T12:07:51.710575Z",
     "start_time": "2022-12-01T12:07:51.601166Z"
    }
   },
   "outputs": [
    {
     "data": {
      "text/html": [
       "<div>\n",
       "<style scoped>\n",
       "    .dataframe tbody tr th:only-of-type {\n",
       "        vertical-align: middle;\n",
       "    }\n",
       "\n",
       "    .dataframe tbody tr th {\n",
       "        vertical-align: top;\n",
       "    }\n",
       "\n",
       "    .dataframe thead th {\n",
       "        text-align: right;\n",
       "    }\n",
       "</style>\n",
       "<table border=\"1\" class=\"dataframe\">\n",
       "  <thead>\n",
       "    <tr style=\"text-align: right;\">\n",
       "      <th></th>\n",
       "      <th>Unnamed: 0</th>\n",
       "      <th>id</th>\n",
       "      <th>Age</th>\n",
       "      <th>Flight Distance</th>\n",
       "      <th>Inflight wifi service</th>\n",
       "      <th>Departure/Arrival time convenient</th>\n",
       "      <th>Ease of Online booking</th>\n",
       "      <th>Gate location</th>\n",
       "      <th>Food and drink</th>\n",
       "      <th>Online boarding</th>\n",
       "      <th>Seat comfort</th>\n",
       "      <th>Inflight entertainment</th>\n",
       "      <th>On-board service</th>\n",
       "      <th>Leg room service</th>\n",
       "      <th>Baggage handling</th>\n",
       "      <th>Checkin service</th>\n",
       "      <th>Inflight service</th>\n",
       "      <th>Cleanliness</th>\n",
       "      <th>Departure Delay in Minutes</th>\n",
       "      <th>Arrival Delay in Minutes</th>\n",
       "    </tr>\n",
       "  </thead>\n",
       "  <tbody>\n",
       "    <tr>\n",
       "      <th>count</th>\n",
       "      <td>103904.0</td>\n",
       "      <td>103904.0</td>\n",
       "      <td>103904.0</td>\n",
       "      <td>103904.0</td>\n",
       "      <td>103904.0</td>\n",
       "      <td>103904.0</td>\n",
       "      <td>103904.0</td>\n",
       "      <td>103904.0</td>\n",
       "      <td>103904.0</td>\n",
       "      <td>103904.0</td>\n",
       "      <td>103904.0</td>\n",
       "      <td>103904.0</td>\n",
       "      <td>103904.0</td>\n",
       "      <td>103904.0</td>\n",
       "      <td>103904.0</td>\n",
       "      <td>103904.0</td>\n",
       "      <td>103904.0</td>\n",
       "      <td>103904.0</td>\n",
       "      <td>103904.0</td>\n",
       "      <td>103594.0</td>\n",
       "    </tr>\n",
       "    <tr>\n",
       "      <th>mean</th>\n",
       "      <td>51951.5</td>\n",
       "      <td>64924.2</td>\n",
       "      <td>39.4</td>\n",
       "      <td>1189.4</td>\n",
       "      <td>2.7</td>\n",
       "      <td>3.1</td>\n",
       "      <td>2.8</td>\n",
       "      <td>3.0</td>\n",
       "      <td>3.2</td>\n",
       "      <td>3.3</td>\n",
       "      <td>3.4</td>\n",
       "      <td>3.4</td>\n",
       "      <td>3.4</td>\n",
       "      <td>3.4</td>\n",
       "      <td>3.6</td>\n",
       "      <td>3.3</td>\n",
       "      <td>3.6</td>\n",
       "      <td>3.3</td>\n",
       "      <td>14.8</td>\n",
       "      <td>15.2</td>\n",
       "    </tr>\n",
       "    <tr>\n",
       "      <th>std</th>\n",
       "      <td>29994.6</td>\n",
       "      <td>37463.8</td>\n",
       "      <td>15.1</td>\n",
       "      <td>997.1</td>\n",
       "      <td>1.3</td>\n",
       "      <td>1.5</td>\n",
       "      <td>1.4</td>\n",
       "      <td>1.3</td>\n",
       "      <td>1.3</td>\n",
       "      <td>1.3</td>\n",
       "      <td>1.3</td>\n",
       "      <td>1.3</td>\n",
       "      <td>1.3</td>\n",
       "      <td>1.3</td>\n",
       "      <td>1.2</td>\n",
       "      <td>1.3</td>\n",
       "      <td>1.2</td>\n",
       "      <td>1.3</td>\n",
       "      <td>38.2</td>\n",
       "      <td>38.7</td>\n",
       "    </tr>\n",
       "    <tr>\n",
       "      <th>min</th>\n",
       "      <td>0.0</td>\n",
       "      <td>1.0</td>\n",
       "      <td>7.0</td>\n",
       "      <td>31.0</td>\n",
       "      <td>0.0</td>\n",
       "      <td>0.0</td>\n",
       "      <td>0.0</td>\n",
       "      <td>0.0</td>\n",
       "      <td>0.0</td>\n",
       "      <td>0.0</td>\n",
       "      <td>0.0</td>\n",
       "      <td>0.0</td>\n",
       "      <td>0.0</td>\n",
       "      <td>0.0</td>\n",
       "      <td>1.0</td>\n",
       "      <td>0.0</td>\n",
       "      <td>0.0</td>\n",
       "      <td>0.0</td>\n",
       "      <td>0.0</td>\n",
       "      <td>0.0</td>\n",
       "    </tr>\n",
       "    <tr>\n",
       "      <th>25%</th>\n",
       "      <td>25975.8</td>\n",
       "      <td>32533.8</td>\n",
       "      <td>27.0</td>\n",
       "      <td>414.0</td>\n",
       "      <td>2.0</td>\n",
       "      <td>2.0</td>\n",
       "      <td>2.0</td>\n",
       "      <td>2.0</td>\n",
       "      <td>2.0</td>\n",
       "      <td>2.0</td>\n",
       "      <td>2.0</td>\n",
       "      <td>2.0</td>\n",
       "      <td>2.0</td>\n",
       "      <td>2.0</td>\n",
       "      <td>3.0</td>\n",
       "      <td>3.0</td>\n",
       "      <td>3.0</td>\n",
       "      <td>2.0</td>\n",
       "      <td>0.0</td>\n",
       "      <td>0.0</td>\n",
       "    </tr>\n",
       "    <tr>\n",
       "      <th>50%</th>\n",
       "      <td>51951.5</td>\n",
       "      <td>64856.5</td>\n",
       "      <td>40.0</td>\n",
       "      <td>843.0</td>\n",
       "      <td>3.0</td>\n",
       "      <td>3.0</td>\n",
       "      <td>3.0</td>\n",
       "      <td>3.0</td>\n",
       "      <td>3.0</td>\n",
       "      <td>3.0</td>\n",
       "      <td>4.0</td>\n",
       "      <td>4.0</td>\n",
       "      <td>4.0</td>\n",
       "      <td>4.0</td>\n",
       "      <td>4.0</td>\n",
       "      <td>3.0</td>\n",
       "      <td>4.0</td>\n",
       "      <td>3.0</td>\n",
       "      <td>0.0</td>\n",
       "      <td>0.0</td>\n",
       "    </tr>\n",
       "    <tr>\n",
       "      <th>75%</th>\n",
       "      <td>77927.2</td>\n",
       "      <td>97368.2</td>\n",
       "      <td>51.0</td>\n",
       "      <td>1743.0</td>\n",
       "      <td>4.0</td>\n",
       "      <td>4.0</td>\n",
       "      <td>4.0</td>\n",
       "      <td>4.0</td>\n",
       "      <td>4.0</td>\n",
       "      <td>4.0</td>\n",
       "      <td>5.0</td>\n",
       "      <td>4.0</td>\n",
       "      <td>4.0</td>\n",
       "      <td>4.0</td>\n",
       "      <td>5.0</td>\n",
       "      <td>4.0</td>\n",
       "      <td>5.0</td>\n",
       "      <td>4.0</td>\n",
       "      <td>12.0</td>\n",
       "      <td>13.0</td>\n",
       "    </tr>\n",
       "    <tr>\n",
       "      <th>max</th>\n",
       "      <td>103903.0</td>\n",
       "      <td>129880.0</td>\n",
       "      <td>85.0</td>\n",
       "      <td>4983.0</td>\n",
       "      <td>5.0</td>\n",
       "      <td>5.0</td>\n",
       "      <td>5.0</td>\n",
       "      <td>5.0</td>\n",
       "      <td>5.0</td>\n",
       "      <td>5.0</td>\n",
       "      <td>5.0</td>\n",
       "      <td>5.0</td>\n",
       "      <td>5.0</td>\n",
       "      <td>5.0</td>\n",
       "      <td>5.0</td>\n",
       "      <td>5.0</td>\n",
       "      <td>5.0</td>\n",
       "      <td>5.0</td>\n",
       "      <td>1592.0</td>\n",
       "      <td>1584.0</td>\n",
       "    </tr>\n",
       "  </tbody>\n",
       "</table>\n",
       "</div>"
      ],
      "text/plain": [
       "       Unnamed: 0        id       Age  Flight Distance  Inflight wifi service  \\\n",
       "count    103904.0  103904.0  103904.0         103904.0               103904.0   \n",
       "mean      51951.5   64924.2      39.4           1189.4                    2.7   \n",
       "std       29994.6   37463.8      15.1            997.1                    1.3   \n",
       "min           0.0       1.0       7.0             31.0                    0.0   \n",
       "25%       25975.8   32533.8      27.0            414.0                    2.0   \n",
       "50%       51951.5   64856.5      40.0            843.0                    3.0   \n",
       "75%       77927.2   97368.2      51.0           1743.0                    4.0   \n",
       "max      103903.0  129880.0      85.0           4983.0                    5.0   \n",
       "\n",
       "       Departure/Arrival time convenient  Ease of Online booking  \\\n",
       "count                           103904.0                103904.0   \n",
       "mean                                 3.1                     2.8   \n",
       "std                                  1.5                     1.4   \n",
       "min                                  0.0                     0.0   \n",
       "25%                                  2.0                     2.0   \n",
       "50%                                  3.0                     3.0   \n",
       "75%                                  4.0                     4.0   \n",
       "max                                  5.0                     5.0   \n",
       "\n",
       "       Gate location  Food and drink  Online boarding  Seat comfort  \\\n",
       "count       103904.0        103904.0         103904.0      103904.0   \n",
       "mean             3.0             3.2              3.3           3.4   \n",
       "std              1.3             1.3              1.3           1.3   \n",
       "min              0.0             0.0              0.0           0.0   \n",
       "25%              2.0             2.0              2.0           2.0   \n",
       "50%              3.0             3.0              3.0           4.0   \n",
       "75%              4.0             4.0              4.0           5.0   \n",
       "max              5.0             5.0              5.0           5.0   \n",
       "\n",
       "       Inflight entertainment  On-board service  Leg room service  \\\n",
       "count                103904.0          103904.0          103904.0   \n",
       "mean                      3.4               3.4               3.4   \n",
       "std                       1.3               1.3               1.3   \n",
       "min                       0.0               0.0               0.0   \n",
       "25%                       2.0               2.0               2.0   \n",
       "50%                       4.0               4.0               4.0   \n",
       "75%                       4.0               4.0               4.0   \n",
       "max                       5.0               5.0               5.0   \n",
       "\n",
       "       Baggage handling  Checkin service  Inflight service  Cleanliness  \\\n",
       "count          103904.0         103904.0          103904.0     103904.0   \n",
       "mean                3.6              3.3               3.6          3.3   \n",
       "std                 1.2              1.3               1.2          1.3   \n",
       "min                 1.0              0.0               0.0          0.0   \n",
       "25%                 3.0              3.0               3.0          2.0   \n",
       "50%                 4.0              3.0               4.0          3.0   \n",
       "75%                 5.0              4.0               5.0          4.0   \n",
       "max                 5.0              5.0               5.0          5.0   \n",
       "\n",
       "       Departure Delay in Minutes  Arrival Delay in Minutes  \n",
       "count                    103904.0                  103594.0  \n",
       "mean                         14.8                      15.2  \n",
       "std                          38.2                      38.7  \n",
       "min                           0.0                       0.0  \n",
       "25%                           0.0                       0.0  \n",
       "50%                           0.0                       0.0  \n",
       "75%                          12.0                      13.0  \n",
       "max                        1592.0                    1584.0  "
      ]
     },
     "execution_count": 38,
     "metadata": {},
     "output_type": "execute_result"
    }
   ],
   "source": [
    "train.describe().apply(lambda x: round(x, 1))"
   ]
  },
  {
   "cell_type": "code",
   "execution_count": 39,
   "id": "2a48605f",
   "metadata": {
    "ExecuteTime": {
     "end_time": "2022-12-01T12:07:56.543080Z",
     "start_time": "2022-12-01T12:07:56.528044Z"
    }
   },
   "outputs": [
    {
     "data": {
      "text/plain": [
       "neutral or dissatisfied    58879\n",
       "satisfied                  45025\n",
       "Name: satisfaction, dtype: int64"
      ]
     },
     "execution_count": 39,
     "metadata": {},
     "output_type": "execute_result"
    }
   ],
   "source": [
    "train.satisfaction.value_counts()"
   ]
  },
  {
   "cell_type": "markdown",
   "id": "cffd77ac",
   "metadata": {},
   "source": [
    "### Data distribution"
   ]
  },
  {
   "cell_type": "code",
   "execution_count": 40,
   "id": "a63eb710",
   "metadata": {
    "ExecuteTime": {
     "end_time": "2022-12-01T12:11:04.468502Z",
     "start_time": "2022-12-01T12:11:04.449463Z"
    }
   },
   "outputs": [],
   "source": [
    "def divide_col(df_col, n):\n",
    "    '''\n",
    "    Divide the columns of the dataset into blocks of size n\n",
    "    '''\n",
    "    \n",
    "    for i in range(0, len(df_col), n):\n",
    "        yield df_col[i:i + n]"
   ]
  },
  {
   "cell_type": "markdown",
   "id": "1a2a4a6b",
   "metadata": {},
   "source": [
    "Let's see how the data is distributed in pairplots."
   ]
  },
  {
   "cell_type": "code",
   "execution_count": 59,
   "id": "3e9ea4c6",
   "metadata": {
    "ExecuteTime": {
     "end_time": "2022-12-01T12:30:38.514221Z",
     "start_time": "2022-12-01T12:30:38.424528Z"
    }
   },
   "outputs": [
    {
     "data": {
      "image/png": "[encoded data removed]",
      "text/plain": [
       "<Figure size 576x432 with 1 Axes>"
      ]
     },
     "metadata": {},
     "output_type": "display_data"
    }
   ],
   "source": [
    "#Proportion between Ticket Classes\n",
    "\n",
    "data = train['Class'].value_counts()\n",
    "labels = train['Class'].unique()\n",
    "\n",
    "#Colors of the pie chart\n",
    "colors = sns.color_palette('rocket')[3:6]\n",
    "\n",
    "fig, ax = plt.subplots(figsize=(8, 6))\n",
    "\n",
    "\n",
    "#Creating a Pie Chart\n",
    "plt.pie(data, labels = labels, colors = colors, autopct='%.2f%%')\n",
    "plt.legend(bbox_to_anchor=(1.02, 1), loc='upper left', borderaxespad=0)\n",
    "plt.show()"
   ]
  },
  {
   "cell_type": "markdown",
   "id": "f264c1a1",
   "metadata": {},
   "source": [
    "As we can see above, the ECO class customers represent only a small portion, and these clients are the most neutral or dissatisfied."
   ]
  },
  {
   "cell_type": "code",
   "execution_count": 65,
   "id": "75bc02a2",
   "metadata": {
    "ExecuteTime": {
     "end_time": "2022-12-01T12:41:28.026408Z",
     "start_time": "2022-12-01T12:41:28.001438Z"
    }
   },
   "outputs": [],
   "source": [
    "#For the following analysis, let's change neutral or dissatisfied to 0 and satisfied to 1\n",
    "new_train = train.copy()\n",
    "\n",
    "satisfaction_map = {\n",
    "    'neutral or dissatisfied': 0,\n",
    "    'satisfied': 1\n",
    "}\n",
    "new_train.satisfaction = new_train.satisfaction.map(satisfaction_map)"
   ]
  },
  {
   "cell_type": "markdown",
   "id": "21cc1fe0",
   "metadata": {},
   "source": [
    "The above transformation allow us to get the approximate probability of a satisfied client given the provided data. For example, if we have the following dataset:\n",
    "\n",
    "Client | Cabin | Satisfaction\n",
    "-- | -- | :-\n",
    "A | Eco | 1\n",
    "B | Eco | 0\n",
    "C | Eco | 0\n",
    "D | Eco | 0\n",
    "E | Bus | 1\n",
    "F | Bus | 1\n",
    "G | Bus | 1\n",
    "H | Bus | 0\n",
    "\n",
    "If we take the mean only for the Eco customers, we will have the value 0.25 (1+0+0+0)/4. In this sense, with the mean we can get an idea of the probability of a customer be satisfied based on different features.\n",
    "\n",
    "Let's see below how we can implement this in our current problem."
   ]
  },
  {
   "cell_type": "code",
   "execution_count": 67,
   "id": "ddd2de10",
   "metadata": {
    "ExecuteTime": {
     "end_time": "2022-12-01T12:52:15.887316Z",
     "start_time": "2022-12-01T12:52:15.771284Z"
    }
   },
   "outputs": [
    {
     "data": {
      "text/html": [
       "<div>\n",
       "<style scoped>\n",
       "    .dataframe tbody tr th:only-of-type {\n",
       "        vertical-align: middle;\n",
       "    }\n",
       "\n",
       "    .dataframe tbody tr th {\n",
       "        vertical-align: top;\n",
       "    }\n",
       "\n",
       "    .dataframe thead th {\n",
       "        text-align: right;\n",
       "    }\n",
       "</style>\n",
       "<table border=\"1\" class=\"dataframe\">\n",
       "  <thead>\n",
       "    <tr style=\"text-align: right;\">\n",
       "      <th></th>\n",
       "      <th></th>\n",
       "      <th>satisfaction</th>\n",
       "    </tr>\n",
       "    <tr>\n",
       "      <th>Class</th>\n",
       "      <th>Gender</th>\n",
       "      <th></th>\n",
       "    </tr>\n",
       "  </thead>\n",
       "  <tbody>\n",
       "    <tr>\n",
       "      <th rowspan=\"2\" valign=\"top\">Business</th>\n",
       "      <th>Female</th>\n",
       "      <td>0.690697</td>\n",
       "    </tr>\n",
       "    <tr>\n",
       "      <th>Male</th>\n",
       "      <td>0.697833</td>\n",
       "    </tr>\n",
       "    <tr>\n",
       "      <th rowspan=\"2\" valign=\"top\">Eco</th>\n",
       "      <th>Female</th>\n",
       "      <td>0.183880</td>\n",
       "    </tr>\n",
       "    <tr>\n",
       "      <th>Male</th>\n",
       "      <td>0.188491</td>\n",
       "    </tr>\n",
       "    <tr>\n",
       "      <th rowspan=\"2\" valign=\"top\">Eco Plus</th>\n",
       "      <th>Female</th>\n",
       "      <td>0.235921</td>\n",
       "    </tr>\n",
       "    <tr>\n",
       "      <th>Male</th>\n",
       "      <td>0.257320</td>\n",
       "    </tr>\n",
       "  </tbody>\n",
       "</table>\n",
       "</div>"
      ],
      "text/plain": [
       "                 satisfaction\n",
       "Class    Gender              \n",
       "Business Female      0.690697\n",
       "         Male        0.697833\n",
       "Eco      Female      0.183880\n",
       "         Male        0.188491\n",
       "Eco Plus Female      0.235921\n",
       "         Male        0.257320"
      ]
     },
     "metadata": {},
     "output_type": "display_data"
    },
    {
     "data": {
      "text/html": [
       "<div>\n",
       "<style scoped>\n",
       "    .dataframe tbody tr th:only-of-type {\n",
       "        vertical-align: middle;\n",
       "    }\n",
       "\n",
       "    .dataframe tbody tr th {\n",
       "        vertical-align: top;\n",
       "    }\n",
       "\n",
       "    .dataframe thead th {\n",
       "        text-align: right;\n",
       "    }\n",
       "</style>\n",
       "<table border=\"1\" class=\"dataframe\">\n",
       "  <thead>\n",
       "    <tr style=\"text-align: right;\">\n",
       "      <th></th>\n",
       "      <th></th>\n",
       "      <th>satisfaction</th>\n",
       "    </tr>\n",
       "    <tr>\n",
       "      <th>Class</th>\n",
       "      <th>Customer Type</th>\n",
       "      <th></th>\n",
       "    </tr>\n",
       "  </thead>\n",
       "  <tbody>\n",
       "    <tr>\n",
       "      <th rowspan=\"2\" valign=\"top\">Business</th>\n",
       "      <th>Loyal Customer</th>\n",
       "      <td>0.746201</td>\n",
       "    </tr>\n",
       "    <tr>\n",
       "      <th>disloyal Customer</th>\n",
       "      <td>0.395459</td>\n",
       "    </tr>\n",
       "    <tr>\n",
       "      <th rowspan=\"2\" valign=\"top\">Eco</th>\n",
       "      <th>Loyal Customer</th>\n",
       "      <td>0.200195</td>\n",
       "    </tr>\n",
       "    <tr>\n",
       "      <th>disloyal Customer</th>\n",
       "      <td>0.139963</td>\n",
       "    </tr>\n",
       "    <tr>\n",
       "      <th rowspan=\"2\" valign=\"top\">Eco Plus</th>\n",
       "      <th>Loyal Customer</th>\n",
       "      <td>0.263756</td>\n",
       "    </tr>\n",
       "    <tr>\n",
       "      <th>disloyal Customer</th>\n",
       "      <td>0.078322</td>\n",
       "    </tr>\n",
       "  </tbody>\n",
       "</table>\n",
       "</div>"
      ],
      "text/plain": [
       "                            satisfaction\n",
       "Class    Customer Type                  \n",
       "Business Loyal Customer         0.746201\n",
       "         disloyal Customer      0.395459\n",
       "Eco      Loyal Customer         0.200195\n",
       "         disloyal Customer      0.139963\n",
       "Eco Plus Loyal Customer         0.263756\n",
       "         disloyal Customer      0.078322"
      ]
     },
     "metadata": {},
     "output_type": "display_data"
    },
    {
     "data": {
      "text/html": [
       "<div>\n",
       "<style scoped>\n",
       "    .dataframe tbody tr th:only-of-type {\n",
       "        vertical-align: middle;\n",
       "    }\n",
       "\n",
       "    .dataframe tbody tr th {\n",
       "        vertical-align: top;\n",
       "    }\n",
       "\n",
       "    .dataframe thead th {\n",
       "        text-align: right;\n",
       "    }\n",
       "</style>\n",
       "<table border=\"1\" class=\"dataframe\">\n",
       "  <thead>\n",
       "    <tr style=\"text-align: right;\">\n",
       "      <th></th>\n",
       "      <th></th>\n",
       "      <th>satisfaction</th>\n",
       "    </tr>\n",
       "    <tr>\n",
       "      <th>Class</th>\n",
       "      <th>Type of Travel</th>\n",
       "      <th></th>\n",
       "    </tr>\n",
       "  </thead>\n",
       "  <tbody>\n",
       "    <tr>\n",
       "      <th rowspan=\"2\" valign=\"top\">Business</th>\n",
       "      <th>Business travel</th>\n",
       "      <td>0.720216</td>\n",
       "    </tr>\n",
       "    <tr>\n",
       "      <th>Personal Travel</th>\n",
       "      <td>0.122392</td>\n",
       "    </tr>\n",
       "    <tr>\n",
       "      <th rowspan=\"2\" valign=\"top\">Eco</th>\n",
       "      <th>Business travel</th>\n",
       "      <td>0.296194</td>\n",
       "    </tr>\n",
       "    <tr>\n",
       "      <th>Personal Travel</th>\n",
       "      <td>0.101971</td>\n",
       "    </tr>\n",
       "    <tr>\n",
       "      <th rowspan=\"2\" valign=\"top\">Eco Plus</th>\n",
       "      <th>Business travel</th>\n",
       "      <td>0.393316</td>\n",
       "    </tr>\n",
       "    <tr>\n",
       "      <th>Personal Travel</th>\n",
       "      <td>0.087125</td>\n",
       "    </tr>\n",
       "  </tbody>\n",
       "</table>\n",
       "</div>"
      ],
      "text/plain": [
       "                          satisfaction\n",
       "Class    Type of Travel               \n",
       "Business Business travel      0.720216\n",
       "         Personal Travel      0.122392\n",
       "Eco      Business travel      0.296194\n",
       "         Personal Travel      0.101971\n",
       "Eco Plus Business travel      0.393316\n",
       "         Personal Travel      0.087125"
      ]
     },
     "metadata": {},
     "output_type": "display_data"
    },
    {
     "data": {
      "text/html": [
       "<div>\n",
       "<style scoped>\n",
       "    .dataframe tbody tr th:only-of-type {\n",
       "        vertical-align: middle;\n",
       "    }\n",
       "\n",
       "    .dataframe tbody tr th {\n",
       "        vertical-align: top;\n",
       "    }\n",
       "\n",
       "    .dataframe thead th {\n",
       "        text-align: right;\n",
       "    }\n",
       "</style>\n",
       "<table border=\"1\" class=\"dataframe\">\n",
       "  <thead>\n",
       "    <tr style=\"text-align: right;\">\n",
       "      <th></th>\n",
       "      <th></th>\n",
       "      <th>satisfaction</th>\n",
       "    </tr>\n",
       "    <tr>\n",
       "      <th>Class</th>\n",
       "      <th>Class</th>\n",
       "      <th></th>\n",
       "    </tr>\n",
       "  </thead>\n",
       "  <tbody>\n",
       "    <tr>\n",
       "      <th>Business</th>\n",
       "      <th>Business</th>\n",
       "      <td>0.694251</td>\n",
       "    </tr>\n",
       "    <tr>\n",
       "      <th>Eco</th>\n",
       "      <th>Eco</th>\n",
       "      <td>0.186138</td>\n",
       "    </tr>\n",
       "    <tr>\n",
       "      <th>Eco Plus</th>\n",
       "      <th>Eco Plus</th>\n",
       "      <td>0.246064</td>\n",
       "    </tr>\n",
       "  </tbody>\n",
       "</table>\n",
       "</div>"
      ],
      "text/plain": [
       "                   satisfaction\n",
       "Class    Class                 \n",
       "Business Business      0.694251\n",
       "Eco      Eco           0.186138\n",
       "Eco Plus Eco Plus      0.246064"
      ]
     },
     "metadata": {},
     "output_type": "display_data"
    }
   ],
   "source": [
    "#Probability of a satisfied customer according to the Ticket Class and according to the other categorical variables\n",
    "\n",
    "col_categ = train_cat.drop(columns='satisfaction').columns\n",
    "for categ in col_categ:\n",
    "    display(new_train.groupby(['Class',categ])[['satisfaction']].mean())\n"
   ]
  },
  {
   "cell_type": "markdown",
   "id": "a893c92c",
   "metadata": {},
   "source": [
    "From the data above, we can see that Business customers are much more satisfied than Economy and Economy Plus customers. Also, among the types of travel and customer types, business and loyal customers are more likely to be satisfied with their trip than customers who travel for personal reasons and/or are disloyal customers.\n",
    "\n",
    "Finally, please that gender does not interfere with the level of customer satisfaction. This is a good indicator that there are no differences in service with respect to gender, so the airline's set of qualities can reach both genders equally."
   ]
  },
  {
   "cell_type": "code",
   "execution_count": 70,
   "id": "87a769c3",
   "metadata": {
    "ExecuteTime": {
     "end_time": "2022-12-01T13:00:00.443300Z",
     "start_time": "2022-12-01T12:59:41.833722Z"
    }
   },
   "outputs": [
    {
     "data": {
      "image/png": "[encoded data removed]",
      "text/plain": [
       "<Figure size 432x288 with 1 Axes>"
      ]
     },
     "metadata": {
      "needs_background": "light"
     },
     "output_type": "display_data"
    },
    {
     "data": {
      "image/png": "[encoded data removed]",
      "text/plain": [
       "<Figure size 432x288 with 1 Axes>"
      ]
     },
     "metadata": {
      "needs_background": "light"
     },
     "output_type": "display_data"
    },
    {
     "data": {
      "image/png": "[encoded data removed]",
      "text/plain": [
       "<Figure size 432x288 with 1 Axes>"
      ]
     },
     "metadata": {
      "needs_background": "light"
     },
     "output_type": "display_data"
    },
    {
     "data": {
      "image/png": "[encoded data removed]",
      "text/plain": [
       "<Figure size 432x288 with 1 Axes>"
      ]
     },
     "metadata": {
      "needs_background": "light"
     },
     "output_type": "display_data"
    },
    {
     "data": {
      "image/png": "[encoded data removed]",
      "text/plain": [
       "<Figure size 432x288 with 1 Axes>"
      ]
     },
     "metadata": {
      "needs_background": "light"
     },
     "output_type": "display_data"
    },
    {
     "data": {
      "image/png": "[encoded data removed]",
      "text/plain": [
       "<Figure size 432x288 with 1 Axes>"
      ]
     },
     "metadata": {
      "needs_background": "light"
     },
     "output_type": "display_data"
    },
    {
     "data": {
      "image/png": "[encoded data removed]",
      "text/plain": [
       "<Figure size 432x288 with 1 Axes>"
      ]
     },
     "metadata": {
      "needs_background": "light"
     },
     "output_type": "display_data"
    },
    {
     "data": {
      "image/png": "[encoded data removed]",
      "text/plain": [
       "<Figure size 432x288 with 1 Axes>"
      ]
     },
     "metadata": {
      "needs_background": "light"
     },
     "output_type": "display_data"
    },
    {
     "data": {
      "image/png": "[encoded data removed]",
      "text/plain": [
       "<Figure size 432x288 with 1 Axes>"
      ]
     },
     "metadata": {
      "needs_background": "light"
     },
     "output_type": "display_data"
    },
    {
     "data": {
      "image/png": "[encoded data removed]",
      "text/plain": [
       "<Figure size 432x288 with 1 Axes>"
      ]
     },
     "metadata": {
      "needs_background": "light"
     },
     "output_type": "display_data"
    },
    {
     "data": {
      "image/png": "[encoded data removed]",
      "text/plain": [
       "<Figure size 432x288 with 1 Axes>"
      ]
     },
     "metadata": {
      "needs_background": "light"
     },
     "output_type": "display_data"
    },
    {
     "data": {
      "image/png": "[encoded data removed]",
      "text/plain": [
       "<Figure size 432x288 with 1 Axes>"
      ]
     },
     "metadata": {
      "needs_background": "light"
     },
     "output_type": "display_data"
    },
    {
     "data": {
      "image/png": "[encoded data removed]",
      "text/plain": [
       "<Figure size 432x288 with 1 Axes>"
      ]
     },
     "metadata": {
      "needs_background": "light"
     },
     "output_type": "display_data"
    },
    {
     "data": {
      "image/png": "[encoded data removed]",
      "text/plain": [
       "<Figure size 432x288 with 1 Axes>"
      ]
     },
     "metadata": {
      "needs_background": "light"
     },
     "output_type": "display_data"
    },
    {
     "data": {
      "image/png": "[encoded data removed]",
      "text/plain": [
       "<Figure size 432x288 with 1 Axes>"
      ]
     },
     "metadata": {
      "needs_background": "light"
     },
     "output_type": "display_data"
    },
    {
     "data": {
      "image/png": "[encoded data removed]",
      "text/plain": [
       "<Figure size 432x288 with 1 Axes>"
      ]
     },
     "metadata": {
      "needs_background": "light"
     },
     "output_type": "display_data"
    },
    {
     "data": {
      "image/png": "[encoded data removed]",
      "text/plain": [
       "<Figure size 432x288 with 1 Axes>"
      ]
     },
     "metadata": {
      "needs_background": "light"
     },
     "output_type": "display_data"
    },
    {
     "data": {
      "image/png": "[encoded data removed]",
      "text/plain": [
       "<Figure size 432x288 with 1 Axes>"
      ]
     },
     "metadata": {
      "needs_background": "light"
     },
     "output_type": "display_data"
    },
    {
     "data": {
      "image/png": "[encoded data removed]",
      "text/plain": [
       "<Figure size 432x288 with 1 Axes>"
      ]
     },
     "metadata": {
      "needs_background": "light"
     },
     "output_type": "display_data"
    },
    {
     "data": {
      "image/png": "[encoded data removed]",
      "text/plain": [
       "<Figure size 432x288 with 1 Axes>"
      ]
     },
     "metadata": {
      "needs_background": "light"
     },
     "output_type": "display_data"
    }
   ],
   "source": [
    "#Histogram for the numeric data\n",
    "\n",
    "for col in train_num:\n",
    "\n",
    "    sns.histplot(data=train_num, x=col, kde=True).set_title(f\"Histogram of {col}\")\n",
    "    plt.show()"
   ]
  },
  {
   "cell_type": "code",
   "execution_count": 72,
   "id": "f99657a1",
   "metadata": {
    "ExecuteTime": {
     "end_time": "2022-12-01T13:04:14.391536Z",
     "start_time": "2022-12-01T13:04:14.178604Z"
    }
   },
   "outputs": [
    {
     "data": {
      "text/plain": [
       "<matplotlib.legend.Legend at 0x2a906655340>"
      ]
     },
     "execution_count": 72,
     "metadata": {},
     "output_type": "execute_result"
    },
    {
     "data": {
      "image/png": "[encoded data removed]",
      "text/plain": [
       "<Figure size 720x504 with 1 Axes>"
      ]
     },
     "metadata": {
      "needs_background": "light"
     },
     "output_type": "display_data"
    }
   ],
   "source": [
    "fig = plt.figure(figsize=(10,7))\n",
    "ax = fig.add_axes([0,0,1,1])\n",
    "sns.countplot(data = train, x = 'Class', hue = 'satisfaction', palette='crest')\n",
    "plt.title(\"Count of class occurrences separeted by cabin\")\n",
    "plt.legend(bbox_to_anchor=(1.02, 1), loc='upper left', borderaxespad=0)"
   ]
  },
  {
   "cell_type": "code",
   "execution_count": 74,
   "id": "e1b99e8c",
   "metadata": {
    "ExecuteTime": {
     "end_time": "2022-12-01T13:07:16.262642Z",
     "start_time": "2022-12-01T13:07:16.218614Z"
    }
   },
   "outputs": [
    {
     "name": "stdout",
     "output_type": "stream",
     "text": [
      "Count of Age\n",
      "\n",
      "0-15 years old:\t 6048\n",
      "15-30 years old:\t 26709\n",
      "30-45 years old:\t 33252\n",
      "45+ years old:\t 37895\n"
     ]
    }
   ],
   "source": [
    "print('Count of Age\\n')\n",
    "\n",
    "print(\"0-15 years old:\\t\", train[train[\"Age\"] <= 15].shape[0])\n",
    "\n",
    "print(\"15-30 years old:\\t\", train[(train[\"Age\"] > 15) & (train[\"Age\"] <= 30)].shape[0])\n",
    "\n",
    "print(\"30-45 years old:\\t\", train[(train[\"Age\"] > 30) & (train[\"Age\"] <= 45)].shape[0])\n",
    "\n",
    "print(\"45+ years old:\\t\", train[train[\"Age\"] > 45].shape[0])"
   ]
  },
  {
   "cell_type": "code",
   "execution_count": 75,
   "id": "3e909f89",
   "metadata": {
    "ExecuteTime": {
     "end_time": "2022-12-01T13:08:02.719626Z",
     "start_time": "2022-12-01T13:08:02.667260Z"
    }
   },
   "outputs": [
    {
     "name": "stdout",
     "output_type": "stream",
     "text": [
      "Count of age per gender\n",
      "\n",
      "0-15 anos:\n",
      " Female    0.50711\n",
      "Male      0.49289\n",
      "Name: Gender, dtype: float64 \n",
      "\n",
      "15-30 anos:\n",
      " Female    0.520873\n",
      "Male      0.479127\n",
      "Name: Gender, dtype: float64 \n",
      "\n",
      "30-45 anos:\n",
      " Female    0.501895\n",
      "Male      0.498105\n",
      "Name: Gender, dtype: float64 \n",
      "\n",
      "45+ anos:\n",
      " Female    0.502942\n",
      "Male      0.497058\n",
      "Name: Gender, dtype: float64 \n",
      "\n"
     ]
    }
   ],
   "source": [
    "print('Count of age per gender\\n')\n",
    "\n",
    "print(\"0-15 years old:\\n\", train[train[\"Age\"] <= 15][\"Gender\"].value_counts(normalize=True), \"\\n\")\n",
    "\n",
    "print(\"15-30 years old:\\n\",train[(train[\"Age\"] > 15) & (train[\"Age\"] <= 30)][\"Gender\"].value_counts(normalize=True), \"\\n\")\n",
    "\n",
    "print(\"30-45 years old:\\n\",train[(train[\"Age\"] > 30) & (train[\"Age\"] <= 45)][\"Gender\"].value_counts(normalize=True), \"\\n\")\n",
    "\n",
    "print(\"45+ years old:\\n\",train[train[\"Age\"] > 45][\"Gender\"].value_counts(normalize=True), \"\\n\")"
   ]
  },
  {
   "cell_type": "code",
   "execution_count": 77,
   "id": "4cb79c7a",
   "metadata": {
    "ExecuteTime": {
     "end_time": "2022-12-01T13:09:42.633681Z",
     "start_time": "2022-12-01T13:09:42.587411Z"
    }
   },
   "outputs": [
    {
     "name": "stdout",
     "output_type": "stream",
     "text": [
      "Count of age per satisfaction\n",
      "\n",
      "0-15 years old:\n",
      " neutral or dissatisfied    0.855324\n",
      "satisfied                  0.144676\n",
      "Name: satisfaction, dtype: float64 \n",
      "\n",
      "15-30 years old:\n",
      " neutral or dissatisfied    0.658954\n",
      "satisfied                  0.341046\n",
      "Name: satisfaction, dtype: float64 \n",
      "\n",
      "30-45 years old:\n",
      " neutral or dissatisfied    0.512721\n",
      "satisfied                  0.487279\n",
      "Name: satisfaction, dtype: float64 \n",
      "\n",
      "45+ years old:\n",
      " neutral or dissatisfied    0.50289\n",
      "satisfied                  0.49711\n",
      "Name: satisfaction, dtype: float64 \n",
      "\n"
     ]
    }
   ],
   "source": [
    "print('Count of age per satisfaction\\n')\n",
    "print(\"0-15 years old:\\n\", train[train[\"Age\"] <= 15][\"satisfaction\"].value_counts(normalize=True), \"\\n\")\n",
    "print(\"15-30 years old:\\n\",train[(train[\"Age\"] > 15) & (train[\"Age\"] <= 30)][\"satisfaction\"].value_counts(normalize=True), \"\\n\")\n",
    "print(\"30-45 years old:\\n\",train[(train[\"Age\"] > 30) & (train[\"Age\"] <= 45)][\"satisfaction\"].value_counts(normalize=True), \"\\n\")\n",
    "print(\"45+ years old:\\n\",train[train[\"Age\"] > 45][\"satisfaction\"].value_counts(normalize=True), \"\\n\")"
   ]
  },
  {
   "cell_type": "markdown",
   "id": "3812cad8",
   "metadata": {},
   "source": [
    "## Features correlations"
   ]
  },
  {
   "cell_type": "code",
   "execution_count": 79,
   "id": "c4e0e83f",
   "metadata": {
    "ExecuteTime": {
     "end_time": "2022-12-01T13:10:16.282159Z",
     "start_time": "2022-12-01T13:10:14.730240Z"
    }
   },
   "outputs": [
    {
     "data": {
      "text/plain": [
       "<AxesSubplot:>"
      ]
     },
     "execution_count": 79,
     "metadata": {},
     "output_type": "execute_result"
    },
    {
     "data": {
      "image/png": "[encoded data removed]",
      "text/plain": [
       "<Figure size 1440x1080 with 2 Axes>"
      ]
     },
     "metadata": {
      "needs_background": "light"
     },
     "output_type": "display_data"
    }
   ],
   "source": [
    "plt.figure(figsize=(20, 15))\n",
    "\n",
    "sns.heatmap(train.corr(), annot=True)"
   ]
  },
  {
   "cell_type": "code",
   "execution_count": 84,
   "id": "dfdf8b92",
   "metadata": {
    "ExecuteTime": {
     "end_time": "2022-12-01T13:13:53.224237Z",
     "start_time": "2022-12-01T13:13:53.083456Z"
    }
   },
   "outputs": [
    {
     "data": {
      "text/plain": [
       "Arrival Delay in Minutes            -0.057582\n",
       "Departure/Arrival time convenient   -0.051601\n",
       "Departure Delay in Minutes          -0.050494\n",
       "Unnamed: 0                          -0.004731\n",
       "Gate location                        0.000682\n",
       "id                                   0.013734\n",
       "Age                                  0.137167\n",
       "Ease of Online booking               0.171705\n",
       "Food and drink                       0.209936\n",
       "Checkin service                      0.236174\n",
       "Inflight service                     0.244741\n",
       "Baggage handling                     0.247749\n",
       "Inflight wifi service                0.284245\n",
       "Flight Distance                      0.298780\n",
       "Cleanliness                          0.305198\n",
       "Leg room service                     0.313131\n",
       "On-board service                     0.322383\n",
       "Seat comfort                         0.349459\n",
       "Inflight entertainment               0.398059\n",
       "Online boarding                      0.503557\n",
       "satisfaction                         1.000000\n",
       "Name: satisfaction, dtype: float64"
      ]
     },
     "execution_count": 84,
     "metadata": {},
     "output_type": "execute_result"
    }
   ],
   "source": [
    "#using the train dataset with the column satisfaction transformed to 0 and 1\n",
    "new_train.corr()[\"satisfaction\"].sort_values()"
   ]
  },
  {
   "cell_type": "code",
   "execution_count": 86,
   "id": "19ae2bb2",
   "metadata": {
    "ExecuteTime": {
     "end_time": "2022-12-01T13:16:41.710924Z",
     "start_time": "2022-12-01T13:16:41.603320Z"
    }
   },
   "outputs": [
    {
     "data": {
      "text/html": [
       "<div>\n",
       "<style scoped>\n",
       "    .dataframe tbody tr th:only-of-type {\n",
       "        vertical-align: middle;\n",
       "    }\n",
       "\n",
       "    .dataframe tbody tr th {\n",
       "        vertical-align: top;\n",
       "    }\n",
       "\n",
       "    .dataframe thead th {\n",
       "        text-align: right;\n",
       "    }\n",
       "</style>\n",
       "<table border=\"1\" class=\"dataframe\">\n",
       "  <thead>\n",
       "    <tr style=\"text-align: right;\">\n",
       "      <th></th>\n",
       "      <th>Unnamed: 0</th>\n",
       "      <th>id</th>\n",
       "      <th>Age</th>\n",
       "      <th>Flight Distance</th>\n",
       "      <th>Inflight wifi service</th>\n",
       "      <th>Departure/Arrival time convenient</th>\n",
       "      <th>Ease of Online booking</th>\n",
       "      <th>Gate location</th>\n",
       "      <th>Food and drink</th>\n",
       "      <th>Online boarding</th>\n",
       "      <th>Seat comfort</th>\n",
       "      <th>Inflight entertainment</th>\n",
       "      <th>On-board service</th>\n",
       "      <th>Leg room service</th>\n",
       "      <th>Baggage handling</th>\n",
       "      <th>Checkin service</th>\n",
       "      <th>Inflight service</th>\n",
       "      <th>Cleanliness</th>\n",
       "      <th>Departure Delay in Minutes</th>\n",
       "      <th>Arrival Delay in Minutes</th>\n",
       "    </tr>\n",
       "  </thead>\n",
       "  <tbody>\n",
       "    <tr>\n",
       "      <th>count</th>\n",
       "      <td>103904.000000</td>\n",
       "      <td>103904.000000</td>\n",
       "      <td>103904.000000</td>\n",
       "      <td>103904.000000</td>\n",
       "      <td>103904.000000</td>\n",
       "      <td>103904.000000</td>\n",
       "      <td>103904.000000</td>\n",
       "      <td>103904.000000</td>\n",
       "      <td>103904.000000</td>\n",
       "      <td>103904.000000</td>\n",
       "      <td>103904.000000</td>\n",
       "      <td>103904.000000</td>\n",
       "      <td>103904.000000</td>\n",
       "      <td>103904.000000</td>\n",
       "      <td>103904.000000</td>\n",
       "      <td>103904.000000</td>\n",
       "      <td>103904.000000</td>\n",
       "      <td>103904.000000</td>\n",
       "      <td>103904.000000</td>\n",
       "      <td>103594.000000</td>\n",
       "    </tr>\n",
       "    <tr>\n",
       "      <th>mean</th>\n",
       "      <td>51951.500000</td>\n",
       "      <td>64924.210502</td>\n",
       "      <td>39.379706</td>\n",
       "      <td>1189.448375</td>\n",
       "      <td>2.729683</td>\n",
       "      <td>3.060296</td>\n",
       "      <td>2.756901</td>\n",
       "      <td>2.976883</td>\n",
       "      <td>3.202129</td>\n",
       "      <td>3.250375</td>\n",
       "      <td>3.439396</td>\n",
       "      <td>3.358158</td>\n",
       "      <td>3.382363</td>\n",
       "      <td>3.351055</td>\n",
       "      <td>3.631833</td>\n",
       "      <td>3.304290</td>\n",
       "      <td>3.640428</td>\n",
       "      <td>3.286351</td>\n",
       "      <td>14.815618</td>\n",
       "      <td>15.178678</td>\n",
       "    </tr>\n",
       "    <tr>\n",
       "      <th>std</th>\n",
       "      <td>29994.645522</td>\n",
       "      <td>37463.812252</td>\n",
       "      <td>15.114964</td>\n",
       "      <td>997.147281</td>\n",
       "      <td>1.327829</td>\n",
       "      <td>1.525075</td>\n",
       "      <td>1.398929</td>\n",
       "      <td>1.277621</td>\n",
       "      <td>1.329533</td>\n",
       "      <td>1.349509</td>\n",
       "      <td>1.319088</td>\n",
       "      <td>1.332991</td>\n",
       "      <td>1.288354</td>\n",
       "      <td>1.315605</td>\n",
       "      <td>1.180903</td>\n",
       "      <td>1.265396</td>\n",
       "      <td>1.175663</td>\n",
       "      <td>1.312273</td>\n",
       "      <td>38.230901</td>\n",
       "      <td>38.698682</td>\n",
       "    </tr>\n",
       "    <tr>\n",
       "      <th>min</th>\n",
       "      <td>0.000000</td>\n",
       "      <td>1.000000</td>\n",
       "      <td>7.000000</td>\n",
       "      <td>31.000000</td>\n",
       "      <td>0.000000</td>\n",
       "      <td>0.000000</td>\n",
       "      <td>0.000000</td>\n",
       "      <td>0.000000</td>\n",
       "      <td>0.000000</td>\n",
       "      <td>0.000000</td>\n",
       "      <td>0.000000</td>\n",
       "      <td>0.000000</td>\n",
       "      <td>0.000000</td>\n",
       "      <td>0.000000</td>\n",
       "      <td>1.000000</td>\n",
       "      <td>0.000000</td>\n",
       "      <td>0.000000</td>\n",
       "      <td>0.000000</td>\n",
       "      <td>0.000000</td>\n",
       "      <td>0.000000</td>\n",
       "    </tr>\n",
       "    <tr>\n",
       "      <th>25%</th>\n",
       "      <td>25975.750000</td>\n",
       "      <td>32533.750000</td>\n",
       "      <td>27.000000</td>\n",
       "      <td>414.000000</td>\n",
       "      <td>2.000000</td>\n",
       "      <td>2.000000</td>\n",
       "      <td>2.000000</td>\n",
       "      <td>2.000000</td>\n",
       "      <td>2.000000</td>\n",
       "      <td>2.000000</td>\n",
       "      <td>2.000000</td>\n",
       "      <td>2.000000</td>\n",
       "      <td>2.000000</td>\n",
       "      <td>2.000000</td>\n",
       "      <td>3.000000</td>\n",
       "      <td>3.000000</td>\n",
       "      <td>3.000000</td>\n",
       "      <td>2.000000</td>\n",
       "      <td>0.000000</td>\n",
       "      <td>0.000000</td>\n",
       "    </tr>\n",
       "    <tr>\n",
       "      <th>50%</th>\n",
       "      <td>51951.500000</td>\n",
       "      <td>64856.500000</td>\n",
       "      <td>40.000000</td>\n",
       "      <td>843.000000</td>\n",
       "      <td>3.000000</td>\n",
       "      <td>3.000000</td>\n",
       "      <td>3.000000</td>\n",
       "      <td>3.000000</td>\n",
       "      <td>3.000000</td>\n",
       "      <td>3.000000</td>\n",
       "      <td>4.000000</td>\n",
       "      <td>4.000000</td>\n",
       "      <td>4.000000</td>\n",
       "      <td>4.000000</td>\n",
       "      <td>4.000000</td>\n",
       "      <td>3.000000</td>\n",
       "      <td>4.000000</td>\n",
       "      <td>3.000000</td>\n",
       "      <td>0.000000</td>\n",
       "      <td>0.000000</td>\n",
       "    </tr>\n",
       "    <tr>\n",
       "      <th>75%</th>\n",
       "      <td>77927.250000</td>\n",
       "      <td>97368.250000</td>\n",
       "      <td>51.000000</td>\n",
       "      <td>1743.000000</td>\n",
       "      <td>4.000000</td>\n",
       "      <td>4.000000</td>\n",
       "      <td>4.000000</td>\n",
       "      <td>4.000000</td>\n",
       "      <td>4.000000</td>\n",
       "      <td>4.000000</td>\n",
       "      <td>5.000000</td>\n",
       "      <td>4.000000</td>\n",
       "      <td>4.000000</td>\n",
       "      <td>4.000000</td>\n",
       "      <td>5.000000</td>\n",
       "      <td>4.000000</td>\n",
       "      <td>5.000000</td>\n",
       "      <td>4.000000</td>\n",
       "      <td>12.000000</td>\n",
       "      <td>13.000000</td>\n",
       "    </tr>\n",
       "    <tr>\n",
       "      <th>max</th>\n",
       "      <td>103903.000000</td>\n",
       "      <td>129880.000000</td>\n",
       "      <td>85.000000</td>\n",
       "      <td>4983.000000</td>\n",
       "      <td>5.000000</td>\n",
       "      <td>5.000000</td>\n",
       "      <td>5.000000</td>\n",
       "      <td>5.000000</td>\n",
       "      <td>5.000000</td>\n",
       "      <td>5.000000</td>\n",
       "      <td>5.000000</td>\n",
       "      <td>5.000000</td>\n",
       "      <td>5.000000</td>\n",
       "      <td>5.000000</td>\n",
       "      <td>5.000000</td>\n",
       "      <td>5.000000</td>\n",
       "      <td>5.000000</td>\n",
       "      <td>5.000000</td>\n",
       "      <td>1592.000000</td>\n",
       "      <td>1584.000000</td>\n",
       "    </tr>\n",
       "  </tbody>\n",
       "</table>\n",
       "</div>"
      ],
      "text/plain": [
       "          Unnamed: 0             id            Age  Flight Distance  \\\n",
       "count  103904.000000  103904.000000  103904.000000    103904.000000   \n",
       "mean    51951.500000   64924.210502      39.379706      1189.448375   \n",
       "std     29994.645522   37463.812252      15.114964       997.147281   \n",
       "min         0.000000       1.000000       7.000000        31.000000   \n",
       "25%     25975.750000   32533.750000      27.000000       414.000000   \n",
       "50%     51951.500000   64856.500000      40.000000       843.000000   \n",
       "75%     77927.250000   97368.250000      51.000000      1743.000000   \n",
       "max    103903.000000  129880.000000      85.000000      4983.000000   \n",
       "\n",
       "       Inflight wifi service  Departure/Arrival time convenient  \\\n",
       "count          103904.000000                      103904.000000   \n",
       "mean                2.729683                           3.060296   \n",
       "std                 1.327829                           1.525075   \n",
       "min                 0.000000                           0.000000   \n",
       "25%                 2.000000                           2.000000   \n",
       "50%                 3.000000                           3.000000   \n",
       "75%                 4.000000                           4.000000   \n",
       "max                 5.000000                           5.000000   \n",
       "\n",
       "       Ease of Online booking  Gate location  Food and drink  Online boarding  \\\n",
       "count           103904.000000  103904.000000   103904.000000    103904.000000   \n",
       "mean                 2.756901       2.976883        3.202129         3.250375   \n",
       "std                  1.398929       1.277621        1.329533         1.349509   \n",
       "min                  0.000000       0.000000        0.000000         0.000000   \n",
       "25%                  2.000000       2.000000        2.000000         2.000000   \n",
       "50%                  3.000000       3.000000        3.000000         3.000000   \n",
       "75%                  4.000000       4.000000        4.000000         4.000000   \n",
       "max                  5.000000       5.000000        5.000000         5.000000   \n",
       "\n",
       "        Seat comfort  Inflight entertainment  On-board service  \\\n",
       "count  103904.000000           103904.000000     103904.000000   \n",
       "mean        3.439396                3.358158          3.382363   \n",
       "std         1.319088                1.332991          1.288354   \n",
       "min         0.000000                0.000000          0.000000   \n",
       "25%         2.000000                2.000000          2.000000   \n",
       "50%         4.000000                4.000000          4.000000   \n",
       "75%         5.000000                4.000000          4.000000   \n",
       "max         5.000000                5.000000          5.000000   \n",
       "\n",
       "       Leg room service  Baggage handling  Checkin service  Inflight service  \\\n",
       "count     103904.000000     103904.000000    103904.000000     103904.000000   \n",
       "mean           3.351055          3.631833         3.304290          3.640428   \n",
       "std            1.315605          1.180903         1.265396          1.175663   \n",
       "min            0.000000          1.000000         0.000000          0.000000   \n",
       "25%            2.000000          3.000000         3.000000          3.000000   \n",
       "50%            4.000000          4.000000         3.000000          4.000000   \n",
       "75%            4.000000          5.000000         4.000000          5.000000   \n",
       "max            5.000000          5.000000         5.000000          5.000000   \n",
       "\n",
       "         Cleanliness  Departure Delay in Minutes  Arrival Delay in Minutes  \n",
       "count  103904.000000               103904.000000             103594.000000  \n",
       "mean        3.286351                   14.815618                 15.178678  \n",
       "std         1.312273                   38.230901                 38.698682  \n",
       "min         0.000000                    0.000000                  0.000000  \n",
       "25%         2.000000                    0.000000                  0.000000  \n",
       "50%         3.000000                    0.000000                  0.000000  \n",
       "75%         4.000000                   12.000000                 13.000000  \n",
       "max         5.000000                 1592.000000               1584.000000  "
      ]
     },
     "execution_count": 86,
     "metadata": {},
     "output_type": "execute_result"
    }
   ],
   "source": [
    "#Let's remove outliers onlt with the features only with large amplitude\n",
    "train.describe()"
   ]
  },
  {
   "cell_type": "code",
   "execution_count": 87,
   "id": "029db1ee",
   "metadata": {
    "ExecuteTime": {
     "end_time": "2022-12-01T13:17:27.216913Z",
     "start_time": "2022-12-01T13:17:27.114500Z"
    }
   },
   "outputs": [],
   "source": [
    "remove_outliers = ['Flight Distance','Departure Delay in Minutes', 'Arrival Delay in Minutes']\n",
    "\n",
    "for col in train:\n",
    "    if col in remove_outliers:\n",
    "        q1 = train[col].quantile(0.25)\n",
    "        q3 = train[col].quantile(0.75)\n",
    "        IQR = q3 - q1\n",
    "        \n",
    "        lower_limit = q1 - 1.5 * IQR\n",
    "        upper_limit = q3 + 1.5 * IQR\n",
    "        train = train[train[col] >= lower_limit]\n",
    "        train = train[train[col] <= upper_limit]\n",
    "        "
   ]
  },
  {
   "cell_type": "code",
   "execution_count": 88,
   "id": "fe76d00f",
   "metadata": {
    "ExecuteTime": {
     "end_time": "2022-12-01T13:17:29.206165Z",
     "start_time": "2022-12-01T13:17:29.202160Z"
    }
   },
   "outputs": [
    {
     "data": {
      "text/plain": [
       "(75165, 25)"
      ]
     },
     "execution_count": 88,
     "metadata": {},
     "output_type": "execute_result"
    }
   ],
   "source": [
    "train.shape"
   ]
  },
  {
   "cell_type": "code",
   "execution_count": 89,
   "id": "5e415741",
   "metadata": {
    "ExecuteTime": {
     "end_time": "2022-12-01T13:23:52.484424Z",
     "start_time": "2022-12-01T13:23:52.451123Z"
    }
   },
   "outputs": [],
   "source": [
    "# Split in X and y\n",
    "X_train = train.drop(columns=\"satisfaction\")\n",
    "y_train = train['satisfaction']\n",
    "\n",
    "X_test = test.drop(columns=\"satisfaction\")\n",
    "y_test = test['satisfaction']"
   ]
  },
  {
   "cell_type": "markdown",
   "id": "c57b9bd1",
   "metadata": {},
   "source": [
    "# Predicting - Models"
   ]
  },
  {
   "cell_type": "markdown",
   "id": "9308d025",
   "metadata": {},
   "source": [
    "The following processes are divided into the following steps:<br>\n",
    "   1. Preprocessing the data in a pipeline;\n",
    "   2. Train a logistic regression model as a baseline and check the metrics;\n",
    "   3. Train classic Machine Learning models and check their performance; and\n",
    "   4. Training a neural network model.\n",
    "    "
   ]
  },
  {
   "cell_type": "code",
   "execution_count": 93,
   "id": "808d822a",
   "metadata": {
    "ExecuteTime": {
     "end_time": "2022-12-01T13:26:04.210578Z",
     "start_time": "2022-12-01T13:26:04.203532Z"
    }
   },
   "outputs": [],
   "source": [
    "#List of categorical and numerical features\n",
    "num_feat = list(train_num.columns)\n",
    "cat_feat = list(col_categ)\n",
    "\n",
    "#delete 'Unnamed: 0' and 'id'\n",
    "num_feat = num_feat[2:]"
   ]
  },
  {
   "cell_type": "code",
   "execution_count": 94,
   "id": "ba974eae",
   "metadata": {
    "ExecuteTime": {
     "end_time": "2022-12-01T14:01:27.512692Z",
     "start_time": "2022-12-01T14:01:27.477688Z"
    }
   },
   "outputs": [],
   "source": [
    "#Instantiates a preprocessor that fills nulls with median values, once the outliers may have some influence on the mean.\n",
    "#Normalizes with standard scaler, the numeric variables and transforms categorical variables into dummies.\n",
    "num_transformer = Pipeline(\n",
    "    steps=[\n",
    "        ('imputer', SimpleImputer(strategy=\"median\")),\n",
    "        ('scaler', StandardScaler())\n",
    "    ]\n",
    ")\n",
    "\n",
    "cat_transformer = OneHotEncoder(handle_unknown='ignore')\n",
    "\n",
    "preprocessor = ColumnTransformer(\n",
    "    transformers=[\n",
    "        (\"num\", num_transformer, num_feat),\n",
    "        (\"cat\", cat_transformer, cat_feat),\n",
    "    ]\n",
    ")"
   ]
  },
  {
   "cell_type": "code",
   "execution_count": 95,
   "id": "eb3c616e",
   "metadata": {
    "ExecuteTime": {
     "end_time": "2022-12-01T14:01:59.928867Z",
     "start_time": "2022-12-01T14:01:59.317731Z"
    }
   },
   "outputs": [
    {
     "data": {
      "text/html": [
       "<style>#sk-container-id-1 {color: black;background-color: white;}#sk-container-id-1 pre{padding: 0;}#sk-container-id-1 div.sk-toggleable {background-color: white;}#sk-container-id-1 label.sk-toggleable__label {cursor: pointer;display: block;width: 100%;margin-bottom: 0;padding: 0.3em;box-sizing: border-box;text-align: center;}#sk-container-id-1 label.sk-toggleable__label-arrow:before {content: \"▸\";float: left;margin-right: 0.25em;color: #696969;}#sk-container-id-1 label.sk-toggleable__label-arrow:hover:before {color: black;}#sk-container-id-1 div.sk-estimator:hover label.sk-toggleable__label-arrow:before {color: black;}#sk-container-id-1 div.sk-toggleable__content {max-height: 0;max-width: 0;overflow: hidden;text-align: left;background-color: #f0f8ff;}#sk-container-id-1 div.sk-toggleable__content pre {margin: 0.2em;color: black;border-radius: 0.25em;background-color: #f0f8ff;}#sk-container-id-1 input.sk-toggleable__control:checked~div.sk-toggleable__content {max-height: 200px;max-width: 100%;overflow: auto;}#sk-container-id-1 input.sk-toggleable__control:checked~label.sk-toggleable__label-arrow:before {content: \"▾\";}#sk-container-id-1 div.sk-estimator input.sk-toggleable__control:checked~label.sk-toggleable__label {background-color: #d4ebff;}#sk-container-id-1 div.sk-label input.sk-toggleable__control:checked~label.sk-toggleable__label {background-color: #d4ebff;}#sk-container-id-1 input.sk-hidden--visually {border: 0;clip: rect(1px 1px 1px 1px);clip: rect(1px, 1px, 1px, 1px);height: 1px;margin: -1px;overflow: hidden;padding: 0;position: absolute;width: 1px;}#sk-container-id-1 div.sk-estimator {font-family: monospace;background-color: #f0f8ff;border: 1px dotted black;border-radius: 0.25em;box-sizing: border-box;margin-bottom: 0.5em;}#sk-container-id-1 div.sk-estimator:hover {background-color: #d4ebff;}#sk-container-id-1 div.sk-parallel-item::after {content: \"\";width: 100%;border-bottom: 1px solid gray;flex-grow: 1;}#sk-container-id-1 div.sk-label:hover label.sk-toggleable__label {background-color: #d4ebff;}#sk-container-id-1 div.sk-serial::before {content: \"\";position: absolute;border-left: 1px solid gray;box-sizing: border-box;top: 0;bottom: 0;left: 50%;z-index: 0;}#sk-container-id-1 div.sk-serial {display: flex;flex-direction: column;align-items: center;background-color: white;padding-right: 0.2em;padding-left: 0.2em;position: relative;}#sk-container-id-1 div.sk-item {position: relative;z-index: 1;}#sk-container-id-1 div.sk-parallel {display: flex;align-items: stretch;justify-content: center;background-color: white;position: relative;}#sk-container-id-1 div.sk-item::before, #sk-container-id-1 div.sk-parallel-item::before {content: \"\";position: absolute;border-left: 1px solid gray;box-sizing: border-box;top: 0;bottom: 0;left: 50%;z-index: -1;}#sk-container-id-1 div.sk-parallel-item {display: flex;flex-direction: column;z-index: 1;position: relative;background-color: white;}#sk-container-id-1 div.sk-parallel-item:first-child::after {align-self: flex-end;width: 50%;}#sk-container-id-1 div.sk-parallel-item:last-child::after {align-self: flex-start;width: 50%;}#sk-container-id-1 div.sk-parallel-item:only-child::after {width: 0;}#sk-container-id-1 div.sk-dashed-wrapped {border: 1px dashed gray;margin: 0 0.4em 0.5em 0.4em;box-sizing: border-box;padding-bottom: 0.4em;background-color: white;}#sk-container-id-1 div.sk-label label {font-family: monospace;font-weight: bold;display: inline-block;line-height: 1.2em;}#sk-container-id-1 div.sk-label-container {text-align: center;}#sk-container-id-1 div.sk-container {/* jupyter's `normalize.less` sets `[hidden] { display: none; }` but bootstrap.min.css set `[hidden] { display: none !important; }` so we also need the `!important` here to be able to override the default hidden behavior on the sphinx rendered scikit-learn.org. See: https://github.com/scikit-learn/scikit-learn/issues/21755 */display: inline-block !important;position: relative;}#sk-container-id-1 div.sk-text-repr-fallback {display: none;}</style><div id=\"sk-container-id-1\" class=\"sk-top-container\"><div class=\"sk-text-repr-fallback\"><pre>Pipeline(steps=[(&#x27;preprocessor&#x27;,\n",
       "                 ColumnTransformer(transformers=[(&#x27;num&#x27;,\n",
       "                                                  Pipeline(steps=[(&#x27;imputer&#x27;,\n",
       "                                                                   SimpleImputer(strategy=&#x27;median&#x27;)),\n",
       "                                                                  (&#x27;scaler&#x27;,\n",
       "                                                                   StandardScaler())]),\n",
       "                                                  [&#x27;Age&#x27;, &#x27;Flight Distance&#x27;,\n",
       "                                                   &#x27;Inflight wifi service&#x27;,\n",
       "                                                   &#x27;Departure/Arrival time &#x27;\n",
       "                                                   &#x27;convenient&#x27;,\n",
       "                                                   &#x27;Ease of Online booking&#x27;,\n",
       "                                                   &#x27;Gate location&#x27;,\n",
       "                                                   &#x27;Food and drink&#x27;,\n",
       "                                                   &#x27;Online boarding&#x27;,\n",
       "                                                   &#x27;Seat comfort&#x27;,\n",
       "                                                   &#x27;Inflight entertainment&#x27;,\n",
       "                                                   &#x27;On-board service&#x27;,\n",
       "                                                   &#x27;Leg room service&#x27;,\n",
       "                                                   &#x27;Baggage handling&#x27;,\n",
       "                                                   &#x27;Checkin service&#x27;,\n",
       "                                                   &#x27;Inflight service&#x27;,\n",
       "                                                   &#x27;Cleanliness&#x27;,\n",
       "                                                   &#x27;Departure Delay in Minutes&#x27;,\n",
       "                                                   &#x27;Arrival Delay in Minutes&#x27;]),\n",
       "                                                 (&#x27;cat&#x27;,\n",
       "                                                  OneHotEncoder(handle_unknown=&#x27;ignore&#x27;),\n",
       "                                                  [&#x27;Gender&#x27;, &#x27;Customer Type&#x27;,\n",
       "                                                   &#x27;Type of Travel&#x27;,\n",
       "                                                   &#x27;Class&#x27;])])),\n",
       "                (&#x27;logit&#x27;, LogisticRegression())])</pre><b>In a Jupyter environment, please rerun this cell to show the HTML representation or trust the notebook. <br />On GitHub, the HTML representation is unable to render, please try loading this page with nbviewer.org.</b></div><div class=\"sk-container\" hidden><div class=\"sk-item sk-dashed-wrapped\"><div class=\"sk-label-container\"><div class=\"sk-label sk-toggleable\"><input class=\"sk-toggleable__control sk-hidden--visually\" id=\"sk-estimator-id-1\" type=\"checkbox\" ><label for=\"sk-estimator-id-1\" class=\"sk-toggleable__label sk-toggleable__label-arrow\">Pipeline</label><div class=\"sk-toggleable__content\"><pre>Pipeline(steps=[(&#x27;preprocessor&#x27;,\n",
       "                 ColumnTransformer(transformers=[(&#x27;num&#x27;,\n",
       "                                                  Pipeline(steps=[(&#x27;imputer&#x27;,\n",
       "                                                                   SimpleImputer(strategy=&#x27;median&#x27;)),\n",
       "                                                                  (&#x27;scaler&#x27;,\n",
       "                                                                   StandardScaler())]),\n",
       "                                                  [&#x27;Age&#x27;, &#x27;Flight Distance&#x27;,\n",
       "                                                   &#x27;Inflight wifi service&#x27;,\n",
       "                                                   &#x27;Departure/Arrival time &#x27;\n",
       "                                                   &#x27;convenient&#x27;,\n",
       "                                                   &#x27;Ease of Online booking&#x27;,\n",
       "                                                   &#x27;Gate location&#x27;,\n",
       "                                                   &#x27;Food and drink&#x27;,\n",
       "                                                   &#x27;Online boarding&#x27;,\n",
       "                                                   &#x27;Seat comfort&#x27;,\n",
       "                                                   &#x27;Inflight entertainment&#x27;,\n",
       "                                                   &#x27;On-board service&#x27;,\n",
       "                                                   &#x27;Leg room service&#x27;,\n",
       "                                                   &#x27;Baggage handling&#x27;,\n",
       "                                                   &#x27;Checkin service&#x27;,\n",
       "                                                   &#x27;Inflight service&#x27;,\n",
       "                                                   &#x27;Cleanliness&#x27;,\n",
       "                                                   &#x27;Departure Delay in Minutes&#x27;,\n",
       "                                                   &#x27;Arrival Delay in Minutes&#x27;]),\n",
       "                                                 (&#x27;cat&#x27;,\n",
       "                                                  OneHotEncoder(handle_unknown=&#x27;ignore&#x27;),\n",
       "                                                  [&#x27;Gender&#x27;, &#x27;Customer Type&#x27;,\n",
       "                                                   &#x27;Type of Travel&#x27;,\n",
       "                                                   &#x27;Class&#x27;])])),\n",
       "                (&#x27;logit&#x27;, LogisticRegression())])</pre></div></div></div><div class=\"sk-serial\"><div class=\"sk-item sk-dashed-wrapped\"><div class=\"sk-label-container\"><div class=\"sk-label sk-toggleable\"><input class=\"sk-toggleable__control sk-hidden--visually\" id=\"sk-estimator-id-2\" type=\"checkbox\" ><label for=\"sk-estimator-id-2\" class=\"sk-toggleable__label sk-toggleable__label-arrow\">preprocessor: ColumnTransformer</label><div class=\"sk-toggleable__content\"><pre>ColumnTransformer(transformers=[(&#x27;num&#x27;,\n",
       "                                 Pipeline(steps=[(&#x27;imputer&#x27;,\n",
       "                                                  SimpleImputer(strategy=&#x27;median&#x27;)),\n",
       "                                                 (&#x27;scaler&#x27;, StandardScaler())]),\n",
       "                                 [&#x27;Age&#x27;, &#x27;Flight Distance&#x27;,\n",
       "                                  &#x27;Inflight wifi service&#x27;,\n",
       "                                  &#x27;Departure/Arrival time convenient&#x27;,\n",
       "                                  &#x27;Ease of Online booking&#x27;, &#x27;Gate location&#x27;,\n",
       "                                  &#x27;Food and drink&#x27;, &#x27;Online boarding&#x27;,\n",
       "                                  &#x27;Seat comfort&#x27;, &#x27;Inflight entertainment&#x27;,\n",
       "                                  &#x27;On-board service&#x27;, &#x27;Leg room service&#x27;,\n",
       "                                  &#x27;Baggage handling&#x27;, &#x27;Checkin service&#x27;,\n",
       "                                  &#x27;Inflight service&#x27;, &#x27;Cleanliness&#x27;,\n",
       "                                  &#x27;Departure Delay in Minutes&#x27;,\n",
       "                                  &#x27;Arrival Delay in Minutes&#x27;]),\n",
       "                                (&#x27;cat&#x27;, OneHotEncoder(handle_unknown=&#x27;ignore&#x27;),\n",
       "                                 [&#x27;Gender&#x27;, &#x27;Customer Type&#x27;, &#x27;Type of Travel&#x27;,\n",
       "                                  &#x27;Class&#x27;])])</pre></div></div></div><div class=\"sk-parallel\"><div class=\"sk-parallel-item\"><div class=\"sk-item\"><div class=\"sk-label-container\"><div class=\"sk-label sk-toggleable\"><input class=\"sk-toggleable__control sk-hidden--visually\" id=\"sk-estimator-id-3\" type=\"checkbox\" ><label for=\"sk-estimator-id-3\" class=\"sk-toggleable__label sk-toggleable__label-arrow\">num</label><div class=\"sk-toggleable__content\"><pre>[&#x27;Age&#x27;, &#x27;Flight Distance&#x27;, &#x27;Inflight wifi service&#x27;, &#x27;Departure/Arrival time convenient&#x27;, &#x27;Ease of Online booking&#x27;, &#x27;Gate location&#x27;, &#x27;Food and drink&#x27;, &#x27;Online boarding&#x27;, &#x27;Seat comfort&#x27;, &#x27;Inflight entertainment&#x27;, &#x27;On-board service&#x27;, &#x27;Leg room service&#x27;, &#x27;Baggage handling&#x27;, &#x27;Checkin service&#x27;, &#x27;Inflight service&#x27;, &#x27;Cleanliness&#x27;, &#x27;Departure Delay in Minutes&#x27;, &#x27;Arrival Delay in Minutes&#x27;]</pre></div></div></div><div class=\"sk-serial\"><div class=\"sk-item\"><div class=\"sk-serial\"><div class=\"sk-item\"><div class=\"sk-estimator sk-toggleable\"><input class=\"sk-toggleable__control sk-hidden--visually\" id=\"sk-estimator-id-4\" type=\"checkbox\" ><label for=\"sk-estimator-id-4\" class=\"sk-toggleable__label sk-toggleable__label-arrow\">SimpleImputer</label><div class=\"sk-toggleable__content\"><pre>SimpleImputer(strategy=&#x27;median&#x27;)</pre></div></div></div><div class=\"sk-item\"><div class=\"sk-estimator sk-toggleable\"><input class=\"sk-toggleable__control sk-hidden--visually\" id=\"sk-estimator-id-5\" type=\"checkbox\" ><label for=\"sk-estimator-id-5\" class=\"sk-toggleable__label sk-toggleable__label-arrow\">StandardScaler</label><div class=\"sk-toggleable__content\"><pre>StandardScaler()</pre></div></div></div></div></div></div></div></div><div class=\"sk-parallel-item\"><div class=\"sk-item\"><div class=\"sk-label-container\"><div class=\"sk-label sk-toggleable\"><input class=\"sk-toggleable__control sk-hidden--visually\" id=\"sk-estimator-id-6\" type=\"checkbox\" ><label for=\"sk-estimator-id-6\" class=\"sk-toggleable__label sk-toggleable__label-arrow\">cat</label><div class=\"sk-toggleable__content\"><pre>[&#x27;Gender&#x27;, &#x27;Customer Type&#x27;, &#x27;Type of Travel&#x27;, &#x27;Class&#x27;]</pre></div></div></div><div class=\"sk-serial\"><div class=\"sk-item\"><div class=\"sk-estimator sk-toggleable\"><input class=\"sk-toggleable__control sk-hidden--visually\" id=\"sk-estimator-id-7\" type=\"checkbox\" ><label for=\"sk-estimator-id-7\" class=\"sk-toggleable__label sk-toggleable__label-arrow\">OneHotEncoder</label><div class=\"sk-toggleable__content\"><pre>OneHotEncoder(handle_unknown=&#x27;ignore&#x27;)</pre></div></div></div></div></div></div></div></div><div class=\"sk-item\"><div class=\"sk-estimator sk-toggleable\"><input class=\"sk-toggleable__control sk-hidden--visually\" id=\"sk-estimator-id-8\" type=\"checkbox\" ><label for=\"sk-estimator-id-8\" class=\"sk-toggleable__label sk-toggleable__label-arrow\">LogisticRegression</label><div class=\"sk-toggleable__content\"><pre>LogisticRegression()</pre></div></div></div></div></div></div></div>"
      ],
      "text/plain": [
       "Pipeline(steps=[('preprocessor',\n",
       "                 ColumnTransformer(transformers=[('num',\n",
       "                                                  Pipeline(steps=[('imputer',\n",
       "                                                                   SimpleImputer(strategy='median')),\n",
       "                                                                  ('scaler',\n",
       "                                                                   StandardScaler())]),\n",
       "                                                  ['Age', 'Flight Distance',\n",
       "                                                   'Inflight wifi service',\n",
       "                                                   'Departure/Arrival time '\n",
       "                                                   'convenient',\n",
       "                                                   'Ease of Online booking',\n",
       "                                                   'Gate location',\n",
       "                                                   'Food and drink',\n",
       "                                                   'Online boarding',\n",
       "                                                   'Seat comfort',\n",
       "                                                   'Inflight entertainment',\n",
       "                                                   'On-board service',\n",
       "                                                   'Leg room service',\n",
       "                                                   'Baggage handling',\n",
       "                                                   'Checkin service',\n",
       "                                                   'Inflight service',\n",
       "                                                   'Cleanliness',\n",
       "                                                   'Departure Delay in Minutes',\n",
       "                                                   'Arrival Delay in Minutes']),\n",
       "                                                 ('cat',\n",
       "                                                  OneHotEncoder(handle_unknown='ignore'),\n",
       "                                                  ['Gender', 'Customer Type',\n",
       "                                                   'Type of Travel',\n",
       "                                                   'Class'])])),\n",
       "                ('logit', LogisticRegression())])"
      ]
     },
     "execution_count": 95,
     "metadata": {},
     "output_type": "execute_result"
    }
   ],
   "source": [
    "#Train our logistic regression model, which will serve as a baseline\n",
    "pipe_logit = Pipeline([(\"preprocessor\", preprocessor),\n",
    "                       (\"logit\", LogisticRegression())])\n",
    "\n",
    "pipe_logit.fit(X_train, y_train)"
   ]
  },
  {
   "cell_type": "code",
   "execution_count": 96,
   "id": "59f7c1fc",
   "metadata": {
    "ExecuteTime": {
     "end_time": "2022-12-01T14:05:46.565716Z",
     "start_time": "2022-12-01T14:05:46.549804Z"
    }
   },
   "outputs": [],
   "source": [
    "def clf_metrics(modelo, X, y_true, label):\n",
    "    '''\n",
    "    Function to show the evaluation metrics of a model using the classification report\n",
    "    '''\n",
    "    print(f\"\\nMetrics of {label}:\\n\")    \n",
    "    y_pred = modelo.predict(X)\n",
    "    print(classification_report(y_true, y_pred))"
   ]
  },
  {
   "cell_type": "code",
   "execution_count": 106,
   "id": "92904161",
   "metadata": {
    "ExecuteTime": {
     "end_time": "2022-12-01T14:58:11.866295Z",
     "start_time": "2022-12-01T14:58:08.462269Z"
    }
   },
   "outputs": [
    {
     "name": "stdout",
     "output_type": "stream",
     "text": [
      "\n",
      "Metrics of train:\n",
      "\n",
      "                         precision    recall  f1-score   support\n",
      "\n",
      "neutral or dissatisfied       0.87      0.90      0.88     41183\n",
      "              satisfied       0.87      0.83      0.85     33982\n",
      "\n",
      "               accuracy                           0.87     75165\n",
      "              macro avg       0.87      0.87      0.87     75165\n",
      "           weighted avg       0.87      0.87      0.87     75165\n",
      "\n",
      "################################################################################\n",
      "\n",
      "Metrics of test:\n",
      "\n",
      "                         precision    recall  f1-score   support\n",
      "\n",
      "neutral or dissatisfied       0.82      0.92      0.87     14573\n",
      "              satisfied       0.88      0.75      0.81     11403\n",
      "\n",
      "               accuracy                           0.84     25976\n",
      "              macro avg       0.85      0.83      0.84     25976\n",
      "           weighted avg       0.85      0.84      0.84     25976\n",
      "\n"
     ]
    }
   ],
   "source": [
    "clf_metrics(pipe_logit, X_train, y_train, \"train\")\n",
    "print(\"#\"*80)\n",
    "clf_metrics(pipe_logit, X_test, y_test, \"test\")"
   ]
  },
  {
   "cell_type": "code",
   "execution_count": 98,
   "id": "1ee4d221",
   "metadata": {
    "ExecuteTime": {
     "end_time": "2022-12-01T14:06:34.446082Z",
     "start_time": "2022-12-01T14:06:34.428048Z"
    }
   },
   "outputs": [],
   "source": [
    "def clf_metrics_with_return(modelo, X, y_true, label):\n",
    "  \n",
    "    y_pred = modelo.predict(X)\n",
    "    \n",
    "    return classification_report(y_true, y_pred, output_dict=True)"
   ]
  },
  {
   "cell_type": "code",
   "execution_count": 99,
   "id": "a822bc31",
   "metadata": {
    "ExecuteTime": {
     "end_time": "2022-12-01T14:19:15.554746Z",
     "start_time": "2022-12-01T14:19:15.524520Z"
    }
   },
   "outputs": [],
   "source": [
    "def experimentos_ciclo_de_modelagem(dict_pipes,\n",
    "                                    print_progress = False):\n",
    "    \n",
    "    resultado_experimentos = {\"estimador\" : [],\n",
    "                              \"f1_treino\" : [],\n",
    "                              \"f1_teste\" : []}\n",
    "\n",
    "    for label, pipe in dict_pipes.items():\n",
    "\n",
    "        if print_progress:\n",
    "            print(\"\\n\")\n",
    "            print(\"=\"*80)\n",
    "            print(f\"Estimador: {label}\".center(80))\n",
    "            print(\"(com hiperparâmetros default)\".center(80))\n",
    "            print(\"=\"*80)\n",
    "            print(\"\\n\")\n",
    "\n",
    "        # ================================\n",
    "\n",
    "        pipe.fit(X_train, y_train)\n",
    "\n",
    "        # ================================\n",
    "\n",
    "        dict_metricas_treino = clf_metrics_with_return(pipe, X_train, y_train, \"treino\")\n",
    "\n",
    "        if print_progress:\n",
    "            print(\"#\"*80)\n",
    "\n",
    "        dict_metricas_teste = clf_metrics_with_return(pipe, X_test, y_test, \"teste\")\n",
    "\n",
    "        # metrics f1_score\n",
    "        f1_treino = dict_metricas_treino[\"weighted avg\"][\"f1-score\"]\n",
    "        f1_teste = dict_metricas_teste[\"weighted avg\"][\"f1-score\"]\n",
    "\n",
    "        # ================================\n",
    "        # storing the results\n",
    "\n",
    "        resultado_experimentos[\"estimador\"].append(label)\n",
    "        resultado_experimentos[\"f1_treino\"].append(f1_treino)\n",
    "        resultado_experimentos[\"f1_teste\"].append(f1_teste)\n",
    "\n",
    "\n",
    "    df_results = pd.DataFrame(resultado_experimentos)\n",
    "\n",
    "    df_results[\"gap\"] = (df_results[\"f1_treino\"] - df_results[\"f1_teste\"]).apply(lambda x: x if x > 0 else np.inf)\n",
    "\n",
    "    df_results = df_results.sort_values(\"f1_teste\", ascending=False).sort_values(\"gap\")\n",
    "\n",
    "    return df_results"
   ]
  },
  {
   "cell_type": "code",
   "execution_count": 100,
   "id": "6debd58b",
   "metadata": {
    "ExecuteTime": {
     "end_time": "2022-12-01T14:24:23.609794Z",
     "start_time": "2022-12-01T14:23:50.222044Z"
    }
   },
   "outputs": [
    {
     "data": {
      "text/html": [
       "<div>\n",
       "<style scoped>\n",
       "    .dataframe tbody tr th:only-of-type {\n",
       "        vertical-align: middle;\n",
       "    }\n",
       "\n",
       "    .dataframe tbody tr th {\n",
       "        vertical-align: top;\n",
       "    }\n",
       "\n",
       "    .dataframe thead th {\n",
       "        text-align: right;\n",
       "    }\n",
       "</style>\n",
       "<table border=\"1\" class=\"dataframe\">\n",
       "  <thead>\n",
       "    <tr style=\"text-align: right;\">\n",
       "      <th></th>\n",
       "      <th>estimador</th>\n",
       "      <th>f1_treino</th>\n",
       "      <th>f1_teste</th>\n",
       "      <th>gap</th>\n",
       "    </tr>\n",
       "  </thead>\n",
       "  <tbody>\n",
       "    <tr>\n",
       "      <th>1</th>\n",
       "      <td>lgbm</td>\n",
       "      <td>0.963796</td>\n",
       "      <td>0.963664</td>\n",
       "      <td>0.000132</td>\n",
       "    </tr>\n",
       "    <tr>\n",
       "      <th>2</th>\n",
       "      <td>knn</td>\n",
       "      <td>0.943256</td>\n",
       "      <td>0.910123</td>\n",
       "      <td>0.033132</td>\n",
       "    </tr>\n",
       "    <tr>\n",
       "      <th>0</th>\n",
       "      <td>random_forest</td>\n",
       "      <td>1.000000</td>\n",
       "      <td>0.961862</td>\n",
       "      <td>0.038138</td>\n",
       "    </tr>\n",
       "  </tbody>\n",
       "</table>\n",
       "</div>"
      ],
      "text/plain": [
       "       estimador  f1_treino  f1_teste       gap\n",
       "1           lgbm   0.963796  0.963664  0.000132\n",
       "2            knn   0.943256  0.910123  0.033132\n",
       "0  random_forest   1.000000  0.961862  0.038138"
      ]
     },
     "execution_count": 100,
     "metadata": {},
     "output_type": "execute_result"
    }
   ],
   "source": [
    "#Training other classic models\n",
    "pipe_rf = Pipeline([(\"preprocessor\", preprocessor),\n",
    "                    (\"rf\", RandomForestClassifier(random_state=42))])\n",
    "\n",
    "pipe_lgbm = Pipeline([(\"preprocessor\", preprocessor),\n",
    "                      (\"lgbm\", LGBMClassifier(random_state=42))])\n",
    "\n",
    "pipe_knn = Pipeline([(\"preprocessor\", preprocessor),\n",
    "                     (\"knn\", KNeighborsClassifier())])\n",
    "\n",
    "# =======================================\n",
    "\n",
    "dict_pipes = {\"random_forest\" : pipe_rf,\n",
    "              \"lgbm\" : pipe_lgbm,\n",
    "              \"knn\" : pipe_knn}\n",
    "\n",
    "# =======================================\n",
    "\n",
    "df_results = experimentos_ciclo_de_modelagem(dict_pipes,\n",
    "                                             print_progress = False)\n",
    "\n",
    "df_results"
   ]
  },
  {
   "cell_type": "markdown",
   "id": "2f6bb713",
   "metadata": {},
   "source": [
    "Of the above models, lightgbm had better f1 score, and the gap between the training and testing f1 of lgbm was quite low.\n",
    "\n",
    "Furthermore, we can notice some overfitting in the random forest model. This may have happened mainly because no hyperparameter was defined when instantiating these models."
   ]
  },
  {
   "cell_type": "markdown",
   "id": "b2cca435",
   "metadata": {},
   "source": [
    "To see if we can improve the random forest, we will use the random search for the optimization of the hyperparameters."
   ]
  },
  {
   "cell_type": "markdown",
   "id": "edebe172",
   "metadata": {},
   "source": [
    "### Random Forest with hyperparameter optimization"
   ]
  },
  {
   "cell_type": "code",
   "execution_count": 101,
   "id": "ba654881",
   "metadata": {
    "ExecuteTime": {
     "end_time": "2022-12-01T14:49:47.362962Z",
     "start_time": "2022-12-01T14:26:41.093945Z"
    }
   },
   "outputs": [
    {
     "name": "stdout",
     "output_type": "stream",
     "text": [
      "Fitting 5 folds for each of 20 candidates, totalling 100 fits\n"
     ]
    },
    {
     "data": {
      "text/html": [
       "<style>#sk-container-id-2 {color: black;background-color: white;}#sk-container-id-2 pre{padding: 0;}#sk-container-id-2 div.sk-toggleable {background-color: white;}#sk-container-id-2 label.sk-toggleable__label {cursor: pointer;display: block;width: 100%;margin-bottom: 0;padding: 0.3em;box-sizing: border-box;text-align: center;}#sk-container-id-2 label.sk-toggleable__label-arrow:before {content: \"▸\";float: left;margin-right: 0.25em;color: #696969;}#sk-container-id-2 label.sk-toggleable__label-arrow:hover:before {color: black;}#sk-container-id-2 div.sk-estimator:hover label.sk-toggleable__label-arrow:before {color: black;}#sk-container-id-2 div.sk-toggleable__content {max-height: 0;max-width: 0;overflow: hidden;text-align: left;background-color: #f0f8ff;}#sk-container-id-2 div.sk-toggleable__content pre {margin: 0.2em;color: black;border-radius: 0.25em;background-color: #f0f8ff;}#sk-container-id-2 input.sk-toggleable__control:checked~div.sk-toggleable__content {max-height: 200px;max-width: 100%;overflow: auto;}#sk-container-id-2 input.sk-toggleable__control:checked~label.sk-toggleable__label-arrow:before {content: \"▾\";}#sk-container-id-2 div.sk-estimator input.sk-toggleable__control:checked~label.sk-toggleable__label {background-color: #d4ebff;}#sk-container-id-2 div.sk-label input.sk-toggleable__control:checked~label.sk-toggleable__label {background-color: #d4ebff;}#sk-container-id-2 input.sk-hidden--visually {border: 0;clip: rect(1px 1px 1px 1px);clip: rect(1px, 1px, 1px, 1px);height: 1px;margin: -1px;overflow: hidden;padding: 0;position: absolute;width: 1px;}#sk-container-id-2 div.sk-estimator {font-family: monospace;background-color: #f0f8ff;border: 1px dotted black;border-radius: 0.25em;box-sizing: border-box;margin-bottom: 0.5em;}#sk-container-id-2 div.sk-estimator:hover {background-color: #d4ebff;}#sk-container-id-2 div.sk-parallel-item::after {content: \"\";width: 100%;border-bottom: 1px solid gray;flex-grow: 1;}#sk-container-id-2 div.sk-label:hover label.sk-toggleable__label {background-color: #d4ebff;}#sk-container-id-2 div.sk-serial::before {content: \"\";position: absolute;border-left: 1px solid gray;box-sizing: border-box;top: 0;bottom: 0;left: 50%;z-index: 0;}#sk-container-id-2 div.sk-serial {display: flex;flex-direction: column;align-items: center;background-color: white;padding-right: 0.2em;padding-left: 0.2em;position: relative;}#sk-container-id-2 div.sk-item {position: relative;z-index: 1;}#sk-container-id-2 div.sk-parallel {display: flex;align-items: stretch;justify-content: center;background-color: white;position: relative;}#sk-container-id-2 div.sk-item::before, #sk-container-id-2 div.sk-parallel-item::before {content: \"\";position: absolute;border-left: 1px solid gray;box-sizing: border-box;top: 0;bottom: 0;left: 50%;z-index: -1;}#sk-container-id-2 div.sk-parallel-item {display: flex;flex-direction: column;z-index: 1;position: relative;background-color: white;}#sk-container-id-2 div.sk-parallel-item:first-child::after {align-self: flex-end;width: 50%;}#sk-container-id-2 div.sk-parallel-item:last-child::after {align-self: flex-start;width: 50%;}#sk-container-id-2 div.sk-parallel-item:only-child::after {width: 0;}#sk-container-id-2 div.sk-dashed-wrapped {border: 1px dashed gray;margin: 0 0.4em 0.5em 0.4em;box-sizing: border-box;padding-bottom: 0.4em;background-color: white;}#sk-container-id-2 div.sk-label label {font-family: monospace;font-weight: bold;display: inline-block;line-height: 1.2em;}#sk-container-id-2 div.sk-label-container {text-align: center;}#sk-container-id-2 div.sk-container {/* jupyter's `normalize.less` sets `[hidden] { display: none; }` but bootstrap.min.css set `[hidden] { display: none !important; }` so we also need the `!important` here to be able to override the default hidden behavior on the sphinx rendered scikit-learn.org. See: https://github.com/scikit-learn/scikit-learn/issues/21755 */display: inline-block !important;position: relative;}#sk-container-id-2 div.sk-text-repr-fallback {display: none;}</style><div id=\"sk-container-id-2\" class=\"sk-top-container\"><div class=\"sk-text-repr-fallback\"><pre>RandomizedSearchCV(cv=StratifiedKFold(n_splits=5, random_state=42, shuffle=True),\n",
       "                   estimator=Pipeline(steps=[(&#x27;preprocessor&#x27;,\n",
       "                                              ColumnTransformer(transformers=[(&#x27;num&#x27;,\n",
       "                                                                               Pipeline(steps=[(&#x27;imputer&#x27;,\n",
       "                                                                                                SimpleImputer(strategy=&#x27;median&#x27;)),\n",
       "                                                                                               (&#x27;scaler&#x27;,\n",
       "                                                                                                StandardScaler())]),\n",
       "                                                                               [&#x27;Age&#x27;,\n",
       "                                                                                &#x27;Flight &#x27;\n",
       "                                                                                &#x27;Distance&#x27;,\n",
       "                                                                                &#x27;Inflight &#x27;\n",
       "                                                                                &#x27;wifi &#x27;\n",
       "                                                                                &#x27;service&#x27;,\n",
       "                                                                                &#x27;Departure/Arrival &#x27;\n",
       "                                                                                &#x27;time &#x27;\n",
       "                                                                                &#x27;convenient&#x27;,\n",
       "                                                                                &#x27;Ease &#x27;\n",
       "                                                                                &#x27;of...\n",
       "                                                                               OneHotEncoder(handle_unknown=&#x27;ignore&#x27;),\n",
       "                                                                               [&#x27;Gender&#x27;,\n",
       "                                                                                &#x27;Customer &#x27;\n",
       "                                                                                &#x27;Type&#x27;,\n",
       "                                                                                &#x27;Type &#x27;\n",
       "                                                                                &#x27;of &#x27;\n",
       "                                                                                &#x27;Travel&#x27;,\n",
       "                                                                                &#x27;Class&#x27;])])),\n",
       "                                             (&#x27;rf&#x27;,\n",
       "                                              RandomForestClassifier(n_jobs=-1,\n",
       "                                                                     random_state=42))]),\n",
       "                   n_iter=20, n_jobs=-1,\n",
       "                   param_distributions={&#x27;rf__max_depth&#x27;: array([2, 3, 4, 5, 6, 7, 8]),\n",
       "                                        &#x27;rf__n_estimators&#x27;: array([ 100,  101,  102, ..., 1498, 1499, 1500])},\n",
       "                   random_state=42, return_train_score=True,\n",
       "                   scoring=&#x27;f1_weighted&#x27;, verbose=10)</pre><b>In a Jupyter environment, please rerun this cell to show the HTML representation or trust the notebook. <br />On GitHub, the HTML representation is unable to render, please try loading this page with nbviewer.org.</b></div><div class=\"sk-container\" hidden><div class=\"sk-item sk-dashed-wrapped\"><div class=\"sk-label-container\"><div class=\"sk-label sk-toggleable\"><input class=\"sk-toggleable__control sk-hidden--visually\" id=\"sk-estimator-id-9\" type=\"checkbox\" ><label for=\"sk-estimator-id-9\" class=\"sk-toggleable__label sk-toggleable__label-arrow\">RandomizedSearchCV</label><div class=\"sk-toggleable__content\"><pre>RandomizedSearchCV(cv=StratifiedKFold(n_splits=5, random_state=42, shuffle=True),\n",
       "                   estimator=Pipeline(steps=[(&#x27;preprocessor&#x27;,\n",
       "                                              ColumnTransformer(transformers=[(&#x27;num&#x27;,\n",
       "                                                                               Pipeline(steps=[(&#x27;imputer&#x27;,\n",
       "                                                                                                SimpleImputer(strategy=&#x27;median&#x27;)),\n",
       "                                                                                               (&#x27;scaler&#x27;,\n",
       "                                                                                                StandardScaler())]),\n",
       "                                                                               [&#x27;Age&#x27;,\n",
       "                                                                                &#x27;Flight &#x27;\n",
       "                                                                                &#x27;Distance&#x27;,\n",
       "                                                                                &#x27;Inflight &#x27;\n",
       "                                                                                &#x27;wifi &#x27;\n",
       "                                                                                &#x27;service&#x27;,\n",
       "                                                                                &#x27;Departure/Arrival &#x27;\n",
       "                                                                                &#x27;time &#x27;\n",
       "                                                                                &#x27;convenient&#x27;,\n",
       "                                                                                &#x27;Ease &#x27;\n",
       "                                                                                &#x27;of...\n",
       "                                                                               OneHotEncoder(handle_unknown=&#x27;ignore&#x27;),\n",
       "                                                                               [&#x27;Gender&#x27;,\n",
       "                                                                                &#x27;Customer &#x27;\n",
       "                                                                                &#x27;Type&#x27;,\n",
       "                                                                                &#x27;Type &#x27;\n",
       "                                                                                &#x27;of &#x27;\n",
       "                                                                                &#x27;Travel&#x27;,\n",
       "                                                                                &#x27;Class&#x27;])])),\n",
       "                                             (&#x27;rf&#x27;,\n",
       "                                              RandomForestClassifier(n_jobs=-1,\n",
       "                                                                     random_state=42))]),\n",
       "                   n_iter=20, n_jobs=-1,\n",
       "                   param_distributions={&#x27;rf__max_depth&#x27;: array([2, 3, 4, 5, 6, 7, 8]),\n",
       "                                        &#x27;rf__n_estimators&#x27;: array([ 100,  101,  102, ..., 1498, 1499, 1500])},\n",
       "                   random_state=42, return_train_score=True,\n",
       "                   scoring=&#x27;f1_weighted&#x27;, verbose=10)</pre></div></div></div><div class=\"sk-parallel\"><div class=\"sk-parallel-item\"><div class=\"sk-item\"><div class=\"sk-label-container\"><div class=\"sk-label sk-toggleable\"><input class=\"sk-toggleable__control sk-hidden--visually\" id=\"sk-estimator-id-10\" type=\"checkbox\" ><label for=\"sk-estimator-id-10\" class=\"sk-toggleable__label sk-toggleable__label-arrow\">estimator: Pipeline</label><div class=\"sk-toggleable__content\"><pre>Pipeline(steps=[(&#x27;preprocessor&#x27;,\n",
       "                 ColumnTransformer(transformers=[(&#x27;num&#x27;,\n",
       "                                                  Pipeline(steps=[(&#x27;imputer&#x27;,\n",
       "                                                                   SimpleImputer(strategy=&#x27;median&#x27;)),\n",
       "                                                                  (&#x27;scaler&#x27;,\n",
       "                                                                   StandardScaler())]),\n",
       "                                                  [&#x27;Age&#x27;, &#x27;Flight Distance&#x27;,\n",
       "                                                   &#x27;Inflight wifi service&#x27;,\n",
       "                                                   &#x27;Departure/Arrival time &#x27;\n",
       "                                                   &#x27;convenient&#x27;,\n",
       "                                                   &#x27;Ease of Online booking&#x27;,\n",
       "                                                   &#x27;Gate location&#x27;,\n",
       "                                                   &#x27;Food and drink&#x27;,\n",
       "                                                   &#x27;Online boarding&#x27;,\n",
       "                                                   &#x27;Seat comfort&#x27;,\n",
       "                                                   &#x27;Inflight entertainment&#x27;,\n",
       "                                                   &#x27;On-board service&#x27;,\n",
       "                                                   &#x27;Leg room service&#x27;,\n",
       "                                                   &#x27;Baggage handling&#x27;,\n",
       "                                                   &#x27;Checkin service&#x27;,\n",
       "                                                   &#x27;Inflight service&#x27;,\n",
       "                                                   &#x27;Cleanliness&#x27;,\n",
       "                                                   &#x27;Departure Delay in Minutes&#x27;,\n",
       "                                                   &#x27;Arrival Delay in Minutes&#x27;]),\n",
       "                                                 (&#x27;cat&#x27;,\n",
       "                                                  OneHotEncoder(handle_unknown=&#x27;ignore&#x27;),\n",
       "                                                  [&#x27;Gender&#x27;, &#x27;Customer Type&#x27;,\n",
       "                                                   &#x27;Type of Travel&#x27;,\n",
       "                                                   &#x27;Class&#x27;])])),\n",
       "                (&#x27;rf&#x27;, RandomForestClassifier(n_jobs=-1, random_state=42))])</pre></div></div></div><div class=\"sk-serial\"><div class=\"sk-item\"><div class=\"sk-serial\"><div class=\"sk-item sk-dashed-wrapped\"><div class=\"sk-label-container\"><div class=\"sk-label sk-toggleable\"><input class=\"sk-toggleable__control sk-hidden--visually\" id=\"sk-estimator-id-11\" type=\"checkbox\" ><label for=\"sk-estimator-id-11\" class=\"sk-toggleable__label sk-toggleable__label-arrow\">preprocessor: ColumnTransformer</label><div class=\"sk-toggleable__content\"><pre>ColumnTransformer(transformers=[(&#x27;num&#x27;,\n",
       "                                 Pipeline(steps=[(&#x27;imputer&#x27;,\n",
       "                                                  SimpleImputer(strategy=&#x27;median&#x27;)),\n",
       "                                                 (&#x27;scaler&#x27;, StandardScaler())]),\n",
       "                                 [&#x27;Age&#x27;, &#x27;Flight Distance&#x27;,\n",
       "                                  &#x27;Inflight wifi service&#x27;,\n",
       "                                  &#x27;Departure/Arrival time convenient&#x27;,\n",
       "                                  &#x27;Ease of Online booking&#x27;, &#x27;Gate location&#x27;,\n",
       "                                  &#x27;Food and drink&#x27;, &#x27;Online boarding&#x27;,\n",
       "                                  &#x27;Seat comfort&#x27;, &#x27;Inflight entertainment&#x27;,\n",
       "                                  &#x27;On-board service&#x27;, &#x27;Leg room service&#x27;,\n",
       "                                  &#x27;Baggage handling&#x27;, &#x27;Checkin service&#x27;,\n",
       "                                  &#x27;Inflight service&#x27;, &#x27;Cleanliness&#x27;,\n",
       "                                  &#x27;Departure Delay in Minutes&#x27;,\n",
       "                                  &#x27;Arrival Delay in Minutes&#x27;]),\n",
       "                                (&#x27;cat&#x27;, OneHotEncoder(handle_unknown=&#x27;ignore&#x27;),\n",
       "                                 [&#x27;Gender&#x27;, &#x27;Customer Type&#x27;, &#x27;Type of Travel&#x27;,\n",
       "                                  &#x27;Class&#x27;])])</pre></div></div></div><div class=\"sk-parallel\"><div class=\"sk-parallel-item\"><div class=\"sk-item\"><div class=\"sk-label-container\"><div class=\"sk-label sk-toggleable\"><input class=\"sk-toggleable__control sk-hidden--visually\" id=\"sk-estimator-id-12\" type=\"checkbox\" ><label for=\"sk-estimator-id-12\" class=\"sk-toggleable__label sk-toggleable__label-arrow\">num</label><div class=\"sk-toggleable__content\"><pre>[&#x27;Age&#x27;, &#x27;Flight Distance&#x27;, &#x27;Inflight wifi service&#x27;, &#x27;Departure/Arrival time convenient&#x27;, &#x27;Ease of Online booking&#x27;, &#x27;Gate location&#x27;, &#x27;Food and drink&#x27;, &#x27;Online boarding&#x27;, &#x27;Seat comfort&#x27;, &#x27;Inflight entertainment&#x27;, &#x27;On-board service&#x27;, &#x27;Leg room service&#x27;, &#x27;Baggage handling&#x27;, &#x27;Checkin service&#x27;, &#x27;Inflight service&#x27;, &#x27;Cleanliness&#x27;, &#x27;Departure Delay in Minutes&#x27;, &#x27;Arrival Delay in Minutes&#x27;]</pre></div></div></div><div class=\"sk-serial\"><div class=\"sk-item\"><div class=\"sk-serial\"><div class=\"sk-item\"><div class=\"sk-estimator sk-toggleable\"><input class=\"sk-toggleable__control sk-hidden--visually\" id=\"sk-estimator-id-13\" type=\"checkbox\" ><label for=\"sk-estimator-id-13\" class=\"sk-toggleable__label sk-toggleable__label-arrow\">SimpleImputer</label><div class=\"sk-toggleable__content\"><pre>SimpleImputer(strategy=&#x27;median&#x27;)</pre></div></div></div><div class=\"sk-item\"><div class=\"sk-estimator sk-toggleable\"><input class=\"sk-toggleable__control sk-hidden--visually\" id=\"sk-estimator-id-14\" type=\"checkbox\" ><label for=\"sk-estimator-id-14\" class=\"sk-toggleable__label sk-toggleable__label-arrow\">StandardScaler</label><div class=\"sk-toggleable__content\"><pre>StandardScaler()</pre></div></div></div></div></div></div></div></div><div class=\"sk-parallel-item\"><div class=\"sk-item\"><div class=\"sk-label-container\"><div class=\"sk-label sk-toggleable\"><input class=\"sk-toggleable__control sk-hidden--visually\" id=\"sk-estimator-id-15\" type=\"checkbox\" ><label for=\"sk-estimator-id-15\" class=\"sk-toggleable__label sk-toggleable__label-arrow\">cat</label><div class=\"sk-toggleable__content\"><pre>[&#x27;Gender&#x27;, &#x27;Customer Type&#x27;, &#x27;Type of Travel&#x27;, &#x27;Class&#x27;]</pre></div></div></div><div class=\"sk-serial\"><div class=\"sk-item\"><div class=\"sk-estimator sk-toggleable\"><input class=\"sk-toggleable__control sk-hidden--visually\" id=\"sk-estimator-id-16\" type=\"checkbox\" ><label for=\"sk-estimator-id-16\" class=\"sk-toggleable__label sk-toggleable__label-arrow\">OneHotEncoder</label><div class=\"sk-toggleable__content\"><pre>OneHotEncoder(handle_unknown=&#x27;ignore&#x27;)</pre></div></div></div></div></div></div></div></div><div class=\"sk-item\"><div class=\"sk-estimator sk-toggleable\"><input class=\"sk-toggleable__control sk-hidden--visually\" id=\"sk-estimator-id-17\" type=\"checkbox\" ><label for=\"sk-estimator-id-17\" class=\"sk-toggleable__label sk-toggleable__label-arrow\">RandomForestClassifier</label><div class=\"sk-toggleable__content\"><pre>RandomForestClassifier(n_jobs=-1, random_state=42)</pre></div></div></div></div></div></div></div></div></div></div></div></div>"
      ],
      "text/plain": [
       "RandomizedSearchCV(cv=StratifiedKFold(n_splits=5, random_state=42, shuffle=True),\n",
       "                   estimator=Pipeline(steps=[('preprocessor',\n",
       "                                              ColumnTransformer(transformers=[('num',\n",
       "                                                                               Pipeline(steps=[('imputer',\n",
       "                                                                                                SimpleImputer(strategy='median')),\n",
       "                                                                                               ('scaler',\n",
       "                                                                                                StandardScaler())]),\n",
       "                                                                               ['Age',\n",
       "                                                                                'Flight '\n",
       "                                                                                'Distance',\n",
       "                                                                                'Inflight '\n",
       "                                                                                'wifi '\n",
       "                                                                                'service',\n",
       "                                                                                'Departure/Arrival '\n",
       "                                                                                'time '\n",
       "                                                                                'convenient',\n",
       "                                                                                'Ease '\n",
       "                                                                                'of...\n",
       "                                                                               OneHotEncoder(handle_unknown='ignore'),\n",
       "                                                                               ['Gender',\n",
       "                                                                                'Customer '\n",
       "                                                                                'Type',\n",
       "                                                                                'Type '\n",
       "                                                                                'of '\n",
       "                                                                                'Travel',\n",
       "                                                                                'Class'])])),\n",
       "                                             ('rf',\n",
       "                                              RandomForestClassifier(n_jobs=-1,\n",
       "                                                                     random_state=42))]),\n",
       "                   n_iter=20, n_jobs=-1,\n",
       "                   param_distributions={'rf__max_depth': array([2, 3, 4, 5, 6, 7, 8]),\n",
       "                                        'rf__n_estimators': array([ 100,  101,  102, ..., 1498, 1499, 1500])},\n",
       "                   random_state=42, return_train_score=True,\n",
       "                   scoring='f1_weighted', verbose=10)"
      ]
     },
     "execution_count": 101,
     "metadata": {},
     "output_type": "execute_result"
    }
   ],
   "source": [
    "# pipeline\n",
    "pipe_rf = Pipeline([(\"preprocessor\", preprocessor),\n",
    "                    (\"rf\", RandomForestClassifier(n_jobs=-1, random_state=42))])\n",
    "\n",
    "params_distributions = {\"rf__n_estimators\" : np.arange(100, 1501, 1), \n",
    "                        \"rf__max_depth\" : np.arange(2, 9, 1)}\n",
    "\n",
    "# cross validation\n",
    "splitter = StratifiedKFold(n_splits=5, shuffle=True, random_state=42)\n",
    "\n",
    "# random search\n",
    "rand_grid_rf = RandomizedSearchCV(pipe_rf, \n",
    "                                  params_distributions, \n",
    "                                  n_iter=20,\n",
    "                                  cv=splitter,\n",
    "                                  scoring=\"f1_weighted\",\n",
    "                                  verbose=10,\n",
    "                                  n_jobs=-1,\n",
    "                                  random_state=42,\n",
    "                                  return_train_score=True)\n",
    "\n",
    "rand_grid_rf.fit(X_train, y_train)"
   ]
  },
  {
   "cell_type": "code",
   "execution_count": 102,
   "id": "6b161456",
   "metadata": {
    "ExecuteTime": {
     "end_time": "2022-12-01T14:54:41.933502Z",
     "start_time": "2022-12-01T14:54:41.919502Z"
    }
   },
   "outputs": [
    {
     "data": {
      "text/plain": [
       "{'rf__n_estimators': 365, 'rf__max_depth': 7}"
      ]
     },
     "execution_count": 102,
     "metadata": {},
     "output_type": "execute_result"
    }
   ],
   "source": [
    "rand_grid_rf.best_params_"
   ]
  },
  {
   "cell_type": "code",
   "execution_count": 103,
   "id": "062e5c68",
   "metadata": {
    "ExecuteTime": {
     "end_time": "2022-12-01T14:54:56.705196Z",
     "start_time": "2022-12-01T14:54:56.686160Z"
    }
   },
   "outputs": [
    {
     "data": {
      "text/plain": [
       "365"
      ]
     },
     "execution_count": 103,
     "metadata": {},
     "output_type": "execute_result"
    }
   ],
   "source": [
    "rand_grid_rf.best_params_['rf__n_estimators']"
   ]
  },
  {
   "cell_type": "code",
   "execution_count": 105,
   "id": "5729c9bf",
   "metadata": {
    "ExecuteTime": {
     "end_time": "2022-12-01T14:58:02.511296Z",
     "start_time": "2022-12-01T14:57:39.694272Z"
    }
   },
   "outputs": [
    {
     "name": "stdout",
     "output_type": "stream",
     "text": [
      "\n",
      "Metrics of train:\n",
      "\n",
      "                         precision    recall  f1-score   support\n",
      "\n",
      "neutral or dissatisfied       0.93      0.95      0.94     41183\n",
      "              satisfied       0.94      0.91      0.93     33982\n",
      "\n",
      "               accuracy                           0.93     75165\n",
      "              macro avg       0.93      0.93      0.93     75165\n",
      "           weighted avg       0.93      0.93      0.93     75165\n",
      "\n",
      "################################################################################\n",
      "\n",
      "Metrics of test:\n",
      "\n",
      "                         precision    recall  f1-score   support\n",
      "\n",
      "neutral or dissatisfied       0.94      0.94      0.94     14573\n",
      "              satisfied       0.93      0.92      0.92     11403\n",
      "\n",
      "               accuracy                           0.93     25976\n",
      "              macro avg       0.93      0.93      0.93     25976\n",
      "           weighted avg       0.93      0.93      0.93     25976\n",
      "\n"
     ]
    }
   ],
   "source": [
    "pipe_rf = Pipeline([(\"preprocessor\", preprocessor),\n",
    "                    (\"rf\", RandomForestClassifier(random_state=42))]).set_params(**{'rf__n_estimators': rand_grid_rf.best_params_['rf__n_estimators'],\n",
    "                                                                                    'rf__max_depth': rand_grid_rf.best_params_['rf__max_depth']})\n",
    "\n",
    "pipe_rf.fit(X_train, y_train)\n",
    "\n",
    "# ================================\n",
    "\n",
    "clf_metrics(pipe_rf, X_train, y_train, \"train\")\n",
    "print(\"#\"*80)\n",
    "clf_metrics(pipe_rf, X_test, y_test, \"test\")"
   ]
  },
  {
   "cell_type": "markdown",
   "id": "3048d3da",
   "metadata": {},
   "source": [
    "With hyperparameter optimization we were able to solve the overfitting problem and still bring metrics a little closer to lgbm"
   ]
  },
  {
   "cell_type": "code",
   "execution_count": 107,
   "id": "50a3c4f2",
   "metadata": {
    "ExecuteTime": {
     "end_time": "2022-12-01T14:59:00.921339Z",
     "start_time": "2022-12-01T14:59:00.878296Z"
    }
   },
   "outputs": [
    {
     "data": {
      "text/html": [
       "<div>\n",
       "<style scoped>\n",
       "    .dataframe tbody tr th:only-of-type {\n",
       "        vertical-align: middle;\n",
       "    }\n",
       "\n",
       "    .dataframe tbody tr th {\n",
       "        vertical-align: top;\n",
       "    }\n",
       "\n",
       "    .dataframe thead th {\n",
       "        text-align: right;\n",
       "    }\n",
       "</style>\n",
       "<table border=\"1\" class=\"dataframe\">\n",
       "  <thead>\n",
       "    <tr style=\"text-align: right;\">\n",
       "      <th></th>\n",
       "      <th>feature importance</th>\n",
       "    </tr>\n",
       "  </thead>\n",
       "  <tbody>\n",
       "    <tr>\n",
       "      <th>num__Online boarding</th>\n",
       "      <td>0.207494</td>\n",
       "    </tr>\n",
       "    <tr>\n",
       "      <th>num__Inflight wifi service</th>\n",
       "      <td>0.150995</td>\n",
       "    </tr>\n",
       "    <tr>\n",
       "      <th>cat__Class_Business</th>\n",
       "      <td>0.089635</td>\n",
       "    </tr>\n",
       "    <tr>\n",
       "      <th>cat__Type of Travel_Personal Travel</th>\n",
       "      <td>0.080684</td>\n",
       "    </tr>\n",
       "    <tr>\n",
       "      <th>cat__Type of Travel_Business travel</th>\n",
       "      <td>0.079777</td>\n",
       "    </tr>\n",
       "    <tr>\n",
       "      <th>num__Inflight entertainment</th>\n",
       "      <td>0.069287</td>\n",
       "    </tr>\n",
       "    <tr>\n",
       "      <th>cat__Class_Eco</th>\n",
       "      <td>0.044048</td>\n",
       "    </tr>\n",
       "    <tr>\n",
       "      <th>num__Ease of Online booking</th>\n",
       "      <td>0.041662</td>\n",
       "    </tr>\n",
       "    <tr>\n",
       "      <th>num__Seat comfort</th>\n",
       "      <td>0.041463</td>\n",
       "    </tr>\n",
       "    <tr>\n",
       "      <th>cat__Customer Type_Loyal Customer</th>\n",
       "      <td>0.034754</td>\n",
       "    </tr>\n",
       "    <tr>\n",
       "      <th>cat__Customer Type_disloyal Customer</th>\n",
       "      <td>0.026934</td>\n",
       "    </tr>\n",
       "    <tr>\n",
       "      <th>num__Leg room service</th>\n",
       "      <td>0.024476</td>\n",
       "    </tr>\n",
       "    <tr>\n",
       "      <th>num__On-board service</th>\n",
       "      <td>0.023371</td>\n",
       "    </tr>\n",
       "    <tr>\n",
       "      <th>num__Cleanliness</th>\n",
       "      <td>0.017272</td>\n",
       "    </tr>\n",
       "    <tr>\n",
       "      <th>num__Inflight service</th>\n",
       "      <td>0.012447</td>\n",
       "    </tr>\n",
       "    <tr>\n",
       "      <th>num__Flight Distance</th>\n",
       "      <td>0.011063</td>\n",
       "    </tr>\n",
       "    <tr>\n",
       "      <th>num__Checkin service</th>\n",
       "      <td>0.010974</td>\n",
       "    </tr>\n",
       "    <tr>\n",
       "      <th>num__Baggage handling</th>\n",
       "      <td>0.010173</td>\n",
       "    </tr>\n",
       "    <tr>\n",
       "      <th>num__Age</th>\n",
       "      <td>0.008344</td>\n",
       "    </tr>\n",
       "    <tr>\n",
       "      <th>num__Departure/Arrival time convenient</th>\n",
       "      <td>0.004833</td>\n",
       "    </tr>\n",
       "    <tr>\n",
       "      <th>num__Food and drink</th>\n",
       "      <td>0.004048</td>\n",
       "    </tr>\n",
       "    <tr>\n",
       "      <th>num__Gate location</th>\n",
       "      <td>0.003370</td>\n",
       "    </tr>\n",
       "    <tr>\n",
       "      <th>cat__Class_Eco Plus</th>\n",
       "      <td>0.000793</td>\n",
       "    </tr>\n",
       "    <tr>\n",
       "      <th>cat__Gender_Female</th>\n",
       "      <td>0.000699</td>\n",
       "    </tr>\n",
       "    <tr>\n",
       "      <th>num__Arrival Delay in Minutes</th>\n",
       "      <td>0.000655</td>\n",
       "    </tr>\n",
       "    <tr>\n",
       "      <th>cat__Gender_Male</th>\n",
       "      <td>0.000552</td>\n",
       "    </tr>\n",
       "    <tr>\n",
       "      <th>num__Departure Delay in Minutes</th>\n",
       "      <td>0.000196</td>\n",
       "    </tr>\n",
       "  </tbody>\n",
       "</table>\n",
       "</div>"
      ],
      "text/plain": [
       "                                        feature importance\n",
       "num__Online boarding                              0.207494\n",
       "num__Inflight wifi service                        0.150995\n",
       "cat__Class_Business                               0.089635\n",
       "cat__Type of Travel_Personal Travel               0.080684\n",
       "cat__Type of Travel_Business travel               0.079777\n",
       "num__Inflight entertainment                       0.069287\n",
       "cat__Class_Eco                                    0.044048\n",
       "num__Ease of Online booking                       0.041662\n",
       "num__Seat comfort                                 0.041463\n",
       "cat__Customer Type_Loyal Customer                 0.034754\n",
       "cat__Customer Type_disloyal Customer              0.026934\n",
       "num__Leg room service                             0.024476\n",
       "num__On-board service                             0.023371\n",
       "num__Cleanliness                                  0.017272\n",
       "num__Inflight service                             0.012447\n",
       "num__Flight Distance                              0.011063\n",
       "num__Checkin service                              0.010974\n",
       "num__Baggage handling                             0.010173\n",
       "num__Age                                          0.008344\n",
       "num__Departure/Arrival time convenient            0.004833\n",
       "num__Food and drink                               0.004048\n",
       "num__Gate location                                0.003370\n",
       "cat__Class_Eco Plus                               0.000793\n",
       "cat__Gender_Female                                0.000699\n",
       "num__Arrival Delay in Minutes                     0.000655\n",
       "cat__Gender_Male                                  0.000552\n",
       "num__Departure Delay in Minutes                   0.000196"
      ]
     },
     "execution_count": 107,
     "metadata": {},
     "output_type": "execute_result"
    }
   ],
   "source": [
    "df_feat_import = pd.DataFrame(pipe_rf['rf'].feature_importances_, index=preprocessor.get_feature_names_out(), columns=['feature importance'])\n",
    "df_feat_import.sort_values(by=\"feature importance\", ascending=False)"
   ]
  },
  {
   "cell_type": "markdown",
   "id": "9fa70818",
   "metadata": {},
   "source": [
    "# Neural networks"
   ]
  },
  {
   "cell_type": "markdown",
   "id": "5b50ccc2",
   "metadata": {
    "ExecuteTime": {
     "end_time": "2022-12-01T00:36:19.488559Z",
     "start_time": "2022-12-01T00:36:19.474523Z"
    }
   },
   "source": [
    "Finally, let's see if a neural network can deliver such good results."
   ]
  },
  {
   "cell_type": "code",
   "execution_count": 108,
   "id": "8f59271e",
   "metadata": {
    "ExecuteTime": {
     "end_time": "2022-12-01T14:59:53.468794Z",
     "start_time": "2022-12-01T14:59:53.206011Z"
    }
   },
   "outputs": [],
   "source": [
    "tf.random.set_seed(42)\n",
    "model = Sequential(\n",
    "    [\n",
    "        Dense(27, activation = 'relu', input_shape=(27,),  name = \"L1\"),\n",
    "        Dense(40, activation = 'relu',   name = \"L2\"),\n",
    "        Dense(30, activation = 'relu',   name = \"L3\"),\n",
    "        Dense(1, activation = 'sigmoid', name = \"L4\")\n",
    "    ]\n",
    ")"
   ]
  },
  {
   "cell_type": "code",
   "execution_count": 109,
   "id": "92389ec8",
   "metadata": {
    "ExecuteTime": {
     "end_time": "2022-12-01T15:01:14.473990Z",
     "start_time": "2022-12-01T15:01:14.454976Z"
    }
   },
   "outputs": [],
   "source": [
    "model.compile(\n",
    "    loss=tf.keras.losses.BinaryCrossentropy(),\n",
    "    optimizer=tf.keras.optimizers.Adam(0.01),\n",
    ")\n"
   ]
  },
  {
   "cell_type": "code",
   "execution_count": 110,
   "id": "ab82543a",
   "metadata": {
    "ExecuteTime": {
     "end_time": "2022-12-01T15:01:18.284097Z",
     "start_time": "2022-12-01T15:01:18.262112Z"
    }
   },
   "outputs": [
    {
     "name": "stdout",
     "output_type": "stream",
     "text": [
      "Model: \"sequential\"\n",
      "_________________________________________________________________\n",
      " Layer (type)                Output Shape              Param #   \n",
      "=================================================================\n",
      " L1 (Dense)                  (None, 27)                756       \n",
      "                                                                 \n",
      " L2 (Dense)                  (None, 40)                1120      \n",
      "                                                                 \n",
      " L3 (Dense)                  (None, 30)                1230      \n",
      "                                                                 \n",
      " L4 (Dense)                  (None, 1)                 31        \n",
      "                                                                 \n",
      "=================================================================\n",
      "Total params: 3,137\n",
      "Trainable params: 3,137\n",
      "Non-trainable params: 0\n",
      "_________________________________________________________________\n"
     ]
    }
   ],
   "source": [
    "model.summary()"
   ]
  },
  {
   "cell_type": "code",
   "execution_count": 111,
   "id": "d900a0fa",
   "metadata": {
    "ExecuteTime": {
     "end_time": "2022-12-01T15:01:21.304052Z",
     "start_time": "2022-12-01T15:01:21.286052Z"
    }
   },
   "outputs": [],
   "source": [
    "early_stop = EarlyStopping(monitor = 'val_loss',\n",
    "                           min_delta=0.001,\n",
    "                           patience = 30,\n",
    "                           verbose = 1,\n",
    "                           mode = 'auto')"
   ]
  },
  {
   "cell_type": "code",
   "execution_count": 112,
   "id": "d2b89e8d",
   "metadata": {
    "ExecuteTime": {
     "end_time": "2022-12-01T15:01:23.230936Z",
     "start_time": "2022-12-01T15:01:23.221889Z"
    }
   },
   "outputs": [],
   "source": [
    "model_es = KerasClassifier(model=model, verbose=1, epochs=100, validation_split = 0.3, callbacks=[early_stop])"
   ]
  },
  {
   "cell_type": "code",
   "execution_count": 113,
   "id": "8b28cb35",
   "metadata": {
    "ExecuteTime": {
     "end_time": "2022-12-01T15:01:25.544115Z",
     "start_time": "2022-12-01T15:01:25.533076Z"
    }
   },
   "outputs": [],
   "source": [
    "pipe_nn = Pipeline([(\"preprocessor\", preprocessor),\n",
    "                    (\"nn\", model_es)])\n"
   ]
  },
  {
   "cell_type": "code",
   "execution_count": 114,
   "id": "b107a438",
   "metadata": {
    "ExecuteTime": {
     "end_time": "2022-12-01T15:04:32.442857Z",
     "start_time": "2022-12-01T15:01:28.429371Z"
    }
   },
   "outputs": [
    {
     "name": "stdout",
     "output_type": "stream",
     "text": [
      "Epoch 1/100\n",
      "1645/1645 [==============================] - 3s 2ms/step - loss: 0.1822 - val_loss: 0.1376\n",
      "Epoch 2/100\n",
      "1645/1645 [==============================] - 3s 2ms/step - loss: 0.1325 - val_loss: 0.1284\n",
      "Epoch 3/100\n",
      "1645/1645 [==============================] - 3s 2ms/step - loss: 0.1213 - val_loss: 0.1130\n",
      "Epoch 4/100\n",
      "1645/1645 [==============================] - 3s 2ms/step - loss: 0.1158 - val_loss: 0.1126\n",
      "Epoch 5/100\n",
      "1645/1645 [==============================] - 3s 2ms/step - loss: 0.1110 - val_loss: 0.1048\n",
      "Epoch 6/100\n",
      "1645/1645 [==============================] - 3s 2ms/step - loss: 0.1094 - val_loss: 0.1070\n",
      "Epoch 7/100\n",
      "1645/1645 [==============================] - 3s 2ms/step - loss: 0.1066 - val_loss: 0.1073\n",
      "Epoch 8/100\n",
      "1645/1645 [==============================] - 3s 2ms/step - loss: 0.1070 - val_loss: 0.1053\n",
      "Epoch 9/100\n",
      "1645/1645 [==============================] - 3s 2ms/step - loss: 0.1049 - val_loss: 0.1069\n",
      "Epoch 10/100\n",
      "1645/1645 [==============================] - 3s 2ms/step - loss: 0.1033 - val_loss: 0.1071\n",
      "Epoch 11/100\n",
      "1645/1645 [==============================] - 3s 2ms/step - loss: 0.1027 - val_loss: 0.1045\n",
      "Epoch 12/100\n",
      "1645/1645 [==============================] - 3s 2ms/step - loss: 0.1049 - val_loss: 0.1022\n",
      "Epoch 13/100\n",
      "1645/1645 [==============================] - 3s 2ms/step - loss: 0.1014 - val_loss: 0.1080\n",
      "Epoch 14/100\n",
      "1645/1645 [==============================] - 3s 2ms/step - loss: 0.1012 - val_loss: 0.1058\n",
      "Epoch 15/100\n",
      "1645/1645 [==============================] - 3s 2ms/step - loss: 0.0991 - val_loss: 0.0995\n",
      "Epoch 16/100\n",
      "1645/1645 [==============================] - 3s 2ms/step - loss: 0.1006 - val_loss: 0.1023\n",
      "Epoch 17/100\n",
      "1645/1645 [==============================] - 3s 2ms/step - loss: 0.0986 - val_loss: 0.0991\n",
      "Epoch 18/100\n",
      "1645/1645 [==============================] - 3s 2ms/step - loss: 0.1000 - val_loss: 0.1020\n",
      "Epoch 19/100\n",
      "1645/1645 [==============================] - 3s 2ms/step - loss: 0.0977 - val_loss: 0.1014\n",
      "Epoch 20/100\n",
      "1645/1645 [==============================] - 3s 2ms/step - loss: 0.0980 - val_loss: 0.1028\n",
      "Epoch 21/100\n",
      "1645/1645 [==============================] - 3s 2ms/step - loss: 0.0985 - val_loss: 0.1054\n",
      "Epoch 22/100\n",
      "1645/1645 [==============================] - 3s 2ms/step - loss: 0.0963 - val_loss: 0.0983\n",
      "Epoch 23/100\n",
      "1645/1645 [==============================] - 3s 2ms/step - loss: 0.0954 - val_loss: 0.1002\n",
      "Epoch 24/100\n",
      "1645/1645 [==============================] - 3s 2ms/step - loss: 0.0978 - val_loss: 0.1107\n",
      "Epoch 25/100\n",
      "1645/1645 [==============================] - 3s 2ms/step - loss: 0.0958 - val_loss: 0.1031\n",
      "Epoch 26/100\n",
      "1645/1645 [==============================] - 3s 2ms/step - loss: 0.0947 - val_loss: 0.1149\n",
      "Epoch 27/100\n",
      "1645/1645 [==============================] - 3s 2ms/step - loss: 0.0960 - val_loss: 0.1110\n",
      "Epoch 28/100\n",
      "1645/1645 [==============================] - 3s 2ms/step - loss: 0.0938 - val_loss: 0.1017\n",
      "Epoch 29/100\n",
      "1645/1645 [==============================] - 3s 2ms/step - loss: 0.0934 - val_loss: 0.0958\n",
      "Epoch 30/100\n",
      "1645/1645 [==============================] - 3s 2ms/step - loss: 0.0947 - val_loss: 0.0978\n",
      "Epoch 31/100\n",
      "1645/1645 [==============================] - 3s 2ms/step - loss: 0.0951 - val_loss: 0.0974\n",
      "Epoch 32/100\n",
      "1645/1645 [==============================] - 4s 2ms/step - loss: 0.0945 - val_loss: 0.1042\n",
      "Epoch 33/100\n",
      "1645/1645 [==============================] - 4s 2ms/step - loss: 0.0938 - val_loss: 0.0973\n",
      "Epoch 34/100\n",
      "1645/1645 [==============================] - 4s 2ms/step - loss: 0.0924 - val_loss: 0.0996\n",
      "Epoch 35/100\n",
      "1645/1645 [==============================] - 4s 2ms/step - loss: 0.0939 - val_loss: 0.1120\n",
      "Epoch 36/100\n",
      "1645/1645 [==============================] - 4s 2ms/step - loss: 0.0935 - val_loss: 0.1025\n",
      "Epoch 37/100\n",
      "1645/1645 [==============================] - 4s 2ms/step - loss: 0.0924 - val_loss: 0.1003\n",
      "Epoch 38/100\n",
      "1645/1645 [==============================] - 4s 2ms/step - loss: 0.0927 - val_loss: 0.1074\n",
      "Epoch 39/100\n",
      "1645/1645 [==============================] - 4s 2ms/step - loss: 0.0907 - val_loss: 0.0982\n",
      "Epoch 40/100\n",
      "1645/1645 [==============================] - 3s 2ms/step - loss: 0.0916 - val_loss: 0.1020\n",
      "Epoch 41/100\n",
      "1645/1645 [==============================] - 3s 2ms/step - loss: 0.0910 - val_loss: 0.0988\n",
      "Epoch 42/100\n",
      "1645/1645 [==============================] - 3s 2ms/step - loss: 0.0916 - val_loss: 0.1006\n",
      "Epoch 43/100\n",
      "1645/1645 [==============================] - 3s 2ms/step - loss: 0.0914 - val_loss: 0.0970\n",
      "Epoch 44/100\n",
      "1645/1645 [==============================] - 3s 2ms/step - loss: 0.0898 - val_loss: 0.0981\n",
      "Epoch 45/100\n",
      "1645/1645 [==============================] - 3s 2ms/step - loss: 0.0910 - val_loss: 0.0968\n",
      "Epoch 46/100\n",
      "1645/1645 [==============================] - 3s 2ms/step - loss: 0.0904 - val_loss: 0.1060\n",
      "Epoch 47/100\n",
      "1645/1645 [==============================] - 3s 2ms/step - loss: 0.0901 - val_loss: 0.0987\n",
      "Epoch 48/100\n",
      "1645/1645 [==============================] - 3s 2ms/step - loss: 0.0909 - val_loss: 0.0995\n",
      "Epoch 49/100\n",
      "1645/1645 [==============================] - 3s 2ms/step - loss: 0.0897 - val_loss: 0.1015\n",
      "Epoch 50/100\n",
      "1645/1645 [==============================] - 3s 2ms/step - loss: 0.0893 - val_loss: 0.1032\n",
      "Epoch 51/100\n",
      "1645/1645 [==============================] - 3s 2ms/step - loss: 0.0904 - val_loss: 0.0988\n",
      "Epoch 52/100\n",
      "1645/1645 [==============================] - 3s 2ms/step - loss: 0.0912 - val_loss: 0.1129\n",
      "Epoch 53/100\n",
      "1645/1645 [==============================] - 3s 2ms/step - loss: 0.0909 - val_loss: 0.1088\n",
      "Epoch 54/100\n",
      "1645/1645 [==============================] - 3s 2ms/step - loss: 0.0894 - val_loss: 0.1013\n",
      "Epoch 55/100\n",
      "1645/1645 [==============================] - 3s 2ms/step - loss: 0.0891 - val_loss: 0.1011\n",
      "Epoch 56/100\n",
      "1645/1645 [==============================] - 3s 2ms/step - loss: 0.0926 - val_loss: 0.1062\n",
      "Epoch 57/100\n",
      "1645/1645 [==============================] - 3s 2ms/step - loss: 0.0889 - val_loss: 0.1026\n",
      "Epoch 58/100\n",
      "1645/1645 [==============================] - 3s 2ms/step - loss: 0.0894 - val_loss: 0.1045\n",
      "Epoch 59/100\n",
      "1645/1645 [==============================] - 3s 2ms/step - loss: 0.0895 - val_loss: 0.1045\n",
      "Epoch 59: early stopping\n"
     ]
    },
    {
     "data": {
      "text/html": [
       "<style>#sk-container-id-3 {color: black;background-color: white;}#sk-container-id-3 pre{padding: 0;}#sk-container-id-3 div.sk-toggleable {background-color: white;}#sk-container-id-3 label.sk-toggleable__label {cursor: pointer;display: block;width: 100%;margin-bottom: 0;padding: 0.3em;box-sizing: border-box;text-align: center;}#sk-container-id-3 label.sk-toggleable__label-arrow:before {content: \"▸\";float: left;margin-right: 0.25em;color: #696969;}#sk-container-id-3 label.sk-toggleable__label-arrow:hover:before {color: black;}#sk-container-id-3 div.sk-estimator:hover label.sk-toggleable__label-arrow:before {color: black;}#sk-container-id-3 div.sk-toggleable__content {max-height: 0;max-width: 0;overflow: hidden;text-align: left;background-color: #f0f8ff;}#sk-container-id-3 div.sk-toggleable__content pre {margin: 0.2em;color: black;border-radius: 0.25em;background-color: #f0f8ff;}#sk-container-id-3 input.sk-toggleable__control:checked~div.sk-toggleable__content {max-height: 200px;max-width: 100%;overflow: auto;}#sk-container-id-3 input.sk-toggleable__control:checked~label.sk-toggleable__label-arrow:before {content: \"▾\";}#sk-container-id-3 div.sk-estimator input.sk-toggleable__control:checked~label.sk-toggleable__label {background-color: #d4ebff;}#sk-container-id-3 div.sk-label input.sk-toggleable__control:checked~label.sk-toggleable__label {background-color: #d4ebff;}#sk-container-id-3 input.sk-hidden--visually {border: 0;clip: rect(1px 1px 1px 1px);clip: rect(1px, 1px, 1px, 1px);height: 1px;margin: -1px;overflow: hidden;padding: 0;position: absolute;width: 1px;}#sk-container-id-3 div.sk-estimator {font-family: monospace;background-color: #f0f8ff;border: 1px dotted black;border-radius: 0.25em;box-sizing: border-box;margin-bottom: 0.5em;}#sk-container-id-3 div.sk-estimator:hover {background-color: #d4ebff;}#sk-container-id-3 div.sk-parallel-item::after {content: \"\";width: 100%;border-bottom: 1px solid gray;flex-grow: 1;}#sk-container-id-3 div.sk-label:hover label.sk-toggleable__label {background-color: #d4ebff;}#sk-container-id-3 div.sk-serial::before {content: \"\";position: absolute;border-left: 1px solid gray;box-sizing: border-box;top: 0;bottom: 0;left: 50%;z-index: 0;}#sk-container-id-3 div.sk-serial {display: flex;flex-direction: column;align-items: center;background-color: white;padding-right: 0.2em;padding-left: 0.2em;position: relative;}#sk-container-id-3 div.sk-item {position: relative;z-index: 1;}#sk-container-id-3 div.sk-parallel {display: flex;align-items: stretch;justify-content: center;background-color: white;position: relative;}#sk-container-id-3 div.sk-item::before, #sk-container-id-3 div.sk-parallel-item::before {content: \"\";position: absolute;border-left: 1px solid gray;box-sizing: border-box;top: 0;bottom: 0;left: 50%;z-index: -1;}#sk-container-id-3 div.sk-parallel-item {display: flex;flex-direction: column;z-index: 1;position: relative;background-color: white;}#sk-container-id-3 div.sk-parallel-item:first-child::after {align-self: flex-end;width: 50%;}#sk-container-id-3 div.sk-parallel-item:last-child::after {align-self: flex-start;width: 50%;}#sk-container-id-3 div.sk-parallel-item:only-child::after {width: 0;}#sk-container-id-3 div.sk-dashed-wrapped {border: 1px dashed gray;margin: 0 0.4em 0.5em 0.4em;box-sizing: border-box;padding-bottom: 0.4em;background-color: white;}#sk-container-id-3 div.sk-label label {font-family: monospace;font-weight: bold;display: inline-block;line-height: 1.2em;}#sk-container-id-3 div.sk-label-container {text-align: center;}#sk-container-id-3 div.sk-container {/* jupyter's `normalize.less` sets `[hidden] { display: none; }` but bootstrap.min.css set `[hidden] { display: none !important; }` so we also need the `!important` here to be able to override the default hidden behavior on the sphinx rendered scikit-learn.org. See: https://github.com/scikit-learn/scikit-learn/issues/21755 */display: inline-block !important;position: relative;}#sk-container-id-3 div.sk-text-repr-fallback {display: none;}</style><div id=\"sk-container-id-3\" class=\"sk-top-container\"><div class=\"sk-text-repr-fallback\"><pre>Pipeline(steps=[(&#x27;preprocessor&#x27;,\n",
       "                 ColumnTransformer(transformers=[(&#x27;num&#x27;,\n",
       "                                                  Pipeline(steps=[(&#x27;imputer&#x27;,\n",
       "                                                                   SimpleImputer(strategy=&#x27;median&#x27;)),\n",
       "                                                                  (&#x27;scaler&#x27;,\n",
       "                                                                   StandardScaler())]),\n",
       "                                                  [&#x27;Age&#x27;, &#x27;Flight Distance&#x27;,\n",
       "                                                   &#x27;Inflight wifi service&#x27;,\n",
       "                                                   &#x27;Departure/Arrival time &#x27;\n",
       "                                                   &#x27;convenient&#x27;,\n",
       "                                                   &#x27;Ease of Online booking&#x27;,\n",
       "                                                   &#x27;Gate location&#x27;,\n",
       "                                                   &#x27;Food and drink&#x27;,\n",
       "                                                   &#x27;Online boarding&#x27;,\n",
       "                                                   &#x27;Seat comfort&#x27;,\n",
       "                                                   &#x27;Inflight entertainment&#x27;...\n",
       "                                                   &#x27;Cleanliness&#x27;,\n",
       "                                                   &#x27;Departure Delay in Minutes&#x27;,\n",
       "                                                   &#x27;Arrival Delay in Minutes&#x27;]),\n",
       "                                                 (&#x27;cat&#x27;,\n",
       "                                                  OneHotEncoder(handle_unknown=&#x27;ignore&#x27;),\n",
       "                                                  [&#x27;Gender&#x27;, &#x27;Customer Type&#x27;,\n",
       "                                                   &#x27;Type of Travel&#x27;,\n",
       "                                                   &#x27;Class&#x27;])])),\n",
       "                (&#x27;nn&#x27;,\n",
       "                 KerasClassifier(callbacks=[&lt;keras.callbacks.EarlyStopping object at 0x000002A90EFC89D0&gt;], epochs=100, model=&lt;keras.engine.sequential.Sequential object at 0x000002A917017790&gt;, validation_split=0.3))])</pre><b>In a Jupyter environment, please rerun this cell to show the HTML representation or trust the notebook. <br />On GitHub, the HTML representation is unable to render, please try loading this page with nbviewer.org.</b></div><div class=\"sk-container\" hidden><div class=\"sk-item sk-dashed-wrapped\"><div class=\"sk-label-container\"><div class=\"sk-label sk-toggleable\"><input class=\"sk-toggleable__control sk-hidden--visually\" id=\"sk-estimator-id-18\" type=\"checkbox\" ><label for=\"sk-estimator-id-18\" class=\"sk-toggleable__label sk-toggleable__label-arrow\">Pipeline</label><div class=\"sk-toggleable__content\"><pre>Pipeline(steps=[(&#x27;preprocessor&#x27;,\n",
       "                 ColumnTransformer(transformers=[(&#x27;num&#x27;,\n",
       "                                                  Pipeline(steps=[(&#x27;imputer&#x27;,\n",
       "                                                                   SimpleImputer(strategy=&#x27;median&#x27;)),\n",
       "                                                                  (&#x27;scaler&#x27;,\n",
       "                                                                   StandardScaler())]),\n",
       "                                                  [&#x27;Age&#x27;, &#x27;Flight Distance&#x27;,\n",
       "                                                   &#x27;Inflight wifi service&#x27;,\n",
       "                                                   &#x27;Departure/Arrival time &#x27;\n",
       "                                                   &#x27;convenient&#x27;,\n",
       "                                                   &#x27;Ease of Online booking&#x27;,\n",
       "                                                   &#x27;Gate location&#x27;,\n",
       "                                                   &#x27;Food and drink&#x27;,\n",
       "                                                   &#x27;Online boarding&#x27;,\n",
       "                                                   &#x27;Seat comfort&#x27;,\n",
       "                                                   &#x27;Inflight entertainment&#x27;...\n",
       "                                                   &#x27;Cleanliness&#x27;,\n",
       "                                                   &#x27;Departure Delay in Minutes&#x27;,\n",
       "                                                   &#x27;Arrival Delay in Minutes&#x27;]),\n",
       "                                                 (&#x27;cat&#x27;,\n",
       "                                                  OneHotEncoder(handle_unknown=&#x27;ignore&#x27;),\n",
       "                                                  [&#x27;Gender&#x27;, &#x27;Customer Type&#x27;,\n",
       "                                                   &#x27;Type of Travel&#x27;,\n",
       "                                                   &#x27;Class&#x27;])])),\n",
       "                (&#x27;nn&#x27;,\n",
       "                 KerasClassifier(callbacks=[&lt;keras.callbacks.EarlyStopping object at 0x000002A90EFC89D0&gt;], epochs=100, model=&lt;keras.engine.sequential.Sequential object at 0x000002A917017790&gt;, validation_split=0.3))])</pre></div></div></div><div class=\"sk-serial\"><div class=\"sk-item sk-dashed-wrapped\"><div class=\"sk-label-container\"><div class=\"sk-label sk-toggleable\"><input class=\"sk-toggleable__control sk-hidden--visually\" id=\"sk-estimator-id-19\" type=\"checkbox\" ><label for=\"sk-estimator-id-19\" class=\"sk-toggleable__label sk-toggleable__label-arrow\">preprocessor: ColumnTransformer</label><div class=\"sk-toggleable__content\"><pre>ColumnTransformer(transformers=[(&#x27;num&#x27;,\n",
       "                                 Pipeline(steps=[(&#x27;imputer&#x27;,\n",
       "                                                  SimpleImputer(strategy=&#x27;median&#x27;)),\n",
       "                                                 (&#x27;scaler&#x27;, StandardScaler())]),\n",
       "                                 [&#x27;Age&#x27;, &#x27;Flight Distance&#x27;,\n",
       "                                  &#x27;Inflight wifi service&#x27;,\n",
       "                                  &#x27;Departure/Arrival time convenient&#x27;,\n",
       "                                  &#x27;Ease of Online booking&#x27;, &#x27;Gate location&#x27;,\n",
       "                                  &#x27;Food and drink&#x27;, &#x27;Online boarding&#x27;,\n",
       "                                  &#x27;Seat comfort&#x27;, &#x27;Inflight entertainment&#x27;,\n",
       "                                  &#x27;On-board service&#x27;, &#x27;Leg room service&#x27;,\n",
       "                                  &#x27;Baggage handling&#x27;, &#x27;Checkin service&#x27;,\n",
       "                                  &#x27;Inflight service&#x27;, &#x27;Cleanliness&#x27;,\n",
       "                                  &#x27;Departure Delay in Minutes&#x27;,\n",
       "                                  &#x27;Arrival Delay in Minutes&#x27;]),\n",
       "                                (&#x27;cat&#x27;, OneHotEncoder(handle_unknown=&#x27;ignore&#x27;),\n",
       "                                 [&#x27;Gender&#x27;, &#x27;Customer Type&#x27;, &#x27;Type of Travel&#x27;,\n",
       "                                  &#x27;Class&#x27;])])</pre></div></div></div><div class=\"sk-parallel\"><div class=\"sk-parallel-item\"><div class=\"sk-item\"><div class=\"sk-label-container\"><div class=\"sk-label sk-toggleable\"><input class=\"sk-toggleable__control sk-hidden--visually\" id=\"sk-estimator-id-20\" type=\"checkbox\" ><label for=\"sk-estimator-id-20\" class=\"sk-toggleable__label sk-toggleable__label-arrow\">num</label><div class=\"sk-toggleable__content\"><pre>[&#x27;Age&#x27;, &#x27;Flight Distance&#x27;, &#x27;Inflight wifi service&#x27;, &#x27;Departure/Arrival time convenient&#x27;, &#x27;Ease of Online booking&#x27;, &#x27;Gate location&#x27;, &#x27;Food and drink&#x27;, &#x27;Online boarding&#x27;, &#x27;Seat comfort&#x27;, &#x27;Inflight entertainment&#x27;, &#x27;On-board service&#x27;, &#x27;Leg room service&#x27;, &#x27;Baggage handling&#x27;, &#x27;Checkin service&#x27;, &#x27;Inflight service&#x27;, &#x27;Cleanliness&#x27;, &#x27;Departure Delay in Minutes&#x27;, &#x27;Arrival Delay in Minutes&#x27;]</pre></div></div></div><div class=\"sk-serial\"><div class=\"sk-item\"><div class=\"sk-serial\"><div class=\"sk-item\"><div class=\"sk-estimator sk-toggleable\"><input class=\"sk-toggleable__control sk-hidden--visually\" id=\"sk-estimator-id-21\" type=\"checkbox\" ><label for=\"sk-estimator-id-21\" class=\"sk-toggleable__label sk-toggleable__label-arrow\">SimpleImputer</label><div class=\"sk-toggleable__content\"><pre>SimpleImputer(strategy=&#x27;median&#x27;)</pre></div></div></div><div class=\"sk-item\"><div class=\"sk-estimator sk-toggleable\"><input class=\"sk-toggleable__control sk-hidden--visually\" id=\"sk-estimator-id-22\" type=\"checkbox\" ><label for=\"sk-estimator-id-22\" class=\"sk-toggleable__label sk-toggleable__label-arrow\">StandardScaler</label><div class=\"sk-toggleable__content\"><pre>StandardScaler()</pre></div></div></div></div></div></div></div></div><div class=\"sk-parallel-item\"><div class=\"sk-item\"><div class=\"sk-label-container\"><div class=\"sk-label sk-toggleable\"><input class=\"sk-toggleable__control sk-hidden--visually\" id=\"sk-estimator-id-23\" type=\"checkbox\" ><label for=\"sk-estimator-id-23\" class=\"sk-toggleable__label sk-toggleable__label-arrow\">cat</label><div class=\"sk-toggleable__content\"><pre>[&#x27;Gender&#x27;, &#x27;Customer Type&#x27;, &#x27;Type of Travel&#x27;, &#x27;Class&#x27;]</pre></div></div></div><div class=\"sk-serial\"><div class=\"sk-item\"><div class=\"sk-estimator sk-toggleable\"><input class=\"sk-toggleable__control sk-hidden--visually\" id=\"sk-estimator-id-24\" type=\"checkbox\" ><label for=\"sk-estimator-id-24\" class=\"sk-toggleable__label sk-toggleable__label-arrow\">OneHotEncoder</label><div class=\"sk-toggleable__content\"><pre>OneHotEncoder(handle_unknown=&#x27;ignore&#x27;)</pre></div></div></div></div></div></div></div></div><div class=\"sk-item\"><div class=\"sk-estimator sk-toggleable\"><input class=\"sk-toggleable__control sk-hidden--visually\" id=\"sk-estimator-id-25\" type=\"checkbox\" ><label for=\"sk-estimator-id-25\" class=\"sk-toggleable__label sk-toggleable__label-arrow\">KerasClassifier</label><div class=\"sk-toggleable__content\"><pre>KerasClassifier(\n",
       "\tmodel=&lt;keras.engine.sequential.Sequential object at 0x000002A917017790&gt;\n",
       "\tbuild_fn=None\n",
       "\twarm_start=False\n",
       "\trandom_state=None\n",
       "\toptimizer=rmsprop\n",
       "\tloss=None\n",
       "\tmetrics=None\n",
       "\tbatch_size=None\n",
       "\tvalidation_batch_size=None\n",
       "\tverbose=1\n",
       "\tcallbacks=[&lt;keras.callbacks.EarlyStopping object at 0x000002A90EFC89D0&gt;]\n",
       "\tvalidation_split=0.3\n",
       "\tshuffle=True\n",
       "\trun_eagerly=False\n",
       "\tepochs=100\n",
       "\tclass_weight=None\n",
       ")</pre></div></div></div></div></div></div></div>"
      ],
      "text/plain": [
       "Pipeline(steps=[('preprocessor',\n",
       "                 ColumnTransformer(transformers=[('num',\n",
       "                                                  Pipeline(steps=[('imputer',\n",
       "                                                                   SimpleImputer(strategy='median')),\n",
       "                                                                  ('scaler',\n",
       "                                                                   StandardScaler())]),\n",
       "                                                  ['Age', 'Flight Distance',\n",
       "                                                   'Inflight wifi service',\n",
       "                                                   'Departure/Arrival time '\n",
       "                                                   'convenient',\n",
       "                                                   'Ease of Online booking',\n",
       "                                                   'Gate location',\n",
       "                                                   'Food and drink',\n",
       "                                                   'Online boarding',\n",
       "                                                   'Seat comfort',\n",
       "                                                   'Inflight entertainment'...\n",
       "                                                   'Cleanliness',\n",
       "                                                   'Departure Delay in Minutes',\n",
       "                                                   'Arrival Delay in Minutes']),\n",
       "                                                 ('cat',\n",
       "                                                  OneHotEncoder(handle_unknown='ignore'),\n",
       "                                                  ['Gender', 'Customer Type',\n",
       "                                                   'Type of Travel',\n",
       "                                                   'Class'])])),\n",
       "                ('nn',\n",
       "                 KerasClassifier(callbacks=[<keras.callbacks.EarlyStopping object at 0x000002A90EFC89D0>], epochs=100, model=<keras.engine.sequential.Sequential object at 0x000002A917017790>, validation_split=0.3))])"
      ]
     },
     "execution_count": 114,
     "metadata": {},
     "output_type": "execute_result"
    }
   ],
   "source": [
    "pipe_nn.fit(X_train, y_train)"
   ]
  },
  {
   "cell_type": "code",
   "execution_count": 115,
   "id": "f3c51fb0",
   "metadata": {
    "ExecuteTime": {
     "end_time": "2022-12-01T15:44:01.503128Z",
     "start_time": "2022-12-01T15:43:54.362795Z"
    }
   },
   "outputs": [
    {
     "name": "stdout",
     "output_type": "stream",
     "text": [
      "\n",
      "Metrics of train:\n",
      "\n",
      "2349/2349 [==============================] - 2s 935us/step\n",
      "                         precision    recall  f1-score   support\n",
      "\n",
      "neutral or dissatisfied       0.95      0.98      0.97     41183\n",
      "              satisfied       0.98      0.93      0.96     33982\n",
      "\n",
      "               accuracy                           0.96     75165\n",
      "              macro avg       0.96      0.96      0.96     75165\n",
      "           weighted avg       0.96      0.96      0.96     75165\n",
      "\n",
      "################################################################################\n",
      "\n",
      "Metrics of test:\n",
      "\n",
      "812/812 [==============================] - 1s 1ms/step\n",
      "                         precision    recall  f1-score   support\n",
      "\n",
      "neutral or dissatisfied       0.90      0.98      0.94     14573\n",
      "              satisfied       0.98      0.86      0.91     11403\n",
      "\n",
      "               accuracy                           0.93     25976\n",
      "              macro avg       0.94      0.92      0.93     25976\n",
      "           weighted avg       0.93      0.93      0.93     25976\n",
      "\n"
     ]
    }
   ],
   "source": [
    "# ================================\n",
    "clf_metrics(pipe_nn, X_train, y_train, \"train\")\n",
    "print(\"#\"*80)\n",
    "clf_metrics(pipe_nn, X_test, y_test, \"test\")"
   ]
  },
  {
   "cell_type": "markdown",
   "id": "8b0aa0cb",
   "metadata": {},
   "source": [
    "From the metrics above, we see that a simple neural network performs really well too."
   ]
  }
 ],
 "metadata": {
  "kernelspec": {
   "display_name": "Python 3 (ipykernel)",
   "language": "python",
   "name": "python3"
  },
  "language_info": {
   "codemirror_mode": {
    "name": "ipython",
    "version": 3
   },
   "file_extension": ".py",
   "mimetype": "text/x-python",
   "name": "python",
   "nbconvert_exporter": "python",
   "pygments_lexer": "ipython3",
   "version": "3.9.7"
  }
 },
 "nbformat": 4,
 "nbformat_minor": 5
}
